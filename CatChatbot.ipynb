{
 "cells": [
  {
   "cell_type": "markdown",
   "metadata": {},
   "source": [
    "# The Cat Expert Bot"
   ]
  },
  {
   "cell_type": "markdown",
   "metadata": {},
   "source": [
    "Install the nesesary stuff"
   ]
  },
  {
   "cell_type": "code",
   "execution_count": null,
   "metadata": {},
   "outputs": [],
   "source": [
    "# Installation command\n",
    "%pip install -r requirements.txt\n"
   ]
  },
  {
   "cell_type": "code",
   "execution_count": null,
   "metadata": {},
   "outputs": [],
   "source": [
    "#%pip install pytube\n",
    "#%pip install --upgrade pytube\n",
    "#%pip install yt-dlp\n",
    "#%pip install moviepy\n",
    "#%pip install whisper\n",
    "#%pip install chromadb sentence-transformers\n",
    "#%pip install git+https://github.com/openai/whisper.git\n",
    "#%pip install pytubefix\n",
    "#%pip install chromadb\n",
    "#%pip install langchain\n",
    "#%pip install openai\n",
    "#%pip install opencv-python\n",
    "#%pip install langchain_openai\n",
    "#%pip install --upgrade huggingface_hub\n",
    "#%pip install --upgrade sentence-transformers\n",
    "\n",
    "\n"
   ]
  },
  {
   "cell_type": "markdown",
   "metadata": {},
   "source": [
    "# Load the key"
   ]
  },
  {
   "cell_type": "code",
   "execution_count": 3,
   "metadata": {},
   "outputs": [],
   "source": [
    "from dotenv import load_dotenv\n",
    "import os\n",
    "import langsmith\n",
    "\n",
    "# Specify the path to the .env file\n",
    "dotenv_path = \"./notebooks/apikey.env\" #Change if your env is in a diffretn folder\n",
    "load_dotenv(dotenv_path)\n",
    "\n",
    "# Ensure required environment variables are loaded\n",
    "OPENAI_API_KEY = os.getenv(\"OPENAI_API_KEY\")\n",
    "LANGCHAIN_API_KEY = os.getenv(\"LANGCHAIN_API_KEY\")\n",
    "HUGGINGFACEHUB_API_TOKEN = os.getenv(\"HUGGINGFACEHUB_API_TOKEN\")\n",
    "\n",
    "# Check if all environment variables are set; raise an error if any are missing\n",
    "if not all([OPENAI_API_KEY, LANGCHAIN_API_KEY, HUGGINGFACEHUB_API_TOKEN]):\n",
    "    raise ValueError(\"Some required API keys are missing in the .env file.\")\n",
    "\n",
    "# Enable LangSmith tracing with environment variables\n",
    "os.environ[\"LANGCHAIN_TRACING_V2\"] = \"true\"\n",
    "os.environ[\"LANGCHAIN_ENDPOINT\"] = \"https://api.smith.langchain.com\"\n",
    "os.environ[\"LANGCHAIN_PROJECT\"] = \"cat_expert_knowledge\"\n",
    "\n",
    "# Initialize LangSmith Client\n",
    "from langsmith import Client\n",
    "client = Client(api_key=LANGCHAIN_API_KEY)\n"
   ]
  },
  {
   "cell_type": "code",
   "execution_count": 4,
   "metadata": {},
   "outputs": [
    {
     "name": "stdout",
     "output_type": "stream",
     "text": [
      "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\n"
     ]
    },
    {
     "data": {
      "text/plain": [
       "'/notebooks'"
      ]
     },
     "execution_count": 4,
     "metadata": {},
     "output_type": "execute_result"
    }
   ],
   "source": [
    "print (LANGCHAIN_API_KEY)\n",
    "import os\n",
    "os.path.abspath(os.getcwd())"
   ]
  },
  {
   "cell_type": "code",
   "execution_count": 5,
   "metadata": {},
   "outputs": [
    {
     "data": {
      "text/plain": [
       "AIMessage(content='Hello! How can I assist you today?', additional_kwargs={'refusal': None}, response_metadata={'token_usage': {'completion_tokens': 9, 'prompt_tokens': 11, 'total_tokens': 20, 'completion_tokens_details': {'accepted_prediction_tokens': 0, 'audio_tokens': 0, 'reasoning_tokens': 0, 'rejected_prediction_tokens': 0}, 'prompt_tokens_details': {'audio_tokens': 0, 'cached_tokens': 0}}, 'model_name': 'gpt-3.5-turbo-0125', 'system_fingerprint': None, 'finish_reason': 'stop', 'logprobs': None}, id='run-555b8aef-49a0-46a4-9a95-fdb7163dd0de-0', usage_metadata={'input_tokens': 11, 'output_tokens': 9, 'total_tokens': 20, 'input_token_details': {'audio': 0, 'cache_read': 0}, 'output_token_details': {'audio': 0, 'reasoning': 0}})"
      ]
     },
     "execution_count": 5,
     "metadata": {},
     "output_type": "execute_result"
    }
   ],
   "source": [
    "from langchain_openai import ChatOpenAI\n",
    "\n",
    "llm = ChatOpenAI()\n",
    "llm.invoke(\"Hello, world!\")"
   ]
  },
  {
   "cell_type": "markdown",
   "metadata": {},
   "source": [
    "Load the videos to learn.\n",
    "Video to Audio"
   ]
  },
  {
   "cell_type": "code",
   "execution_count": 6,
   "metadata": {},
   "outputs": [
    {
     "name": "stdout",
     "output_type": "stream",
     "text": [
      "Already downloaded: https://youtu.be/ZUcVUFvmDFE?si=z9GfOAWF1qothiKs\n",
      "Already downloaded: https://youtu.be/4DlJYcfiRu4?si=cUVT9L5dEEdkcSt_\n",
      "Already downloaded: https://youtu.be/rxInrRQLEmM?si=Ai7wHN0dI--cns0x\n",
      "Already downloaded: https://youtu.be/gxlNfh5ukMw?si=naO3n4VZeXx3PlOs\n",
      "Already downloaded: https://youtu.be/ojS7XwtoXtw?si=NpNSef7dCm_LnFPv\n",
      "Already downloaded: https://youtu.be/tsYT7yIOdqQ?si=hdGEpxlmFNMf7NNQ\n",
      "Already downloaded: https://youtu.be/tsYT7yIOdqQ?si=e_Zdh2dGpqempHR8\n",
      "Already downloaded: https://youtu.be/UWohxDOXsl4?si=y1nXlUZYw6uzkc8n\n",
      "Already downloaded: https://youtu.be/gZrwcoiy_gY?si=ksfYE03t6xtuxUL0\n",
      "Already downloaded: https://youtu.be/lSDI5diNu4Y?si=Q-In6zMD4ZpuaPIz\n",
      "Already downloaded: https://youtu.be/8aCGL9GpVUg?si=_0yF1U1thjwJqyPY\n",
      "Already downloaded: https://youtu.be/VjOXvD7OvrE?si=t6xugNxLeMjpsi7E\n",
      "Already downloaded: https://youtu.be/FzifwTnCV5s?si=sR_u4kG-4NoQx5Ux\n",
      "Already downloaded: https://youtu.be/XreeFU7RYeI?si=hsc9WO24dJP6AfV2\n",
      "Already downloaded: https://youtu.be/-4O97jw_8Bc?si=pC14dgZ_f4mXdYPv\n"
     ]
    }
   ],
   "source": [
    "from pytubefix import YouTube\n",
    "import os\n",
    "import hashlib\n",
    "\n",
    "# Define the directory for downloaded audio files\n",
    "output_path = \"path/to/m4a\"\n",
    "os.makedirs(output_path, exist_ok=True)  # Ensure the directory exists\n",
    "\n",
    "# Replace with your list of YouTube URLs\n",
    "video_urls = [\"https://youtu.be/ZUcVUFvmDFE?si=z9GfOAWF1qothiKs\", \n",
    "            \"https://youtu.be/4DlJYcfiRu4?si=cUVT9L5dEEdkcSt_\", \n",
    "            \"https://youtu.be/rxInrRQLEmM?si=Ai7wHN0dI--cns0x\", \n",
    "            \"https://youtu.be/gxlNfh5ukMw?si=naO3n4VZeXx3PlOs\", \n",
    "            \"https://youtu.be/ojS7XwtoXtw?si=NpNSef7dCm_LnFPv\", \n",
    "            \"https://youtu.be/tsYT7yIOdqQ?si=hdGEpxlmFNMf7NNQ\", \n",
    "            \"https://youtu.be/tsYT7yIOdqQ?si=e_Zdh2dGpqempHR8\", \n",
    "            \"https://youtu.be/UWohxDOXsl4?si=y1nXlUZYw6uzkc8n\", \n",
    "            \"https://youtu.be/gZrwcoiy_gY?si=ksfYE03t6xtuxUL0\", \n",
    "            \"https://youtu.be/lSDI5diNu4Y?si=Q-In6zMD4ZpuaPIz\", \n",
    "            \"https://youtu.be/8aCGL9GpVUg?si=_0yF1U1thjwJqyPY\", \n",
    "            \"https://youtu.be/VjOXvD7OvrE?si=t6xugNxLeMjpsi7E\", \n",
    "            \"https://youtu.be/FzifwTnCV5s?si=sR_u4kG-4NoQx5Ux\", \n",
    "            \"https://youtu.be/XreeFU7RYeI?si=hsc9WO24dJP6AfV2\", \n",
    "            \"https://youtu.be/-4O97jw_8Bc?si=pC14dgZ_f4mXdYPv\" ]\n",
    "\n",
    "# Function to create a unique filename from URL\n",
    "def generate_filename(url, extension=\"m4a\"):\n",
    "    \"\"\"Creates a unique filename for each URL based on its hash.\"\"\"\n",
    "    return hashlib.md5(url.encode()).hexdigest() + f\".{extension}\"\n",
    "\n",
    "# Download each video as audio and handle errors\n",
    "failed_downloads = []  # To log any failed downloads\n",
    "\n",
    "for url in video_urls:\n",
    "    # Generate filename and check if it exists\n",
    "    filename = generate_filename(url)\n",
    "    file_path = os.path.join(output_path, filename)\n",
    "    \n",
    "    if os.path.exists(file_path):\n",
    "        print(f\"Already downloaded: {url}\")\n",
    "        continue  # Skip downloading if file exists\n",
    "    \n",
    "    # Download video if not already downloaded\n",
    "    try:\n",
    "        yt = YouTube(url)\n",
    "        video = yt.streams.filter(only_audio=True).first()\n",
    "        video.download(output_path=output_path, filename=filename)\n",
    "        print(f\"Downloaded: {url}\")\n",
    "    except Exception as e:\n",
    "        print(f\"Failed to download {url}: {e}\")\n",
    "        failed_downloads.append(url)\n",
    "\n",
    "# Optional: log failed downloads if any\n",
    "if failed_downloads:\n",
    "    print(\"Failed Downloads:\", failed_downloads)\n",
    "    # You could write these to a log file for later review"
   ]
  },
  {
   "cell_type": "markdown",
   "metadata": {},
   "source": [
    "# Transcriptions done by Whisper"
   ]
  },
  {
   "cell_type": "code",
   "execution_count": 142,
   "metadata": {},
   "outputs": [
    {
     "name": "stdout",
     "output_type": "stream",
     "text": [
      "Transcribed and saved: /notebooks/path/to/transcriptions/c4181c7e744aaaae5aaf7e234e39a17e.txt\n",
      "Transcribed and saved: /notebooks/path/to/transcriptions/c813c650315977e7da699c0b2d52799d.txt\n",
      "Transcribed and saved: /notebooks/path/to/transcriptions/When Cat Introductions Get UGLY.txt\n",
      "Transcribed and saved: /notebooks/path/to/transcriptions/6e43a9a97ff958b094ee86b59d6fa433.txt\n",
      "Transcribed and saved: /notebooks/path/to/transcriptions/Can my Cats Get Along? Cat-to-Cat Body Language basics & Introduction Tips.txt\n",
      "Transcribed and saved: /notebooks/path/to/transcriptions/How To Introduce Your Cat to a New KITTEN!.txt\n",
      "Transcribed and saved: /notebooks/path/to/transcriptions/How to Introduce Cats.txt\n",
      "Transcribed and saved: /notebooks/path/to/transcriptions/Are My Cats Playing or Fighting? | Cat Playing vs Cat Aggression.txt\n",
      "Transcribed and saved: /notebooks/path/to/transcriptions/Cat Introductions Gone Wrong: They Will NOT Work it Out Without You.txt\n",
      "Transcribed and saved: /notebooks/path/to/transcriptions/55340c0bd9e5d16b88d7bdc38908eccc.txt\n",
      "Transcribed and saved: /notebooks/path/to/transcriptions/14744c59f76c5a6fb10402ccdd3e280e.txt\n",
      "Transcribed and saved: /notebooks/path/to/transcriptions/4c4c7f472299b10d74dee0ecdc941b3b.txt\n",
      "Transcribed and saved: /notebooks/path/to/transcriptions/This was BAD!! 🙀🤯🫣 #shorts.txt\n",
      "Transcribed and saved: /notebooks/path/to/transcriptions/f72adde394a4d4b403421fd7bb5324fb.txt\n",
      "Transcribed and saved: /notebooks/path/to/transcriptions/The Do's & Don'ts of Introducing Cats.txt\n",
      "Transcribed and saved: /notebooks/path/to/transcriptions/0ad0281d64cf5d1e366881ec6adfbd9f.txt\n",
      "Transcribed and saved: /notebooks/path/to/transcriptions/b81b63d4601ef135d3641d91fa8e5920.txt\n",
      "Transcribed and saved: /notebooks/path/to/transcriptions/Cat Introductions: Good First Impressions are a must!.txt\n",
      "Transcribed and saved: /notebooks/path/to/transcriptions/The Best Way To Introduce Your Two Cats.txt\n",
      "Transcribed and saved: /notebooks/path/to/transcriptions/Cat Introductions: Does your Senior Need A Friend?.txt\n",
      "Transcribed and saved: /notebooks/path/to/transcriptions/89438d05ab80fbaad4194f97dcf8f786.txt\n",
      "Transcribed and saved: /notebooks/path/to/transcriptions/de747e570a36df03149fca7596d7686e.txt\n",
      "Transcribed and saved: /notebooks/path/to/transcriptions/Why You Should Get Another Cat.txt\n",
      "Transcribed and saved: /notebooks/path/to/transcriptions/Can Cats & Dogs Be Friends? | Jackson Galaxy.txt\n",
      "Transcribed and saved: /notebooks/path/to/transcriptions/fa8c74567ee31f6e4bdfc0abb681f0a4.txt\n",
      "Transcribed and saved: /notebooks/path/to/transcriptions/55f9f04d946d68dcac4bff1b1292a8c5.txt\n",
      "Transcribed and saved: /notebooks/path/to/transcriptions/Brady Bunching: Introducing Two Groups of Cats.txt\n",
      "Transcribed and saved: /notebooks/path/to/transcriptions/f6d781840478116e21403e46776c5d21.txt\n",
      "Transcribed and saved: /notebooks/path/to/transcriptions/23e9e0c657974c427119ed6e734c704d.txt\n"
     ]
    }
   ],
   "source": [
    "import whisper\n",
    "import os\n",
    "\n",
    "# Load Whisper model\n",
    "model = whisper.load_model(\"base\")\n",
    "\n",
    "# Directory containing your .m4a files\n",
    "audio_dir = \"/notebooks/path/to/m4a/\"\n",
    "transcription_dir = \"/notebooks/path/to/transcriptions/\"\n",
    "\n",
    "# Ensure the transcription directory exists\n",
    "os.makedirs(transcription_dir, exist_ok=True)\n",
    "\n",
    "# List all .m4a files in the audio directory\n",
    "audio_files = [f for f in os.listdir(audio_dir) if f.endswith(\".m4a\")]\n",
    "\n",
    "# Transcribe each audio file and save it as a .txt file\n",
    "for audio_file in audio_files:\n",
    "    audio_path = os.path.join(audio_dir, audio_file)\n",
    "    try:\n",
    "        transcription = model.transcribe(audio_path)\n",
    "\n",
    "        # Save transcription to a .txt file\n",
    "        \n",
    "        transcription_file = os.path.join(transcription_dir, audio_file.replace(\".m4a\", \".txt\"))\n",
    "        with open(transcription_file, \"w\") as f:\n",
    "            f.write(transcription['text'])\n",
    "        print(f\"Transcribed and saved: {transcription_file}\")\n",
    "    except Exception as e:\n",
    "        print(f\"Failed to transcribe {audio_file}: {e}\")\n",
    "\n"
   ]
  },
  {
   "cell_type": "markdown",
   "metadata": {},
   "source": [
    "# Chromadb as Client and creation of Collection"
   ]
  },
  {
   "cell_type": "code",
   "execution_count": 7,
   "metadata": {},
   "outputs": [
    {
     "name": "stdout",
     "output_type": "stream",
     "text": [
      "Found transcription files: [\"path/to/transcriptions/The Do's & Don'ts of Introducing Cats.txt\", 'path/to/transcriptions/c813c650315977e7da699c0b2d52799d.txt', 'path/to/transcriptions/55340c0bd9e5d16b88d7bdc38908eccc.txt', 'path/to/transcriptions/Can my Cats Get Along? Cat-to-Cat Body Language basics & Introduction Tips.txt', 'path/to/transcriptions/When Cat Introductions Get UGLY.txt', 'path/to/transcriptions/c4181c7e744aaaae5aaf7e234e39a17e.txt', 'path/to/transcriptions/fa8c74567ee31f6e4bdfc0abb681f0a4.txt', 'path/to/transcriptions/Brady Bunching: Introducing Two Groups of Cats.txt', 'path/to/transcriptions/Can Cats & Dogs Be Friends? | Jackson Galaxy.txt', 'path/to/transcriptions/b81b63d4601ef135d3641d91fa8e5920.txt', 'path/to/transcriptions/6e43a9a97ff958b094ee86b59d6fa433.txt', 'path/to/transcriptions/Cat Introductions: Good First Impressions are a must!.txt', 'path/to/transcriptions/How to Introduce Cats.txt', 'path/to/transcriptions/This was BAD!! 🙀🤯🫣 #shorts.txt', 'path/to/transcriptions/f6d781840478116e21403e46776c5d21.txt', 'path/to/transcriptions/14744c59f76c5a6fb10402ccdd3e280e.txt', 'path/to/transcriptions/89438d05ab80fbaad4194f97dcf8f786.txt', 'path/to/transcriptions/0ad0281d64cf5d1e366881ec6adfbd9f.txt', 'path/to/transcriptions/The Best Way To Introduce Your Two Cats.txt', 'path/to/transcriptions/Cat Introductions: Does your Senior Need A Friend?.txt', 'path/to/transcriptions/23e9e0c657974c427119ed6e734c704d.txt', 'path/to/transcriptions/de747e570a36df03149fca7596d7686e.txt', 'path/to/transcriptions/4c4c7f472299b10d74dee0ecdc941b3b.txt', 'path/to/transcriptions/f72adde394a4d4b403421fd7bb5324fb.txt', 'path/to/transcriptions/Why You Should Get Another Cat.txt', 'path/to/transcriptions/How To Introduce Your Cat to a New KITTEN!.txt', 'path/to/transcriptions/55f9f04d946d68dcac4bff1b1292a8c5.txt', 'path/to/transcriptions/Are My Cats Playing or Fighting? | Cat Playing vs Cat Aggression.txt', 'path/to/transcriptions/Cat Introductions Gone Wrong: They Will NOT Work it Out Without You.txt']\n"
     ]
    }
   ],
   "source": [
    "import os\n",
    "import glob\n",
    "\n",
    "# Define the directory for transcription files\n",
    "transcription_dir = \"path/to/transcriptions\"\n",
    "\n",
    "# Check if the directory exists\n",
    "if not os.path.exists(transcription_dir):\n",
    "    print(f\"The transcription directory {transcription_dir} does not exist.\")\n",
    "else:\n",
    "    # List transcription files\n",
    "    transcription_files = glob.glob(os.path.join(transcription_dir, \"*.txt\"))\n",
    "    if not transcription_files:\n",
    "        print(f\"No .txt transcription files found in {transcription_dir}.\")\n",
    "    else:\n",
    "        print(f\"Found transcription files: {transcription_files}\")\n"
   ]
  },
  {
   "cell_type": "code",
   "execution_count": 8,
   "metadata": {},
   "outputs": [
    {
     "data": {
      "application/vnd.jupyter.widget-view+json": {
       "model_id": "02141f49bc4e4c57ba37720a8e952a7c",
       "version_major": 2,
       "version_minor": 0
      },
      "text/plain": [
       ".gitattributes:   0%|          | 0.00/1.23k [00:00<?, ?B/s]"
      ]
     },
     "metadata": {},
     "output_type": "display_data"
    },
    {
     "data": {
      "application/vnd.jupyter.widget-view+json": {
       "model_id": "5c0a42250ca2416fa52331b956d356e9",
       "version_major": 2,
       "version_minor": 0
      },
      "text/plain": [
       "1_Pooling/config.json:   0%|          | 0.00/190 [00:00<?, ?B/s]"
      ]
     },
     "metadata": {},
     "output_type": "display_data"
    },
    {
     "data": {
      "application/vnd.jupyter.widget-view+json": {
       "model_id": "c5c9dd92b1d34a0688695d6b56e56fe1",
       "version_major": 2,
       "version_minor": 0
      },
      "text/plain": [
       "README.md:   0%|          | 0.00/10.7k [00:00<?, ?B/s]"
      ]
     },
     "metadata": {},
     "output_type": "display_data"
    },
    {
     "data": {
      "application/vnd.jupyter.widget-view+json": {
       "model_id": "90e6a1b62baa49de9d10a75f431246de",
       "version_major": 2,
       "version_minor": 0
      },
      "text/plain": [
       "config.json:   0%|          | 0.00/612 [00:00<?, ?B/s]"
      ]
     },
     "metadata": {},
     "output_type": "display_data"
    },
    {
     "data": {
      "application/vnd.jupyter.widget-view+json": {
       "model_id": "13f3e1b625174c14b6a9ad2c8be135e0",
       "version_major": 2,
       "version_minor": 0
      },
      "text/plain": [
       "config_sentence_transformers.json:   0%|          | 0.00/116 [00:00<?, ?B/s]"
      ]
     },
     "metadata": {},
     "output_type": "display_data"
    },
    {
     "data": {
      "application/vnd.jupyter.widget-view+json": {
       "model_id": "7c10399ad2e548febce3215d6b701395",
       "version_major": 2,
       "version_minor": 0
      },
      "text/plain": [
       "data_config.json:   0%|          | 0.00/39.3k [00:00<?, ?B/s]"
      ]
     },
     "metadata": {},
     "output_type": "display_data"
    },
    {
     "data": {
      "application/vnd.jupyter.widget-view+json": {
       "model_id": "27622c0794974421abb4b2fc28ab907b",
       "version_major": 2,
       "version_minor": 0
      },
      "text/plain": [
       "model.safetensors:   0%|          | 0.00/90.9M [00:00<?, ?B/s]"
      ]
     },
     "metadata": {},
     "output_type": "display_data"
    },
    {
     "data": {
      "application/vnd.jupyter.widget-view+json": {
       "model_id": "6057afcb6703474dab02db59005064f0",
       "version_major": 2,
       "version_minor": 0
      },
      "text/plain": [
       "model.onnx:   0%|          | 0.00/90.4M [00:00<?, ?B/s]"
      ]
     },
     "metadata": {},
     "output_type": "display_data"
    },
    {
     "data": {
      "application/vnd.jupyter.widget-view+json": {
       "model_id": "99d2281f49b84690a985d8960aa4d9e5",
       "version_major": 2,
       "version_minor": 0
      },
      "text/plain": [
       "model_O1.onnx:   0%|          | 0.00/90.4M [00:00<?, ?B/s]"
      ]
     },
     "metadata": {},
     "output_type": "display_data"
    },
    {
     "data": {
      "application/vnd.jupyter.widget-view+json": {
       "model_id": "dc4f46e5e3ab4a42b96153994fe542c6",
       "version_major": 2,
       "version_minor": 0
      },
      "text/plain": [
       "model_O2.onnx:   0%|          | 0.00/90.3M [00:00<?, ?B/s]"
      ]
     },
     "metadata": {},
     "output_type": "display_data"
    },
    {
     "data": {
      "application/vnd.jupyter.widget-view+json": {
       "model_id": "846ee91959a548b5b5a9134ddc813c99",
       "version_major": 2,
       "version_minor": 0
      },
      "text/plain": [
       "model_O3.onnx:   0%|          | 0.00/90.3M [00:00<?, ?B/s]"
      ]
     },
     "metadata": {},
     "output_type": "display_data"
    },
    {
     "data": {
      "application/vnd.jupyter.widget-view+json": {
       "model_id": "ff681bd2e0e640288be2d9cb67f39054",
       "version_major": 2,
       "version_minor": 0
      },
      "text/plain": [
       "model_O4.onnx:   0%|          | 0.00/45.2M [00:00<?, ?B/s]"
      ]
     },
     "metadata": {},
     "output_type": "display_data"
    },
    {
     "data": {
      "application/vnd.jupyter.widget-view+json": {
       "model_id": "dc72b3b18bb34e9c9007582e088d6f51",
       "version_major": 2,
       "version_minor": 0
      },
      "text/plain": [
       "model_qint8_arm64.onnx:   0%|          | 0.00/23.0M [00:00<?, ?B/s]"
      ]
     },
     "metadata": {},
     "output_type": "display_data"
    },
    {
     "data": {
      "application/vnd.jupyter.widget-view+json": {
       "model_id": "ea637ff72ec14be9b73a8ea99b8d69d1",
       "version_major": 2,
       "version_minor": 0
      },
      "text/plain": [
       "model_qint8_avx512.onnx:   0%|          | 0.00/23.0M [00:00<?, ?B/s]"
      ]
     },
     "metadata": {},
     "output_type": "display_data"
    },
    {
     "data": {
      "application/vnd.jupyter.widget-view+json": {
       "model_id": "9ce412fabc144c55b84e11c4ebb6788d",
       "version_major": 2,
       "version_minor": 0
      },
      "text/plain": [
       "model_qint8_avx512_vnni.onnx:   0%|          | 0.00/23.0M [00:00<?, ?B/s]"
      ]
     },
     "metadata": {},
     "output_type": "display_data"
    },
    {
     "data": {
      "application/vnd.jupyter.widget-view+json": {
       "model_id": "8076914040b6464089098b9435bcaaef",
       "version_major": 2,
       "version_minor": 0
      },
      "text/plain": [
       "model_quint8_avx2.onnx:   0%|          | 0.00/23.0M [00:00<?, ?B/s]"
      ]
     },
     "metadata": {},
     "output_type": "display_data"
    },
    {
     "data": {
      "application/vnd.jupyter.widget-view+json": {
       "model_id": "52526e6aae7b4a88a908dbad12b97d46",
       "version_major": 2,
       "version_minor": 0
      },
      "text/plain": [
       "openvino_model.bin:   0%|          | 0.00/90.3M [00:00<?, ?B/s]"
      ]
     },
     "metadata": {},
     "output_type": "display_data"
    },
    {
     "data": {
      "application/vnd.jupyter.widget-view+json": {
       "model_id": "dc736f82c52d4d919c6e92486f71c184",
       "version_major": 2,
       "version_minor": 0
      },
      "text/plain": [
       "openvino/openvino_model.xml:   0%|          | 0.00/211k [00:00<?, ?B/s]"
      ]
     },
     "metadata": {},
     "output_type": "display_data"
    },
    {
     "data": {
      "application/vnd.jupyter.widget-view+json": {
       "model_id": "8fb2a71de59241f3b905b781fa7ed7a7",
       "version_major": 2,
       "version_minor": 0
      },
      "text/plain": [
       "openvino_model_qint8_quantized.bin:   0%|          | 0.00/22.9M [00:00<?, ?B/s]"
      ]
     },
     "metadata": {},
     "output_type": "display_data"
    },
    {
     "data": {
      "application/vnd.jupyter.widget-view+json": {
       "model_id": "fc8aab5ead6a45c5a0580f1ffc21a279",
       "version_major": 2,
       "version_minor": 0
      },
      "text/plain": [
       "(…)nvino/openvino_model_qint8_quantized.xml:   0%|          | 0.00/368k [00:00<?, ?B/s]"
      ]
     },
     "metadata": {},
     "output_type": "display_data"
    },
    {
     "data": {
      "application/vnd.jupyter.widget-view+json": {
       "model_id": "47b1e632292f47aeaba5b97fb652fb38",
       "version_major": 2,
       "version_minor": 0
      },
      "text/plain": [
       "pytorch_model.bin:   0%|          | 0.00/90.9M [00:00<?, ?B/s]"
      ]
     },
     "metadata": {},
     "output_type": "display_data"
    },
    {
     "data": {
      "application/vnd.jupyter.widget-view+json": {
       "model_id": "77dcd83647ac437c83c5e6318401f08c",
       "version_major": 2,
       "version_minor": 0
      },
      "text/plain": [
       "sentence_bert_config.json:   0%|          | 0.00/53.0 [00:00<?, ?B/s]"
      ]
     },
     "metadata": {},
     "output_type": "display_data"
    },
    {
     "data": {
      "application/vnd.jupyter.widget-view+json": {
       "model_id": "45d7f337e77f44268af07fbf88cb5e67",
       "version_major": 2,
       "version_minor": 0
      },
      "text/plain": [
       "special_tokens_map.json:   0%|          | 0.00/112 [00:00<?, ?B/s]"
      ]
     },
     "metadata": {},
     "output_type": "display_data"
    },
    {
     "data": {
      "application/vnd.jupyter.widget-view+json": {
       "model_id": "3e0234cbfab940afa245b051e1afa90e",
       "version_major": 2,
       "version_minor": 0
      },
      "text/plain": [
       "tokenizer.json:   0%|          | 0.00/466k [00:00<?, ?B/s]"
      ]
     },
     "metadata": {},
     "output_type": "display_data"
    },
    {
     "data": {
      "application/vnd.jupyter.widget-view+json": {
       "model_id": "06bb4827e7ca46de912b9b63321850ed",
       "version_major": 2,
       "version_minor": 0
      },
      "text/plain": [
       "tokenizer_config.json:   0%|          | 0.00/350 [00:00<?, ?B/s]"
      ]
     },
     "metadata": {},
     "output_type": "display_data"
    },
    {
     "data": {
      "application/vnd.jupyter.widget-view+json": {
       "model_id": "a5be98fa56274aff9c495438bedb3b42",
       "version_major": 2,
       "version_minor": 0
      },
      "text/plain": [
       "train_script.py:   0%|          | 0.00/13.2k [00:00<?, ?B/s]"
      ]
     },
     "metadata": {},
     "output_type": "display_data"
    },
    {
     "data": {
      "application/vnd.jupyter.widget-view+json": {
       "model_id": "b47fa370e258448eaa6efae1989d9f9a",
       "version_major": 2,
       "version_minor": 0
      },
      "text/plain": [
       "vocab.txt:   0%|          | 0.00/232k [00:00<?, ?B/s]"
      ]
     },
     "metadata": {},
     "output_type": "display_data"
    },
    {
     "data": {
      "application/vnd.jupyter.widget-view+json": {
       "model_id": "33c30970dab54ee68858b9d49d5c3fd3",
       "version_major": 2,
       "version_minor": 0
      },
      "text/plain": [
       "modules.json:   0%|          | 0.00/349 [00:00<?, ?B/s]"
      ]
     },
     "metadata": {},
     "output_type": "display_data"
    },
    {
     "name": "stderr",
     "output_type": "stream",
     "text": [
      "/root/.cache/chroma/onnx_models/all-MiniLM-L6-v2/onnx.tar.gz: 100%|██████████| 79.3M/79.3M [00:00<00:00, 121MiB/s] \n"
     ]
    },
    {
     "name": "stdout",
     "output_type": "stream",
     "text": [
      "Document with ID b64775dda1d19800faf705fc285d0b39 already exists in ChromaDB. Skipping.\n",
      "Document with ID b64775dda1d19800faf705fc285d0b39 already exists in ChromaDB. Skipping.\n",
      "Document with ID fd4d02a8b57e29119b6790372d447c5c already exists in ChromaDB. Skipping.\n",
      "Document with ID f7a1458125d530bc7f93a9d9121cec6d already exists in ChromaDB. Skipping.\n",
      "Document with ID 74bd2f092ea3b48dfd88b46de587a71f already exists in ChromaDB. Skipping.\n",
      "Document with ID b472d1bcb7e3082fc1e88755987ab76a already exists in ChromaDB. Skipping.\n",
      "Document with ID 099c99dd958dcdb0b42bf7a042932590 already exists in ChromaDB. Skipping.\n",
      "Document with ID 68c751d8986d924ff7bbb9325eebec7c already exists in ChromaDB. Skipping.\n",
      "Document with ID a015dbd299e90f7bf1f232372463a392 already exists in ChromaDB. Skipping.\n",
      "Document with ID fd4d02a8b57e29119b6790372d447c5c already exists in ChromaDB. Skipping.\n",
      "Document with ID 5535ae3ef6377118f115b87cf8582ab2 already exists in ChromaDB. Skipping.\n",
      "Document with ID ab240479c60573cc892d3bea54a3a8f8 already exists in ChromaDB. Skipping.\n",
      "Document with ID fd4d02a8b57e29119b6790372d447c5c already exists in ChromaDB. Skipping.\n",
      "Document with ID 299089fe015d28b760822c8cbf8e2c44 already exists in ChromaDB. Skipping.\n",
      "Document with ID 6f37365c9ccd1f406e93acdef46ad7e6 already exists in ChromaDB. Skipping.\n",
      "Document with ID 2e82731fe037f0c553f2955f10997021 already exists in ChromaDB. Skipping.\n",
      "Document with ID a015dbd299e90f7bf1f232372463a392 already exists in ChromaDB. Skipping.\n",
      "Document with ID 299089fe015d28b760822c8cbf8e2c44 already exists in ChromaDB. Skipping.\n",
      "Document with ID b472d1bcb7e3082fc1e88755987ab76a already exists in ChromaDB. Skipping.\n",
      "Document with ID 1163d8cca31ca73809f853cb66fcb655 already exists in ChromaDB. Skipping.\n",
      "Document with ID ab240479c60573cc892d3bea54a3a8f8 already exists in ChromaDB. Skipping.\n",
      "Document with ID 68c751d8986d924ff7bbb9325eebec7c already exists in ChromaDB. Skipping.\n",
      "Document with ID 57afd9ce0376754bca1b4e1ee9e9aae6 already exists in ChromaDB. Skipping.\n",
      "Document with ID ea8717cbb557a0191247d346c71e800b already exists in ChromaDB. Skipping.\n",
      "Document with ID b53a02e0f85808d3c5850350b13892b5 already exists in ChromaDB. Skipping.\n",
      "Document with ID 5535ae3ef6377118f115b87cf8582ab2 already exists in ChromaDB. Skipping.\n",
      "Document with ID 601611fb525f2809f44ad6edfae23528 already exists in ChromaDB. Skipping.\n",
      "Document with ID 2e82731fe037f0c553f2955f10997021 already exists in ChromaDB. Skipping.\n",
      "Document with ID 099c99dd958dcdb0b42bf7a042932590 already exists in ChromaDB. Skipping.\n"
     ]
    }
   ],
   "source": [
    "import chromadb\n",
    "from sentence_transformers import SentenceTransformer\n",
    "import os\n",
    "import glob\n",
    "import hashlib\n",
    "\n",
    "# Initialize ChromaDB client and set up the collection\n",
    "client = chromadb.Client()\n",
    "\n",
    "# Check if the collection exists; create if not\n",
    "collection_name = \"cat_expert_knowledge\"\n",
    "if collection_name not in [col.name for col in client.list_collections()]:\n",
    "    collection = client.create_collection(collection_name)\n",
    "else:\n",
    "    collection = client.get_collection(collection_name)\n",
    "    print(f\"Using existing collection: {collection_name}\")\n",
    "\n",
    "# Load the embedding model\n",
    "embedding_model = SentenceTransformer('all-MiniLM-L6-v2')\n",
    "\n",
    "# Directory containing transcription files\n",
    "transcription_dir = \"path/to/transcriptions\"\n",
    "\n",
    "def generate_document_id(text):\n",
    "    \"\"\"Generate a unique hash ID for each document based on its text content.\"\"\"\n",
    "    return hashlib.md5(text.encode()).hexdigest()\n",
    "\n",
    "def add_document_to_chromadb(file_path, collection):\n",
    "    \"\"\"Adds a document to ChromaDB if it doesn't already exist.\"\"\"\n",
    "    # Read file content\n",
    "    with open(file_path, \"r\") as f:\n",
    "        text = f.read()\n",
    "    \n",
    "    # Generate a unique ID based on document content\n",
    "    doc_id = generate_document_id(text)\n",
    "    \n",
    "    # Query to check if this document hash already exists\n",
    "    existing_docs = collection.query(\n",
    "        query_texts=[doc_id], \n",
    "        where={\"topic\": doc_id}\n",
    "    )\n",
    "    if existing_docs['documents']:  # If results found, skip adding\n",
    "        print(f\"Document with ID {doc_id} already exists in ChromaDB. Skipping.\")\n",
    "        return\n",
    "    \n",
    "    # Embed the text and add to ChromaDB\n",
    "    embedding = embedding_model.encode(text).tolist()\n",
    "    collection.add(\n",
    "        ids=[doc_id],\n",
    "        documents=[text],\n",
    "        metadatas=[{\"topic\": doc_id, \"source\": file_path}],\n",
    "        embeddings=[embedding]\n",
    "    )\n",
    "    print(f\"Document {doc_id} added to ChromaDB.\")\n",
    "\n",
    "# Process each transcription file\n",
    "transcription_files = glob.glob(os.path.join(transcription_dir, \"*.txt\"))\n",
    "if not transcription_files:\n",
    "    print(\"No transcription files found in the specified directory.\")\n",
    "\n",
    "for transcription_file in transcription_files:\n",
    "    try:\n",
    "        add_document_to_chromadb(transcription_file, collection)\n",
    "    except Exception as e:\n",
    "        print(f\"Failed to add {transcription_file} to ChromaDB: {e}\")\n"
   ]
  },
  {
   "cell_type": "markdown",
   "metadata": {},
   "source": [
    "Old code works 1"
   ]
  },
  {
   "cell_type": "code",
   "execution_count": 10,
   "metadata": {
    "notebookRunGroups": {
     "groupValue": "2"
    }
   },
   "outputs": [
    {
     "name": "stdout",
     "output_type": "stream",
     "text": [
      "Transcriptions successfully stored in ChromaDB!\n"
     ]
    }
   ],
   "source": [
    "import chromadb\n",
    "from sentence_transformers import SentenceTransformer\n",
    "import glob\n",
    "\n",
    "# Initialize ChromaDB client and create a collection\n",
    "client = chromadb.Client()\n",
    "\n",
    "# Check if the collection exists; create if not\n",
    "if \"cat_expert_knowledge\" not in [col.name for col in client.list_collections()]:\n",
    "    collection = client.create_collection(\"cat_expert_knowledge\")\n",
    "else:\n",
    "    collection = client.get_collection(\"cat_expert_knowledge\")\n",
    "\n",
    "\n",
    "# Load the embedding model\n",
    "model = SentenceTransformer('all-MiniLM-L6-v2')\n",
    "\n",
    "# Load and process each transcription file\n",
    "for idx, transcription_file in enumerate(glob.glob(\"/notebooks/path/to/transcriptions/*.txt\")):\n",
    "    with open(transcription_file, \"r\") as f:\n",
    "        text = f.read()\n",
    "\n",
    "    # Create an embedding for the transcription\n",
    "    embedding = model.encode(text).tolist()\n",
    "    topic = os.path.basename(transcription_file).replace(\".txt\", \"\")  # Use file name as topic\n",
    "\n",
    "    # Add to ChromaDB collection with a unique ID\n",
    "    collection.add(\n",
    "        ids=[f\"doc_{idx}\"],  # Unique ID for each document\n",
    "        documents=[text],\n",
    "        metadatas=[{\"topic\": topic, \"source\": transcription_file}],\n",
    "        embeddings=[embedding]\n",
    "    )\n",
    "\n",
    "print(\"Transcriptions successfully stored in ChromaDB!\")"
   ]
  },
  {
   "cell_type": "markdown",
   "metadata": {},
   "source": [
    "# Querying Chromadb\n",
    "New code"
   ]
  },
  {
   "cell_type": "code",
   "execution_count": 11,
   "metadata": {},
   "outputs": [
    {
     "name": "stdout",
     "output_type": "stream",
     "text": [
      "Generated Response: content=\"There are a few ways you can prevent your cat from scratching furniture. One option is to provide them with appropriate scratching posts or pads, so they can satisfy their scratching instinct in a designated area. You can also try using deterrents like double-sided tape or citrus spray on the furniture to discourage them from scratching. Additionally, you can trim your cat's nails regularly or use soft nail caps to prevent damage to furniture. Finally, positive reinforcement techniques, such as rewarding your cat for using the scratching post, can also be effective in redirecting their behavior.\" additional_kwargs={'refusal': None} response_metadata={'token_usage': {'completion_tokens': 110, 'prompt_tokens': 3555, 'total_tokens': 3665, 'completion_tokens_details': {'accepted_prediction_tokens': 0, 'audio_tokens': 0, 'reasoning_tokens': 0, 'rejected_prediction_tokens': 0}, 'prompt_tokens_details': {'audio_tokens': 0, 'cached_tokens': 0}}, 'model_name': 'gpt-3.5-turbo-0125', 'system_fingerprint': None, 'finish_reason': 'stop', 'logprobs': None} id='run-64718722-e322-44f9-bc1f-fa66db0711df-0' usage_metadata={'input_tokens': 3555, 'output_tokens': 110, 'total_tokens': 3665, 'input_token_details': {'audio': 0, 'cache_read': 0}, 'output_token_details': {'audio': 0, 'reasoning': 0}}\n"
     ]
    }
   ],
   "source": [
    "from langchain_openai import ChatOpenAI\n",
    "\n",
    "# Initialize the language model from LangChain\n",
    "llm = ChatOpenAI()\n",
    "\n",
    "def query_rag(collection, query_text, embedding_model, llm, n_results=3):\n",
    "    \"\"\"\n",
    "    Perform a Retrieval-Augmented Generation (RAG) query to retrieve relevant documents\n",
    "    and generate a response using a language model.\n",
    "    \n",
    "    Parameters:\n",
    "    - collection: ChromaDB collection to query.\n",
    "    - query_text: The question or input text for querying.\n",
    "    - embedding_model: Sentence embedding model (e.g., SentenceTransformer).\n",
    "    - llm: Language model from LangChain for generating responses.\n",
    "    - n_results: Number of relevant documents to retrieve.\n",
    "    \n",
    "    Returns:\n",
    "    - response: Generated answer from the language model based on retrieved documents.\n",
    "    \"\"\"\n",
    "    \n",
    "    # Embed the query text\n",
    "    query_embedding = embedding_model.encode(query_text).tolist()\n",
    "    \n",
    "    # Perform the search in ChromaDB\n",
    "    results = collection.query(\n",
    "        query_embeddings=[query_embedding],\n",
    "        n_results=n_results\n",
    "    )\n",
    "    \n",
    "    # Check if documents are found\n",
    "    if results['documents']:\n",
    "        # Prepare the context from retrieved documents\n",
    "        context_texts = [doc for doc in results['documents'][0]]\n",
    "        context = \"\\n\".join(context_texts)\n",
    "        \n",
    "        # Formulate prompt for the language model with context\n",
    "        prompt = f\"Context:\\n{context}\\n\\nQuestion: {query_text}\\nAnswer:\"\n",
    "        \n",
    "        # Generate response using the language model\n",
    "        response = llm.invoke(prompt)\n",
    "        \n",
    "        return response\n",
    "    \n",
    "    else:\n",
    "        return \"No relevant documents found for this query.\"\n",
    "\n",
    "# Example Usage\n",
    "query_text = \"How do I stop my cat from scratching furniture?\"\n",
    "response = query_rag(collection, query_text, embedding_model, llm)\n",
    "print(\"Generated Response:\", response)\n"
   ]
  },
  {
   "cell_type": "code",
   "execution_count": 12,
   "metadata": {},
   "outputs": [
    {
     "name": "stdout",
     "output_type": "stream",
     "text": [
      "Retrieved Text: [\" What's up gang is I Jackson Galaxy your cat daddy and today your cat question answerer that is what I'm here for today hopefully we get questions all the time from folks just like you who sent it into this address right there which you of course can do as well and today we're gonna talk to Kinesha Kinesha what's it all about hi Jackson I'm Kinesha from the Cayman Islands my husband and I have a cat sunshine she's 11 years old and we've always wanted to get another cat to you know keep her company and also rescue from the human society but you know we're a bit worried because she has been the only cat in the home for so long in 11 years and we just wonder whether or not she'll be very receptive to the addition of another cat in the home we'd love your feedback on the best approach to do so you know what can we do to make this a seamless process because we'd really love for it to be a success and to avoid any elimination or scratching or you know any of the behaviors that are likely to be exhibited if she is unhappy with the addition of the new cat which she has done in the past in some instances when you know we have gone out and left her for too long so I'd really love to hear your thoughts on that thank you all right well first of all Kinesha right on I'm so glad that you're all about rescuing the cats in your area who need homes I mean that goes without saying and of course I want you to do that at the same time we do have to take care of what sunshine's needs are at this point and at 11 years old and from what I understand from what you said she's never been around another cat before you know that's that's something you really just need to consider a couple of things that I noticed in what you sent me was first of all this so clearly sunshine is still playful she likes to be a little mischievous and chase things under the sheets and whatnot and that tells us okay so she still has that get up and go at 11 years old is still let's just be very clear about this where she's technically a senior some cats are just more senior than others and some just retain that playfulness that inquisitiveness and it's important to know who sunshine is before we compliment her with someone that sunshine would like now there are a couple of different ways you can go you can adopt another senior and that believe me not just you Kinesha but everyone you guys seniors need homes so much quicker than other cats because the stress that they go through in rescue environments is multiplied because we know that as cats get older they manifest stress physically a lot quicker than younger cats so yeah man getting seniors out of out of rescue situations is paramount so I would definitely encourage that what I would encourage is a cat that maybe has been around other cats before so the adjustment for the newcomer isn't as bad as it could be and by that cat being somewhat relaxed perhaps sunshine will be as well the second way you can go now folks do this all the time they have older cats they are missing the concept of youthful energy and they go out and they adopt a kitten and they always say the same thing it's for the cat my cat needs a friend and let me tell you something your senior cat does not need a kitten no they do not need a kitten in their life they've got this they're settled they have their territory sort of buttoned down they know what every day is going to bring and all of a sudden Dennis the men is shows up with a slingshot and everything is just shot if you are thinking about bringing a kitten into a home with a cat like sunshine first of all remember something whether it's you Kanisha or anybody else it's for you it's not for sunshine sunshine could get used to it but it's because you want another cat in the house and Kanisha made that clear that this is more about what you guys would like so I like the fact that you're starting from there but I'm telling you this you guys if you're going to adopt a younger cat whether it's a kitten or a teenager anywhere in the first year of life adopt to just bring home to to is always better than one especially when it comes to kittens those guys will entertain each other they will learn the ropes they will play at their speed and sunshine then has that ability to watch them from a distance and figure out what this thing is all about and be able to join when she wants to and walk away when she wants to as well yeah every now and again the kittens will decide that sunshine's tail is the best toy in the whole wide world but you guys can deal with that as long as you let sunshine know that this is her place so she doesn't feel like she needs to claim it away from someone else then that's a great place to start so whether it's two kittens or one senior or anywhere in between I guess it's more about when you meet that cat how do you think they'll match up are you getting a cat who is just really really hyper and sunshine doesn't seem to be or are you getting someone who matches her energy level I think that that's really one of the the best things that you can do now whether again it's a kitten or a teenager or a senior or anywhere in between any cat that you go I think sunshine will be able to cope with this cat then it all comes down to the introduction process and and that to me is the most key element of making a resident cat happy who's not been around other cats her whole life just safe introductions if you check out my book Total Cat Mojo you'll see the entire introduction process laid out in exhaustive detail we've got videos about introducing cats so take a look at my videos there's a few I'll leave them in the description one you want to make sure that you establish a really good base camp for your newcomer so that's one video the second one would be about introducing cats don't skip the steps even if you go quickly through them because sunshine is like yeah none of this matters to me great but you might see that it does matter to her that she smells cats under the door and goes what's going on here and as long as you do it slowly and you don't threaten her well-being you know what you can bring cats into the house it's my belief that cats should be with other cats so whether you bring in a senior kinesha whether you bring in a couple of kittens not one but a couple of kittens there's a really good chance that you can make it work to your satisfaction and to sunshine satisfaction right sunshine right all right you guys keep those questions coming all you got to do is go to this link right down here and it will prompt you to basically do exactly what kinesha did so brilliantly which is to say your name your cat's name what your question is and then some footage of your cat doing anything in this case with sunshine just you know enjoying the Cayman Islands which I think any of us would do and this week's team cat Mojo Rockstar is Batman and now obviously the name Batman got me in the first place but Batman is just an expert fetcher let's take a look his person Lisa knows exactly how to toss it Batman knows exactly how to bring it back and everyone's happy except for this innocent bystander right here there's always the cat in the room was like you guys playing fetch again well I don't understand it this is so boring you throw you bring it back you throw you bring it back and I just have to sit here and watch it all day man anyway Batman's Rockstar and your other cat is great just because they provide such brilliant commentary again for your questions you go to Jackson Galaxy dot com forward slash submit for rock stars you do the exact same thing just make sure you're saying hey my cat's a rock star as opposed to hey I've got a question and then everything falls into place from there all right you guys stay safe out there show some love it doesn't take much and and it makes you feel better and it makes the world go around don't it all right light love and Mojo to you guys take care near\", \" What's up gang is I Jackson Galaxy your cat daddy and today your cat question answerer that is what I'm here for today hopefully we get questions all the time from folks just like you who sent it into this address right there which you of course can do as well and today we're gonna talk to Kinesha Kinesha what's it all about hi Jackson I'm Kinesha from the Cayman Islands my husband and I have a cat sunshine she's 11 years old and we've always wanted to get another cat to you know keep her company and also rescue from the human society but you know we're a bit worried because she has been the only cat in the home for so long in 11 years and we just wonder whether or not she'll be very receptive to the addition of another cat in the home we'd love your feedback on the best approach to do so you know what can we do to make this a seamless process because we'd really love for it to be a success and to avoid any elimination or scratching or you know any of the behaviors that are likely to be exhibited if she is unhappy with the addition of the new cat which she has done in the past in some instances when you know we have gone out and left her for too long so I'd really love to hear your thoughts on that thank you all right well first of all Kinesha right on I'm so glad that you're all about rescuing the cats in your area who need homes I mean that goes without saying and of course I want you to do that at the same time we do have to take care of what sunshine's needs are at this point and at 11 years old and from what I understand from what you said she's never been around another cat before you know that's that's something you really just need to consider a couple of things that I noticed in what you sent me was first of all this so clearly sunshine is still playful she likes to be a little mischievous and chase things under the sheets and whatnot and that tells us okay so she still has that get up and go at 11 years old is still let's just be very clear about this where she's technically a senior some cats are just more senior than others and some just retain that playfulness that inquisitiveness and it's important to know who sunshine is before we compliment her with someone that sunshine would like now there are a couple of different ways you can go you can adopt another senior and that believe me not just you Kinesha but everyone you guys seniors need homes so much quicker than other cats because the stress that they go through in rescue environments is multiplied because we know that as cats get older they manifest stress physically a lot quicker than younger cats so yeah man getting seniors out of out of rescue situations is paramount so I would definitely encourage that what I would encourage is a cat that maybe has been around other cats before so the adjustment for the newcomer isn't as bad as it could be and by that cat being somewhat relaxed perhaps sunshine will be as well the second way you can go now folks do this all the time they have older cats they are missing the concept of youthful energy and they go out and they adopt a kitten and they always say the same thing it's for the cat my cat needs a friend and let me tell you something your senior cat does not need a kitten no they do not need a kitten in their life they've got this they're settled they have their territory sort of buttoned down they know what every day is going to bring and all of a sudden Dennis the men is shows up with a slingshot and everything is just shot if you are thinking about bringing a kitten into a home with a cat like sunshine first of all remember something whether it's you Kanisha or anybody else it's for you it's not for sunshine sunshine could get used to it but it's because you want another cat in the house and Kanisha made that clear that this is more about what you guys would like so I like the fact that you're starting from there but I'm telling you this you guys if you're going to adopt a younger cat whether it's a kitten or a teenager anywhere in the first year of life adopt to just bring home to to is always better than one especially when it comes to kittens those guys will entertain each other they will learn the ropes they will play at their speed and sunshine then has that ability to watch them from a distance and figure out what this thing is all about and be able to join when she wants to and walk away when she wants to as well yeah every now and again the kittens will decide that sunshine's tail is the best toy in the whole wide world but you guys can deal with that as long as you let sunshine know that this is her place so she doesn't feel like she needs to claim it away from someone else then that's a great place to start so whether it's two kittens or one senior or anywhere in between I guess it's more about when you meet that cat how do you think they'll match up are you getting a cat who is just really really hyper and sunshine doesn't seem to be or are you getting someone who matches her energy level I think that that's really one of the the best things that you can do now whether again it's a kitten or a teenager or a senior or anywhere in between any cat that you go I think sunshine will be able to cope with this cat then it all comes down to the introduction process and and that to me is the most key element of making a resident cat happy who's not been around other cats her whole life just safe introductions if you check out my book Total Cat Mojo you'll see the entire introduction process laid out in exhaustive detail we've got videos about introducing cats so take a look at my videos there's a few I'll leave them in the description one you want to make sure that you establish a really good base camp for your newcomer so that's one video the second one would be about introducing cats don't skip the steps even if you go quickly through them because sunshine is like yeah none of this matters to me great but you might see that it does matter to her that she smells cats under the door and goes what's going on here and as long as you do it slowly and you don't threaten her well-being you know what you can bring cats into the house it's my belief that cats should be with other cats so whether you bring in a senior kinesha whether you bring in a couple of kittens not one but a couple of kittens there's a really good chance that you can make it work to your satisfaction and to sunshine satisfaction right sunshine right all right you guys keep those questions coming all you got to do is go to this link right down here and it will prompt you to basically do exactly what kinesha did so brilliantly which is to say your name your cat's name what your question is and then some footage of your cat doing anything in this case with sunshine just you know enjoying the Cayman Islands which I think any of us would do and this week's team cat Mojo Rockstar is Batman and now obviously the name Batman got me in the first place but Batman is just an expert fetcher let's take a look his person Lisa knows exactly how to toss it Batman knows exactly how to bring it back and everyone's happy except for this innocent bystander right here there's always the cat in the room was like you guys playing fetch again well I don't understand it this is so boring you throw you bring it back you throw you bring it back and I just have to sit here and watch it all day man anyway Batman's Rockstar and your other cat is great just because they provide such brilliant commentary again for your questions you go to Jackson Galaxy dot com forward slash submit for rock stars you do the exact same thing just make sure you're saying hey my cat's a rock star as opposed to hey I've got a question and then everything falls into place from there all right you guys stay safe out there show some love it doesn't take much and and it makes you feel better and it makes the world go around don't it all right light love and Mojo to you guys take care now\", \" Oh my god. I said, why don't we shoot it to the screen right now? Oh my god. Okay, so the first thing is, why did you let it happen? You know, if you see your cat staring down like that, that is a bad thing. That's like two cats holding guns staring at each other and telling the other one to drop a gun. It's 50-50 that they're going to walk away or they're not going to walk away. In those moments of freeze, stop it. Put something in between them. Make sure it doesn't start. And then if you know these two cats are fighting, separate them because there's no good that comes out. That was like six cats in there. So there's a lot of stuff that you can do to prevent fights from happening. And I've got plenty of videos on that. But in the meantime, if these cats keep fighting, keep them separated. Don't let it get to this point. And then we can try to reintroduce them. But boy, that was bad.\"]\n",
      "Metadata: [{'source': '/notebooks/path/to/transcriptions/Cat Introductions: Does your Senior Need A Friend?.txt', 'topic': 'Cat Introductions: Does your Senior Need A Friend?'}, {'source': '/notebooks/path/to/transcriptions/f72adde394a4d4b403421fd7bb5324fb.txt', 'topic': 'f72adde394a4d4b403421fd7bb5324fb'}, {'source': '/notebooks/path/to/transcriptions/0ad0281d64cf5d1e366881ec6adfbd9f.txt', 'topic': '0ad0281d64cf5d1e366881ec6adfbd9f'}]\n"
     ]
    }
   ],
   "source": [
    "from sentence_transformers import SentenceTransformer\n",
    "\n",
    "# Load the SentenceTransformer model for embeddings\n",
    "embedding_model = SentenceTransformer('all-MiniLM-L6-v2')\n",
    "\n",
    "# Sample query to retrieve relevant information\n",
    "query_text = \"How do I stop my cat from scratching furniture?\"\n",
    "query_embedding = embedding_model.encode(query_text).tolist()  # Correct embedding model\n",
    "\n",
    "# Perform the search in ChromaDB\n",
    "results = collection.query(\n",
    "    query_embeddings=[query_embedding],\n",
    "    n_results=3\n",
    ")\n",
    "\n",
    "# Check if results are found\n",
    "if results['documents']:\n",
    "    for result in results['documents']:\n",
    "        print(\"Retrieved Text:\", result)\n",
    "    for metadata in results['metadatas']:\n",
    "        print(\"Metadata:\", metadata)\n",
    "else:\n",
    "    print(\"No relevant results found.\")\n"
   ]
  },
  {
   "cell_type": "markdown",
   "metadata": {},
   "source": [
    "Old code but works 2"
   ]
  },
  {
   "cell_type": "code",
   "execution_count": 164,
   "metadata": {},
   "outputs": [
    {
     "data": {
      "application/vnd.jupyter.widget-view+json": {
       "model_id": "10c1d37507784645a47ab3c291c4509c",
       "version_major": 2,
       "version_minor": 0
      },
      "text/plain": [
       "Batches:   0%|          | 0/1 [00:00<?, ?it/s]"
      ]
     },
     "metadata": {},
     "output_type": "display_data"
    },
    {
     "name": "stdout",
     "output_type": "stream",
     "text": [
      "Retrieved Text: [\" What's up gang is I Jackson Galaxy your cat daddy and today your cat question answerer that is what I'm here for today hopefully we get questions all the time from folks just like you who sent it into this address right there which you of course can do as well and today we're gonna talk to Kinesha Kinesha what's it all about hi Jackson I'm Kinesha from the Cayman Islands my husband and I have a cat sunshine she's 11 years old and we've always wanted to get another cat to you know keep her company and also rescue from the human society but you know we're a bit worried because she has been the only cat in the home for so long in 11 years and we just wonder whether or not she'll be very receptive to the addition of another cat in the home we'd love your feedback on the best approach to do so you know what can we do to make this a seamless process because we'd really love for it to be a success and to avoid any elimination or scratching or you know any of the behaviors that are likely to be exhibited if she is unhappy with the addition of the new cat which she has done in the past in some instances when you know we have gone out and left her for too long so I'd really love to hear your thoughts on that thank you all right well first of all Kinesha right on I'm so glad that you're all about rescuing the cats in your area who need homes I mean that goes without saying and of course I want you to do that at the same time we do have to take care of what sunshine's needs are at this point and at 11 years old and from what I understand from what you said she's never been around another cat before you know that's that's something you really just need to consider a couple of things that I noticed in what you sent me was first of all this so clearly sunshine is still playful she likes to be a little mischievous and chase things under the sheets and whatnot and that tells us okay so she still has that get up and go at 11 years old is still let's just be very clear about this where she's technically a senior some cats are just more senior than others and some just retain that playfulness that inquisitiveness and it's important to know who sunshine is before we compliment her with someone that sunshine would like now there are a couple of different ways you can go you can adopt another senior and that believe me not just you Kinesha but everyone you guys seniors need homes so much quicker than other cats because the stress that they go through in rescue environments is multiplied because we know that as cats get older they manifest stress physically a lot quicker than younger cats so yeah man getting seniors out of out of rescue situations is paramount so I would definitely encourage that what I would encourage is a cat that maybe has been around other cats before so the adjustment for the newcomer isn't as bad as it could be and by that cat being somewhat relaxed perhaps sunshine will be as well the second way you can go now folks do this all the time they have older cats they are missing the concept of youthful energy and they go out and they adopt a kitten and they always say the same thing it's for the cat my cat needs a friend and let me tell you something your senior cat does not need a kitten no they do not need a kitten in their life they've got this they're settled they have their territory sort of buttoned down they know what every day is going to bring and all of a sudden Dennis the men is shows up with a slingshot and everything is just shot if you are thinking about bringing a kitten into a home with a cat like sunshine first of all remember something whether it's you Kanisha or anybody else it's for you it's not for sunshine sunshine could get used to it but it's because you want another cat in the house and Kanisha made that clear that this is more about what you guys would like so I like the fact that you're starting from there but I'm telling you this you guys if you're going to adopt a younger cat whether it's a kitten or a teenager anywhere in the first year of life adopt to just bring home to to is always better than one especially when it comes to kittens those guys will entertain each other they will learn the ropes they will play at their speed and sunshine then has that ability to watch them from a distance and figure out what this thing is all about and be able to join when she wants to and walk away when she wants to as well yeah every now and again the kittens will decide that sunshine's tail is the best toy in the whole wide world but you guys can deal with that as long as you let sunshine know that this is her place so she doesn't feel like she needs to claim it away from someone else then that's a great place to start so whether it's two kittens or one senior or anywhere in between I guess it's more about when you meet that cat how do you think they'll match up are you getting a cat who is just really really hyper and sunshine doesn't seem to be or are you getting someone who matches her energy level I think that that's really one of the the best things that you can do now whether again it's a kitten or a teenager or a senior or anywhere in between any cat that you go I think sunshine will be able to cope with this cat then it all comes down to the introduction process and and that to me is the most key element of making a resident cat happy who's not been around other cats her whole life just safe introductions if you check out my book Total Cat Mojo you'll see the entire introduction process laid out in exhaustive detail we've got videos about introducing cats so take a look at my videos there's a few I'll leave them in the description one you want to make sure that you establish a really good base camp for your newcomer so that's one video the second one would be about introducing cats don't skip the steps even if you go quickly through them because sunshine is like yeah none of this matters to me great but you might see that it does matter to her that she smells cats under the door and goes what's going on here and as long as you do it slowly and you don't threaten her well-being you know what you can bring cats into the house it's my belief that cats should be with other cats so whether you bring in a senior kinesha whether you bring in a couple of kittens not one but a couple of kittens there's a really good chance that you can make it work to your satisfaction and to sunshine satisfaction right sunshine right all right you guys keep those questions coming all you got to do is go to this link right down here and it will prompt you to basically do exactly what kinesha did so brilliantly which is to say your name your cat's name what your question is and then some footage of your cat doing anything in this case with sunshine just you know enjoying the Cayman Islands which I think any of us would do and this week's team cat Mojo Rockstar is Batman and now obviously the name Batman got me in the first place but Batman is just an expert fetcher let's take a look his person Lisa knows exactly how to toss it Batman knows exactly how to bring it back and everyone's happy except for this innocent bystander right here there's always the cat in the room was like you guys playing fetch again well I don't understand it this is so boring you throw you bring it back you throw you bring it back and I just have to sit here and watch it all day man anyway Batman's Rockstar and your other cat is great just because they provide such brilliant commentary again for your questions you go to Jackson Galaxy dot com forward slash submit for rock stars you do the exact same thing just make sure you're saying hey my cat's a rock star as opposed to hey I've got a question and then everything falls into place from there all right you guys stay safe out there show some love it doesn't take much and and it makes you feel better and it makes the world go around don't it all right light love and Mojo to you guys take care now\", \" What's up gang is I Jackson Galaxy your cat daddy and today your cat question answerer that is what I'm here for today hopefully we get questions all the time from folks just like you who sent it into this address right there which you of course can do as well and today we're gonna talk to Kinesha Kinesha what's it all about hi Jackson I'm Kinesha from the Cayman Islands my husband and I have a cat sunshine she's 11 years old and we've always wanted to get another cat to you know keep her company and also rescue from the human society but you know we're a bit worried because she has been the only cat in the home for so long in 11 years and we just wonder whether or not she'll be very receptive to the addition of another cat in the home we'd love your feedback on the best approach to do so you know what can we do to make this a seamless process because we'd really love for it to be a success and to avoid any elimination or scratching or you know any of the behaviors that are likely to be exhibited if she is unhappy with the addition of the new cat which she has done in the past in some instances when you know we have gone out and left her for too long so I'd really love to hear your thoughts on that thank you all right well first of all Kinesha right on I'm so glad that you're all about rescuing the cats in your area who need homes I mean that goes without saying and of course I want you to do that at the same time we do have to take care of what sunshine's needs are at this point and at 11 years old and from what I understand from what you said she's never been around another cat before you know that's that's something you really just need to consider a couple of things that I noticed in what you sent me was first of all this so clearly sunshine is still playful she likes to be a little mischievous and chase things under the sheets and whatnot and that tells us okay so she still has that get up and go at 11 years old is still let's just be very clear about this where she's technically a senior some cats are just more senior than others and some just retain that playfulness that inquisitiveness and it's important to know who sunshine is before we compliment her with someone that sunshine would like now there are a couple of different ways you can go you can adopt another senior and that believe me not just you Kinesha but everyone you guys seniors need homes so much quicker than other cats because the stress that they go through in rescue environments is multiplied because we know that as cats get older they manifest stress physically a lot quicker than younger cats so yeah man getting seniors out of out of rescue situations is paramount so I would definitely encourage that what I would encourage is a cat that maybe has been around other cats before so the adjustment for the newcomer isn't as bad as it could be and by that cat being somewhat relaxed perhaps sunshine will be as well the second way you can go now folks do this all the time they have older cats they are missing the concept of youthful energy and they go out and they adopt a kitten and they always say the same thing it's for the cat my cat needs a friend and let me tell you something your senior cat does not need a kitten no they do not need a kitten in their life they've got this they're settled they have their territory sort of buttoned down they know what every day is going to bring and all of a sudden Dennis the men is shows up with a slingshot and everything is just shot if you are thinking about bringing a kitten into a home with a cat like sunshine first of all remember something whether it's you Kanisha or anybody else it's for you it's not for sunshine sunshine could get used to it but it's because you want another cat in the house and Kanisha made that clear that this is more about what you guys would like so I like the fact that you're starting from there but I'm telling you this you guys if you're going to adopt a younger cat whether it's a kitten or a teenager anywhere in the first year of life adopt to just bring home to to is always better than one especially when it comes to kittens those guys will entertain each other they will learn the ropes they will play at their speed and sunshine then has that ability to watch them from a distance and figure out what this thing is all about and be able to join when she wants to and walk away when she wants to as well yeah every now and again the kittens will decide that sunshine's tail is the best toy in the whole wide world but you guys can deal with that as long as you let sunshine know that this is her place so she doesn't feel like she needs to claim it away from someone else then that's a great place to start so whether it's two kittens or one senior or anywhere in between I guess it's more about when you meet that cat how do you think they'll match up are you getting a cat who is just really really hyper and sunshine doesn't seem to be or are you getting someone who matches her energy level I think that that's really one of the the best things that you can do now whether again it's a kitten or a teenager or a senior or anywhere in between any cat that you go I think sunshine will be able to cope with this cat then it all comes down to the introduction process and and that to me is the most key element of making a resident cat happy who's not been around other cats her whole life just safe introductions if you check out my book Total Cat Mojo you'll see the entire introduction process laid out in exhaustive detail we've got videos about introducing cats so take a look at my videos there's a few I'll leave them in the description one you want to make sure that you establish a really good base camp for your newcomer so that's one video the second one would be about introducing cats don't skip the steps even if you go quickly through them because sunshine is like yeah none of this matters to me great but you might see that it does matter to her that she smells cats under the door and goes what's going on here and as long as you do it slowly and you don't threaten her well-being you know what you can bring cats into the house it's my belief that cats should be with other cats so whether you bring in a senior kinesha whether you bring in a couple of kittens not one but a couple of kittens there's a really good chance that you can make it work to your satisfaction and to sunshine satisfaction right sunshine right all right you guys keep those questions coming all you got to do is go to this link right down here and it will prompt you to basically do exactly what kinesha did so brilliantly which is to say your name your cat's name what your question is and then some footage of your cat doing anything in this case with sunshine just you know enjoying the Cayman Islands which I think any of us would do and this week's team cat Mojo Rockstar is Batman and now obviously the name Batman got me in the first place but Batman is just an expert fetcher let's take a look his person Lisa knows exactly how to toss it Batman knows exactly how to bring it back and everyone's happy except for this innocent bystander right here there's always the cat in the room was like you guys playing fetch again well I don't understand it this is so boring you throw you bring it back you throw you bring it back and I just have to sit here and watch it all day man anyway Batman's Rockstar and your other cat is great just because they provide such brilliant commentary again for your questions you go to Jackson Galaxy dot com forward slash submit for rock stars you do the exact same thing just make sure you're saying hey my cat's a rock star as opposed to hey I've got a question and then everything falls into place from there all right you guys stay safe out there show some love it doesn't take much and and it makes you feel better and it makes the world go around don't it all right light love and Mojo to you guys take care now\", \" What's up gang is I Jackson Galaxy your cat daddy and today your cat question answerer that is what I'm here for today hopefully we get questions all the time from folks just like you who sent it into this address right there which you of course can do as well and today we're gonna talk to Kinesha Kinesha what's it all about hi Jackson I'm Kinesha from the Cayman Islands my husband and I have a cat sunshine she's 11 years old and we've always wanted to get another cat to you know keep her company and also rescue from the human society but you know we're a bit worried because she has been the only cat in the home for so long in 11 years and we just wonder whether or not she'll be very receptive to the addition of another cat in the home we'd love your feedback on the best approach to do so you know what can we do to make this a seamless process because we'd really love for it to be a success and to avoid any elimination or scratching or you know any of the behaviors that are likely to be exhibited if she is unhappy with the addition of the new cat which she has done in the past in some instances when you know we have gone out and left her for too long so I'd really love to hear your thoughts on that thank you all right well first of all Kinesha right on I'm so glad that you're all about rescuing the cats in your area who need homes I mean that goes without saying and of course I want you to do that at the same time we do have to take care of what sunshine's needs are at this point and at 11 years old and from what I understand from what you said she's never been around another cat before you know that's that's something you really just need to consider a couple of things that I noticed in what you sent me was first of all this so clearly sunshine is still playful she likes to be a little mischievous and chase things under the sheets and whatnot and that tells us okay so she still has that get up and go at 11 years old is still let's just be very clear about this where she's technically a senior some cats are just more senior than others and some just retain that playfulness that inquisitiveness and it's important to know who sunshine is before we compliment her with someone that sunshine would like now there are a couple of different ways you can go you can adopt another senior and that believe me not just you Kinesha but everyone you guys seniors need homes so much quicker than other cats because the stress that they go through in rescue environments is multiplied because we know that as cats get older they manifest stress physically a lot quicker than younger cats so yeah man getting seniors out of out of rescue situations is paramount so I would definitely encourage that what I would encourage is a cat that maybe has been around other cats before so the adjustment for the newcomer isn't as bad as it could be and by that cat being somewhat relaxed perhaps sunshine will be as well the second way you can go now folks do this all the time they have older cats they are missing the concept of youthful energy and they go out and they adopt a kitten and they always say the same thing it's for the cat my cat needs a friend and let me tell you something your senior cat does not need a kitten no they do not need a kitten in their life they've got this they're settled they have their territory sort of buttoned down they know what every day is going to bring and all of a sudden Dennis the men is shows up with a slingshot and everything is just shot if you are thinking about bringing a kitten into a home with a cat like sunshine first of all remember something whether it's you Kanisha or anybody else it's for you it's not for sunshine sunshine could get used to it but it's because you want another cat in the house and Kanisha made that clear that this is more about what you guys would like so I like the fact that you're starting from there but I'm telling you this you guys if you're going to adopt a younger cat whether it's a kitten or a teenager anywhere in the first year of life adopt to just bring home to to is always better than one especially when it comes to kittens those guys will entertain each other they will learn the ropes they will play at their speed and sunshine then has that ability to watch them from a distance and figure out what this thing is all about and be able to join when she wants to and walk away when she wants to as well yeah every now and again the kittens will decide that sunshine's tail is the best toy in the whole wide world but you guys can deal with that as long as you let sunshine know that this is her place so she doesn't feel like she needs to claim it away from someone else then that's a great place to start so whether it's two kittens or one senior or anywhere in between I guess it's more about when you meet that cat how do you think they'll match up are you getting a cat who is just really really hyper and sunshine doesn't seem to be or are you getting someone who matches her energy level I think that that's really one of the the best things that you can do now whether again it's a kitten or a teenager or a senior or anywhere in between any cat that you go I think sunshine will be able to cope with this cat then it all comes down to the introduction process and and that to me is the most key element of making a resident cat happy who's not been around other cats her whole life just safe introductions if you check out my book Total Cat Mojo you'll see the entire introduction process laid out in exhaustive detail we've got videos about introducing cats so take a look at my videos there's a few I'll leave them in the description one you want to make sure that you establish a really good base camp for your newcomer so that's one video the second one would be about introducing cats don't skip the steps even if you go quickly through them because sunshine is like yeah none of this matters to me great but you might see that it does matter to her that she smells cats under the door and goes what's going on here and as long as you do it slowly and you don't threaten her well-being you know what you can bring cats into the house it's my belief that cats should be with other cats so whether you bring in a senior kinesha whether you bring in a couple of kittens not one but a couple of kittens there's a really good chance that you can make it work to your satisfaction and to sunshine satisfaction right sunshine right all right you guys keep those questions coming all you got to do is go to this link right down here and it will prompt you to basically do exactly what kinesha did so brilliantly which is to say your name your cat's name what your question is and then some footage of your cat doing anything in this case with sunshine just you know enjoying the Cayman Islands which I think any of us would do and this week's team cat Mojo Rockstar is Batman and now obviously the name Batman got me in the first place but Batman is just an expert fetcher let's take a look his person Lisa knows exactly how to toss it Batman knows exactly how to bring it back and everyone's happy except for this innocent bystander right here there's always the cat in the room was like you guys playing fetch again well I don't understand it this is so boring you throw you bring it back you throw you bring it back and I just have to sit here and watch it all day man anyway Batman's Rockstar and your other cat is great just because they provide such brilliant commentary again for your questions you go to Jackson Galaxy dot com forward slash submit for rock stars you do the exact same thing just make sure you're saying hey my cat's a rock star as opposed to hey I've got a question and then everything falls into place from there all right you guys stay safe out there show some love it doesn't take much and and it makes you feel better and it makes the world go around don't it all right light love and Mojo to you guys take care no\"]\n",
      "Metadata: [{'source': '/notebooks/path/to/transcriptions/Cat Introductions: Does your Senior Need A Friend?.txt', 'topic': 'Cat Introductions: Does your Senior Need A Friend?'}, {'source': '/notebooks/path/to/transcriptions/Cat Introductions: Does your Senior Need A Friend?.txt', 'topic': 'Cat Introductions: Does your Senior Need A Friend?'}, {'source': '/notebooks/path/to/transcriptions/f72adde394a4d4b403421fd7bb5324fb.txt', 'topic': 'f72adde394a4d4b403421fd7bb5324fb'}]\n"
     ]
    }
   ],
   "source": [
    "# Sample query to retrieve relevant information\n",
    "query_text = \"How do I stop my cat from scratching furniture?\"\n",
    "query_embedding = model.encode(query_text).tolist()\n",
    "\n",
    "# Perform the search\n",
    "results = collection.query(\n",
    "    query_embeddings=[query_embedding],\n",
    "    n_results=3\n",
    ")\n",
    "\n",
    "# Check if results are found\n",
    "if results['documents']:\n",
    "    for result in results['documents']:\n",
    "        print(\"Retrieved Text:\", result)\n",
    "    for metadata in results['metadatas']:\n",
    "        print(\"Metadata:\", metadata)\n",
    "else:\n",
    "    print(\"No relevant results found.\")\n",
    "\n"
   ]
  },
  {
   "cell_type": "markdown",
   "metadata": {},
   "source": [
    "------------------------------"
   ]
  },
  {
   "cell_type": "code",
   "execution_count": null,
   "metadata": {},
   "outputs": [],
   "source": [
    "%pip install langchain\n",
    "%pip install openai\n",
    "%pip install langchain_community langchain_openai"
   ]
  },
  {
   "cell_type": "code",
   "execution_count": 13,
   "metadata": {},
   "outputs": [
    {
     "data": {
      "text/plain": [
       "'0.3.7'"
      ]
     },
     "execution_count": 13,
     "metadata": {},
     "output_type": "execute_result"
    }
   ],
   "source": [
    "import langchain\n",
    "langchain.__version__"
   ]
  },
  {
   "cell_type": "code",
   "execution_count": 19,
   "metadata": {},
   "outputs": [],
   "source": [
    "# Initialize context history for conversation continuity\n",
    "context_history = []\n",
    "\n",
    "def retrieve_documents(query):\n",
    "    # This example assumes you have a collection or database to query\n",
    "    query_embedding = embedding_model.encode(query).tolist()\n",
    "    result = collection.query(query_embeddings=[query_embedding], n_results=2)\n",
    "    \n",
    "    # Log retrieval details if using LangSmith\n",
    "    langsmith.invoke(\"document_retrieval\", {\n",
    "        \"query\": query,\n",
    "        \"retrieved_documents\": result['documents']\n",
    "    })\n",
    "    \n",
    "    documents = \" \".join(doc if isinstance(doc, str) else \" \".join(doc) for doc in result['documents'])\n",
    "    return documents\n"
   ]
  },
  {
   "cell_type": "markdown",
   "metadata": {},
   "source": [
    "# LangSmith Check Point.\n",
    "We define the functions of Langsmith to start tracing the project."
   ]
  },
  {
   "cell_type": "code",
   "execution_count": 25,
   "metadata": {},
   "outputs": [],
   "source": [
    "from langchain.prompts import ChatPromptTemplate\n",
    "from langchain_core.runnables import RunnableSequence\n",
    "\n",
    "def create_qa_chain():\n",
    "    template = \"\"\"You are a friendly, expert cat behaviorist inspired by Jackson Galaxy.\n",
    "                  Use the information below to provide advice in a helpful and engaging way.\"\"\"\n",
    "    prompt = ChatPromptTemplate.from_messages([\n",
    "        (\"system\", template),\n",
    "        (\"user\", \"{context}\\n\\nQuestion: {question}\\nAnswer:\")\n",
    "    ])\n",
    "    \n",
    "    # Log QA chain creation\n",
    "    langsmith.invoke(\"qa_chain_creation\", {\n",
    "        \"template\": template,\n",
    "    })\n",
    "    \n",
    "    return RunnableSequence(prompt | llm)\n"
   ]
  },
  {
   "cell_type": "code",
   "execution_count": 26,
   "metadata": {},
   "outputs": [],
   "source": [
    "from langchain_core.callbacks.manager import CallbackManager\n",
    "from langchain_core.callbacks.stdout import StdOutCallbackHandler\n",
    "import langsmith\n",
    "\n",
    "\n",
    "# Initialize Tracer callback handler for LangChain's built-in tracing\n",
    "tracer_handler = StdOutCallbackHandler()\n",
    "\n",
    "# Attach the callback handler to a CallbackManager\n",
    "callback_manager = CallbackManager([tracer_handler])\n",
    "\n",
    "# Main agent function with LangChain tracing\n",
    "def ask_agent(query):\n",
    "    # Append the new question to context history\n",
    "    context_history.append(f\"Question: {query}\")\n",
    "\n",
    "    # Retrieve relevant context from ChromaDB based on query variations\n",
    "    conversation_context = retrieve_documents(query)\n",
    "    \n",
    "    # Combine recent exchanges for conversational memory\n",
    "    recent_history = \"\\n\".join(context_history[-3:])  # Keep last 3 exchanges for continuity\n",
    "    combined_context = recent_history + \"\\n\\n\" + conversation_context\n",
    "    \n",
    "    # Create QA chain with the combined context\n",
    "    qa_chain = create_qa_chain()\n",
    "    answer = qa_chain.run({\n",
    "        \"context\": combined_context,\n",
    "        \"question\": query\n",
    "    })\n",
    "\n",
    "    # Log combined context for QA\n",
    "    langsmith.invoke(\"combined_context_for_qa\", {\n",
    "        \"recent_history\": recent_history,\n",
    "        \"conversation_context\": conversation_context,\n",
    "        \"combined_context\": combined_context\n",
    "    })\n",
    "\n",
    "    # Use callback_manager to log the QA chain run\n",
    "    answer = qa_chain.run(\n",
    "        {\"context\": combined_context, \"question\": query},\n",
    "        callbacks=callback_manager\n",
    "    )\n",
    "\n",
    " # Log final answer\n",
    "    langsmith.invoke(\"final_answer\", {\n",
    "        \"query\": query,\n",
    "        \"combined_context\": combined_context,\n",
    "        \"answer\": answer\n",
    "    })\n",
    "    # Append the answer to the context history for continuity\n",
    "    context_history.append(f\"Answer: {answer}\")\n",
    "    return answer\n",
    "   \n"
   ]
  },
  {
   "cell_type": "markdown",
   "metadata": {},
   "source": [
    "# Model\n",
    "Doing A query in character."
   ]
  },
  {
   "cell_type": "code",
   "execution_count": 22,
   "metadata": {},
   "outputs": [],
   "source": [
    "%pip install langchain_community\n"
   ]
  },
  {
   "cell_type": "code",
   "execution_count": 30,
   "metadata": {},
   "outputs": [
    {
     "data": {
      "application/vnd.jupyter.widget-view+json": {
       "model_id": "67ac75c5159f4601ba927c5ffdbb0afb",
       "version_major": 2,
       "version_minor": 0
      },
      "text/plain": [
       "Batches:   0%|          | 0/1 [00:00<?, ?it/s]"
      ]
     },
     "metadata": {},
     "output_type": "display_data"
    },
    {
     "name": "stdout",
     "output_type": "stream",
     "text": [
      "Agent Response: content=\"Hey there, Kinesha! It's great to hear that you're considering bringing another cat into your home to keep Sunshine company. It's wonderful that you're thinking of adopting from a shelter - that's a fantastic way to give a cat a second chance at a happy life.\\n\\nNow, let's talk about why cats scratch furniture. Scratching is a natural behavior for cats. It helps them stretch their muscles, sharpen their claws, and mark their territory with scent glands in their paws. So, when Sunshine scratches your furniture, she's not trying to be naughty - she's just following her instincts.\\n\\nTo prevent furniture scratching, you can provide alternative scratching surfaces for Sunshine. Invest in a sturdy scratching post made of materials like sisal or cardboard. Place the scratching post near her favorite furniture so she's more likely to use it.\\n\\nAnother tip is to make the furniture less appealing to scratch. You can do this by covering it with double-sided tape or using a citrus-scented spray, as most cats dislike these textures and smells.\\n\\nRemember, never punish Sunshine for scratching. Instead, positively reinforce her when she uses the scratching post by offering treats or praise.\\n\\nBy understanding and addressing Sunshine's scratching behavior, you can create a harmonious environment for her and any new feline friends you may bring into your home. Good luck, Kinesha, and enjoy the process of introducing Sunshine to her potential new companion!\" additional_kwargs={'refusal': None} response_metadata={'token_usage': {'completion_tokens': 286, 'prompt_tokens': 3363, 'total_tokens': 3649, 'completion_tokens_details': {'accepted_prediction_tokens': 0, 'audio_tokens': 0, 'reasoning_tokens': 0, 'rejected_prediction_tokens': 0}, 'prompt_tokens_details': {'audio_tokens': 0, 'cached_tokens': 0}}, 'model_name': 'gpt-3.5-turbo-0125', 'system_fingerprint': None, 'finish_reason': 'stop', 'logprobs': None} id='run-d2a6e294-fb37-4e7f-b8b4-e3c748d841f4-0' usage_metadata={'input_tokens': 3363, 'output_tokens': 286, 'total_tokens': 3649, 'input_token_details': {'audio': 0, 'cache_read': 0}, 'output_token_details': {'audio': 0, 'reasoning': 0}}\n"
     ]
    }
   ],
   "source": [
    "import logging\n",
    "from langchain.prompts import ChatPromptTemplate\n",
    "from sentence_transformers import SentenceTransformer\n",
    "import chromadb\n",
    "import os\n",
    "from dotenv import load_dotenv\n",
    "from langchain_core.runnables import RunnableSequence\n",
    "\n",
    "# Initialize model and embeddings\n",
    "llm = ChatOpenAI(model=\"gpt-3.5-turbo\")\n",
    "embedding_model = SentenceTransformer('all-MiniLM-L6-v2')\n",
    "client = chromadb.Client()\n",
    "collection = client.get_collection(\"cat_expert_knowledge\")\n",
    "\n",
    "# Setup logging\n",
    "logging.basicConfig(level=logging.INFO, filename=\"agent_logs.log\", filemode=\"a\",\n",
    "                    format=\"%(asctime)s - %(levelname)s - %(message)s\")\n",
    "\n",
    "# Helper function for document retrieval\n",
    "def retrieve_documents(query):\n",
    "    query_embedding = embedding_model.encode(query).tolist()\n",
    "    result = collection.query(query_embeddings=[query_embedding], n_results=2)\n",
    "    documents = \" \".join(doc if isinstance(doc, str) else \" \".join(doc) for doc in result['documents'])\n",
    "    return documents\n",
    "\n",
    "# QA Chain Creation\n",
    "def create_qa_chain():\n",
    "    template = \"\"\"You are a friendly, expert cat behaviorist inspired by Jackson Galaxy.\n",
    "                  Use the information below to provide advice in a helpful and engaging way.\"\"\"\n",
    "    prompt = ChatPromptTemplate.from_messages([(\"system\", template), (\"user\", \"{context}\\n\\nQuestion: {question}\\nAnswer:\")])\n",
    "    return RunnableSequence(prompt | llm)\n",
    "\n",
    "# Agent function with manual logging\n",
    "def ask_agent(query):\n",
    "    # Log the incoming query\n",
    "    logging.info(f\"User Query: {query}\")\n",
    "\n",
    "    # Retrieve context and answer\n",
    "    conversation_context = retrieve_documents(query)\n",
    "    qa_chain = create_qa_chain()\n",
    "    answer = qa_chain.invoke({\"context\": conversation_context, \"question\": query})\n",
    "\n",
    "    # Log the generated answer\n",
    "    logging.info(f\"Agent Response: {answer}\")\n",
    "    return answer\n",
    "\n",
    "# Test with a sample query\n",
    "user_query = \"Why does my cat scratch furniture?\"\n",
    "response = ask_agent(user_query)\n",
    "print(\"Agent Response:\", response)"
   ]
  },
  {
   "cell_type": "markdown",
   "metadata": {},
   "source": [
    "Langsmith is allready getting results in character ^"
   ]
  },
  {
   "cell_type": "code",
   "execution_count": 29,
   "metadata": {},
   "outputs": [
    {
     "data": {
      "application/vnd.jupyter.widget-view+json": {
       "model_id": "8e1f7fd753dd40cdb1605858a0b41aee",
       "version_major": 2,
       "version_minor": 0
      },
      "text/plain": [
       "Batches:   0%|          | 0/1 [00:00<?, ?it/s]"
      ]
     },
     "metadata": {},
     "output_type": "display_data"
    },
    {
     "name": "stdout",
     "output_type": "stream",
     "text": [
      "Generated Response: content='To introduce your cat to another cat, it\\'s important to follow a gradual and structured process. Start by setting up a base camp for the new cat, where they can have their own space with familiar scents and items. Make sure your existing cat is on a meal schedule and incorporate playtime into their routine. \\n\\nNext, begin sight swapping, where the cats can get used to each other\\'s scents without direct contact. Gradually increase visual access by using a screen door or baby gates to create a safe barrier. \\n\\nImplement a feeding ritual where the cats can associate each other\\'s presence with positive experiences like mealtime. Gradually reduce the distance between the cats during feeding sessions to build comfort and familiarity. \\n\\nFinally, engage in the \"eat play love\" exercise where both cats can interact in a positive and playful manner. Monitor their interactions and be prepared to separate them if needed. \\n\\nOverall, the key is to take things slow, respect each cat\\'s space, and create positive associations between them. With patience and consistency, your cats can eventually become comfortable with each other and form a harmonious relationship.' additional_kwargs={'refusal': None} response_metadata={'token_usage': {'completion_tokens': 224, 'prompt_tokens': 8639, 'total_tokens': 8863, 'completion_tokens_details': {'accepted_prediction_tokens': 0, 'audio_tokens': 0, 'reasoning_tokens': 0, 'rejected_prediction_tokens': 0}, 'prompt_tokens_details': {'audio_tokens': 0, 'cached_tokens': 0}}, 'model_name': 'gpt-3.5-turbo-0125', 'system_fingerprint': None, 'finish_reason': 'stop', 'logprobs': None} id='run-649a1ea8-bcf2-4c25-a56e-3471d0db8ea2-0' usage_metadata={'input_tokens': 8639, 'output_tokens': 224, 'total_tokens': 8863, 'input_token_details': {'audio': 0, 'cache_read': 0}, 'output_token_details': {'audio': 0, 'reasoning': 0}}\n"
     ]
    },
    {
     "data": {
      "application/vnd.jupyter.widget-view+json": {
       "model_id": "86e8dd0e084f420293a32b54e86e3dca",
       "version_major": 2,
       "version_minor": 0
      },
      "text/plain": [
       "Batches:   0%|          | 0/1 [00:00<?, ?it/s]"
      ]
     },
     "metadata": {},
     "output_type": "display_data"
    },
    {
     "name": "stdout",
     "output_type": "stream",
     "text": [
      "Generated Response: content=\"There are several ways to stop your cat from scratching furniture. One option is to provide your cat with scratching posts or pads made of materials like sisal or cardboard, which can satisfy their natural scratching instincts. You can also try using deterrents like double-sided tape or citrus scents on the furniture to discourage scratching. Additionally, trimming your cat's nails regularly and providing them with plenty of toys and enrichment can help redirect their scratching behavior. It's important to be patient and consistent in training your cat to use appropriate scratching surfaces.\" additional_kwargs={'refusal': None} response_metadata={'token_usage': {'completion_tokens': 105, 'prompt_tokens': 3555, 'total_tokens': 3660, 'completion_tokens_details': {'accepted_prediction_tokens': 0, 'audio_tokens': 0, 'reasoning_tokens': 0, 'rejected_prediction_tokens': 0}, 'prompt_tokens_details': {'audio_tokens': 0, 'cached_tokens': 0}}, 'model_name': 'gpt-3.5-turbo-0125', 'system_fingerprint': None, 'finish_reason': 'stop', 'logprobs': None} id='run-093aec9e-0c93-4efa-8abf-a76d15ac29bd-0' usage_metadata={'input_tokens': 3555, 'output_tokens': 105, 'total_tokens': 3660, 'input_token_details': {'audio': 0, 'cache_read': 0}, 'output_token_details': {'audio': 0, 'reasoning': 0}}\n"
     ]
    }
   ],
   "source": [
    "from langchain_openai import ChatOpenAI\n",
    "\n",
    "# Initialize the language model from LangChain\n",
    "llm = ChatOpenAI()\n",
    "\n",
    "def query_rag(collection, query_text, model, llm, n_results=3):\n",
    "    \"\"\"\n",
    "    Perform a Retrieval-Augmented Generation (RAG) query to retrieve relevant documents\n",
    "    and generate a response using a language model.\n",
    "    \n",
    "    Parameters:\n",
    "    - collection: ChromaDB collection to query.\n",
    "    - query_text: The question or input text for querying.\n",
    "    - model: Sentence embedding model (e.g., SentenceTransformer).\n",
    "    - llm: Language model from LangChain for generating responses.\n",
    "    - n_results: Number of relevant documents to retrieve.\n",
    "    \n",
    "    Returns:\n",
    "    - response: Generated answer from the language model based on retrieved documents.\n",
    "    \"\"\"\n",
    "    \n",
    "    # Embed the query text\n",
    "    query_embedding = model.encode(query_text).tolist()\n",
    "    \n",
    "    # Perform the search in ChromaDB\n",
    "    results = collection.query(\n",
    "        query_embeddings=[query_embedding],\n",
    "        n_results=n_results\n",
    "    )\n",
    "    \n",
    "    # Check if documents are found\n",
    "    if results['documents']:\n",
    "        # Prepare the context from retrieved documents\n",
    "        context_texts = [doc for doc in results['documents'][0]]\n",
    "        context = \"\\n\".join(context_texts)\n",
    "        \n",
    "        # Formulate prompt for the language model with context\n",
    "        prompt = f\"Context:\\n{context}\\n\\nQuestion: {query_text}\\nAnswer:\"\n",
    "        \n",
    "        # Generate response using the language model\n",
    "        response = llm.invoke(prompt)\n",
    "        \n",
    "        return response\n",
    "    \n",
    "    else:\n",
    "        return \"No relevant documents found for this query.\"\n",
    "\n",
    "# Example Usage\n",
    "query_text = \"How do I introduce my cat to another cat?\"\n",
    "response = query_rag(collection, query_text, model, llm)\n",
    "print(\"Generated Response:\", response)\n",
    "\n",
    "# Example Usage\n",
    "query_text = \"How do I stop my cat from scratching furniture?\"\n",
    "response = query_rag(collection, query_text, model, llm)\n",
    "print(\"Generated Response:\", response)\n"
   ]
  },
  {
   "cell_type": "markdown",
   "metadata": {},
   "source": [
    "# Store Embeddings and Perform Retrieval:\n",
    "Since LangSmith doesn’t yet support a full embedding storage and retrieval service like ChromaDB, we’ll use numpy to store and retrieve embeddings locally. This will simulate a vector search."
   ]
  },
  {
   "cell_type": "code",
   "execution_count": 31,
   "metadata": {},
   "outputs": [
    {
     "data": {
      "application/vnd.jupyter.widget-view+json": {
       "model_id": "1361b8da365b4917ba29d9725fde3b08",
       "version_major": 2,
       "version_minor": 0
      },
      "text/plain": [
       "Batches:   0%|          | 0/1 [00:00<?, ?it/s]"
      ]
     },
     "metadata": {},
     "output_type": "display_data"
    },
    {
     "data": {
      "application/vnd.jupyter.widget-view+json": {
       "model_id": "a11bc8710fbe4b99a2fe73764b8b8679",
       "version_major": 2,
       "version_minor": 0
      },
      "text/plain": [
       "Batches:   0%|          | 0/1 [00:00<?, ?it/s]"
      ]
     },
     "metadata": {},
     "output_type": "display_data"
    }
   ],
   "source": [
    "from sentence_transformers import SentenceTransformer\n",
    "\n",
    "# Initialize the embedding model\n",
    "embedding_model = SentenceTransformer('all-MiniLM-L6-v2')\n",
    "\n",
    "# Example text data\n",
    "text_data = [\n",
    "    {\"id\": \"doc1\", \"content\": \"Why do cats scratch furniture?\"},\n",
    "    {\"id\": \"doc2\", \"content\": \"How to introduce a new cat to your home.\"},\n",
    "    # Add more text entries as needed\n",
    "]\n",
    "\n",
    "# Generate embeddings for each text entry\n",
    "text_embeddings = [\n",
    "    {\"id\": entry[\"id\"], \"embedding\": embedding_model.encode(entry[\"content\"]).tolist()}\n",
    "    for entry in text_data\n",
    "]\n"
   ]
  },
  {
   "cell_type": "code",
   "execution_count": 32,
   "metadata": {},
   "outputs": [],
   "source": [
    "# Store only text embeddings in a dictionary for quick access\n",
    "text_store = {entry[\"id\"]: entry for entry in text_embeddings}\n"
   ]
  },
  {
   "cell_type": "code",
   "execution_count": 33,
   "metadata": {},
   "outputs": [],
   "source": [
    "from sklearn.metrics.pairwise import cosine_similarity\n",
    "\n",
    "def retrieve_similar_embeddings(query, store, top_k=2):\n",
    "    \"\"\"Retrieve top K similar text embeddings from the store.\"\"\"\n",
    "    query_embedding = clip_embd.embed_documents([query])\n",
    "    similarities = []\n",
    "\n",
    "    for item in store.values():\n",
    "        score = cosine_similarity(query_embedding, item[\"embedding\"]).flatten()[0]\n",
    "        similarities.append((score, item))\n",
    "\n",
    "    # Sort by similarity and select top K results\n",
    "    similarities = sorted(similarities, key=lambda x: x[0], reverse=True)\n",
    "    return [item for _, item in similarities[:top_k]]\n"
   ]
  },
  {
   "cell_type": "code",
   "execution_count": null,
   "metadata": {},
   "outputs": [
    {
     "data": {
      "application/vnd.jupyter.widget-view+json": {
       "model_id": "1361b8da365b4917ba29d9725fde3b08",
       "version_major": 2,
       "version_minor": 0
      },
      "text/plain": [
       "Batches:   0%|          | 0/1 [00:00<?, ?it/s]"
      ]
     },
     "metadata": {},
     "output_type": "display_data"
    },
    {
     "data": {
      "application/vnd.jupyter.widget-view+json": {
       "model_id": "a11bc8710fbe4b99a2fe73764b8b8679",
       "version_major": 2,
       "version_minor": 0
      },
      "text/plain": [
       "Batches:   0%|          | 0/1 [00:00<?, ?it/s]"
      ]
     },
     "metadata": {},
     "output_type": "display_data"
    }
   ],
   "source": [
    "from sentence_transformers import SentenceTransformer\n",
    "\n",
    "# Initialize the embedding model\n",
    "embedding_model = SentenceTransformer('all-MiniLM-L6-v2')\n",
    "\n",
    "# Example text data\n",
    "text_data = [\n",
    "    {\"id\": \"doc1\", \"content\": \"Why do cats scratch furniture?\"},\n",
    "    {\"id\": \"doc2\", \"content\": \"How to introduce a new cat to your home.\"},\n",
    "    # Add more text entries as needed\n",
    "]\n",
    "\n",
    "# Generate embeddings for each text entry\n",
    "text_embeddings = [\n",
    "    {\"id\": entry[\"id\"], \"embedding\": embedding_model.encode(entry[\"content\"]).tolist()}\n",
    "    for entry in text_data\n",
    "]\n"
   ]
  },
  {
   "cell_type": "markdown",
   "metadata": {},
   "source": [
    "# Update LangChain Agent for Text Retrieval\n",
    "\n",
    "Modify the agent to retrieve and present both text and images, enhancing responses when visual examples are available.\n",
    "\n",
    "Update the Retrieval Function to Include Images:\n",
    "\n",
    "Adjust retrieve_documents to search for both text and image embeddings."
   ]
  },
  {
   "cell_type": "code",
   "execution_count": 34,
   "metadata": {},
   "outputs": [],
   "source": [
    "def ask_agent(query):\n",
    "    # Retrieve similar text embeddings\n",
    "    relevant_texts = retrieve_similar_embeddings(query, text_store)\n",
    "    \n",
    "    # Combine text responses\n",
    "    text_response = \" \".join([text[\"metadata\"][\"text\"] for text in relevant_texts])\n",
    "    \n",
    "    # Return text-only response\n",
    "    response = f\"Expert Advice:\\n{text_response}\"\n",
    "    return response\n"
   ]
  },
  {
   "cell_type": "markdown",
   "metadata": {},
   "source": [
    "# Optimize Multimodal Retrieval and Response Formatting"
   ]
  },
  {
   "cell_type": "code",
   "execution_count": 35,
   "metadata": {},
   "outputs": [],
   "source": [
    "from sklearn.metrics.pairwise import cosine_similarity\n",
    "import numpy as np\n",
    "\n",
    "def retrieve_similar_embeddings(query, store, top_k=2):\n",
    "    \"\"\"Retrieve top K similar text embeddings from the store.\"\"\"\n",
    "    # Generate the embedding for the query using SentenceTransformer\n",
    "    query_embedding = embedding_model.encode([query])\n",
    "    \n",
    "    similarities = []\n",
    "    for item in store.values():\n",
    "        # Compute cosine similarity between query embedding and each stored embedding\n",
    "        score = cosine_similarity(query_embedding, [item[\"embedding\"]]).flatten()[0]\n",
    "        similarities.append((score, item))\n",
    "    \n",
    "    # Sort by similarity score in descending order and select top K results\n",
    "    similarities = sorted(similarities, key=lambda x: x[0], reverse=True)\n",
    "    return [item for _, item in similarities[:top_k]]\n"
   ]
  },
  {
   "cell_type": "code",
   "execution_count": 36,
   "metadata": {},
   "outputs": [
    {
     "data": {
      "application/vnd.jupyter.widget-view+json": {
       "model_id": "a844207103c34eb9809e4ee30b46b989",
       "version_major": 2,
       "version_minor": 0
      },
      "text/plain": [
       "Batches:   0%|          | 0/1 [00:00<?, ?it/s]"
      ]
     },
     "metadata": {},
     "output_type": "display_data"
    },
    {
     "data": {
      "application/vnd.jupyter.widget-view+json": {
       "model_id": "0618c17631ed4ae2a39dbee0cee5d846",
       "version_major": 2,
       "version_minor": 0
      },
      "text/plain": [
       "Batches:   0%|          | 0/1 [00:00<?, ?it/s]"
      ]
     },
     "metadata": {},
     "output_type": "display_data"
    }
   ],
   "source": [
    "from sentence_transformers import SentenceTransformer\n",
    "\n",
    "# Initialize the embedding model\n",
    "embedding_model = SentenceTransformer('all-MiniLM-L6-v2')\n",
    "\n",
    "# Example text data\n",
    "text_data = [\n",
    "    {\"id\": \"doc1\", \"content\": \"Why do cats scratch furniture?\"},\n",
    "    {\"id\": \"doc2\", \"content\": \"How to introduce a new cat to your home.\"},\n",
    "    # Add more text entries as needed\n",
    "]\n",
    "\n",
    "# Generate embeddings for each text entry\n",
    "text_embeddings = [\n",
    "    {\"id\": entry[\"id\"], \"embedding\": embedding_model.encode(entry[\"content\"]).tolist()}\n",
    "    for entry in text_data\n",
    "]\n"
   ]
  },
  {
   "cell_type": "code",
   "execution_count": 37,
   "metadata": {},
   "outputs": [
    {
     "data": {
      "application/vnd.jupyter.widget-view+json": {
       "model_id": "8b0d1ff088a549478d1b5b41c8d9e132",
       "version_major": 2,
       "version_minor": 0
      },
      "text/plain": [
       "Batches:   0%|          | 0/1 [00:00<?, ?it/s]"
      ]
     },
     "metadata": {},
     "output_type": "display_data"
    },
    {
     "ename": "KeyError",
     "evalue": "'content'",
     "output_type": "error",
     "traceback": [
      "\u001b[0;31m---------------------------------------------------------------------------\u001b[0m",
      "\u001b[0;31mKeyError\u001b[0m                                  Traceback (most recent call last)",
      "Cell \u001b[0;32mIn[37], line 16\u001b[0m\n\u001b[1;32m     14\u001b[0m \u001b[38;5;66;03m# Test the agent with a sample query\u001b[39;00m\n\u001b[1;32m     15\u001b[0m user_query \u001b[38;5;241m=\u001b[39m \u001b[38;5;124m\"\u001b[39m\u001b[38;5;124mHow can I create a cat-friendly environment?\u001b[39m\u001b[38;5;124m\"\u001b[39m\n\u001b[0;32m---> 16\u001b[0m response \u001b[38;5;241m=\u001b[39m \u001b[43mask_agent\u001b[49m\u001b[43m(\u001b[49m\u001b[43muser_query\u001b[49m\u001b[43m)\u001b[49m\n\u001b[1;32m     17\u001b[0m \u001b[38;5;28mprint\u001b[39m(\u001b[38;5;124m\"\u001b[39m\u001b[38;5;124mAgent Response:\u001b[39m\u001b[38;5;124m\"\u001b[39m, response)\n",
      "Cell \u001b[0;32mIn[37], line 6\u001b[0m, in \u001b[0;36mask_agent\u001b[0;34m(query)\u001b[0m\n\u001b[1;32m      3\u001b[0m relevant_texts \u001b[38;5;241m=\u001b[39m retrieve_similar_embeddings(query, text_store)\n\u001b[1;32m      5\u001b[0m \u001b[38;5;66;03m# Combine text responses\u001b[39;00m\n\u001b[0;32m----> 6\u001b[0m text_response \u001b[38;5;241m=\u001b[39m \u001b[38;5;124m\"\u001b[39m\u001b[38;5;124m \u001b[39m\u001b[38;5;124m\"\u001b[39m\u001b[38;5;241m.\u001b[39mjoin(\u001b[43m[\u001b[49m\u001b[43mtext\u001b[49m\u001b[43m[\u001b[49m\u001b[38;5;124;43m\"\u001b[39;49m\u001b[38;5;124;43mcontent\u001b[39;49m\u001b[38;5;124;43m\"\u001b[39;49m\u001b[43m]\u001b[49m\u001b[43m \u001b[49m\u001b[38;5;28;43;01mfor\u001b[39;49;00m\u001b[43m \u001b[49m\u001b[43mtext\u001b[49m\u001b[43m \u001b[49m\u001b[38;5;129;43;01min\u001b[39;49;00m\u001b[43m \u001b[49m\u001b[43mrelevant_texts\u001b[49m\u001b[43m]\u001b[49m)\n\u001b[1;32m      8\u001b[0m \u001b[38;5;66;03m# Final response with formatted sections\u001b[39;00m\n\u001b[1;32m      9\u001b[0m response \u001b[38;5;241m=\u001b[39m (\n\u001b[1;32m     10\u001b[0m     \u001b[38;5;124mf\u001b[39m\u001b[38;5;124m\"\u001b[39m\u001b[38;5;124m**Expert Advice:**\u001b[39m\u001b[38;5;130;01m\\n\u001b[39;00m\u001b[38;5;132;01m{\u001b[39;00mtext_response\u001b[38;5;132;01m}\u001b[39;00m\u001b[38;5;130;01m\\n\u001b[39;00m\u001b[38;5;130;01m\\n\u001b[39;00m\u001b[38;5;124m\"\u001b[39m\n\u001b[1;32m     11\u001b[0m )\n",
      "Cell \u001b[0;32mIn[37], line 6\u001b[0m, in \u001b[0;36m<listcomp>\u001b[0;34m(.0)\u001b[0m\n\u001b[1;32m      3\u001b[0m relevant_texts \u001b[38;5;241m=\u001b[39m retrieve_similar_embeddings(query, text_store)\n\u001b[1;32m      5\u001b[0m \u001b[38;5;66;03m# Combine text responses\u001b[39;00m\n\u001b[0;32m----> 6\u001b[0m text_response \u001b[38;5;241m=\u001b[39m \u001b[38;5;124m\"\u001b[39m\u001b[38;5;124m \u001b[39m\u001b[38;5;124m\"\u001b[39m\u001b[38;5;241m.\u001b[39mjoin([\u001b[43mtext\u001b[49m\u001b[43m[\u001b[49m\u001b[38;5;124;43m\"\u001b[39;49m\u001b[38;5;124;43mcontent\u001b[39;49m\u001b[38;5;124;43m\"\u001b[39;49m\u001b[43m]\u001b[49m \u001b[38;5;28;01mfor\u001b[39;00m text \u001b[38;5;129;01min\u001b[39;00m relevant_texts])\n\u001b[1;32m      8\u001b[0m \u001b[38;5;66;03m# Final response with formatted sections\u001b[39;00m\n\u001b[1;32m      9\u001b[0m response \u001b[38;5;241m=\u001b[39m (\n\u001b[1;32m     10\u001b[0m     \u001b[38;5;124mf\u001b[39m\u001b[38;5;124m\"\u001b[39m\u001b[38;5;124m**Expert Advice:**\u001b[39m\u001b[38;5;130;01m\\n\u001b[39;00m\u001b[38;5;132;01m{\u001b[39;00mtext_response\u001b[38;5;132;01m}\u001b[39;00m\u001b[38;5;130;01m\\n\u001b[39;00m\u001b[38;5;130;01m\\n\u001b[39;00m\u001b[38;5;124m\"\u001b[39m\n\u001b[1;32m     11\u001b[0m )\n",
      "\u001b[0;31mKeyError\u001b[0m: 'content'"
     ]
    }
   ],
   "source": [
    "def ask_agent(query):\n",
    "    # Retrieve similar text embeddings\n",
    "    relevant_texts = retrieve_similar_embeddings(query, text_store)\n",
    "    \n",
    "    # Combine text responses\n",
    "    text_response = \" \".join([text[\"content\"] for text in relevant_texts])\n",
    "    \n",
    "    # Final response with formatted sections\n",
    "    response = (\n",
    "        f\"**Expert Advice:**\\n{text_response}\\n\\n\"\n",
    "    )\n",
    "    return response\n",
    "\n",
    "# Test the agent with a sample query\n",
    "user_query = \"How can I create a cat-friendly environment?\"\n",
    "response = ask_agent(user_query)\n",
    "print(\"Agent Response:\", response)\n"
   ]
  },
  {
   "cell_type": "markdown",
   "metadata": {},
   "source": [
    "# Implement a Feedback Loop"
   ]
  },
  {
   "cell_type": "code",
   "execution_count": null,
   "metadata": {},
   "outputs": [],
   "source": [
    "import json\n",
    "\n",
    "# Define a function to log feedback\n",
    "feedback_log = \"feedback_log.json\"  # Path to store feedback\n",
    "\n",
    "def log_feedback(query, response, rating, comment=None):\n",
    "    feedback_entry = {\n",
    "        \"query\": query,\n",
    "        \"response\": response,\n",
    "        \"rating\": rating,\n",
    "        \"comment\": comment\n",
    "    }\n",
    "    \n",
    "    # Append feedback to a JSON file\n",
    "    try:\n",
    "        with open(feedback_log, \"a\") as f:\n",
    "            f.write(json.dumps(feedback_entry) + \"\\n\")\n",
    "    except IOError:\n",
    "        print(\"Error logging feedback.\")\n",
    "\n",
    "def collect_feedback(query, response):\n",
    "    print(\"Rate the helpfulness of the response (1-5):\")\n",
    "    rating = int(input(\"Rating: \"))\n",
    "    comment = input(\"Any comments? \")\n",
    "\n",
    "# Log the feedback\n",
    "    langsmith.invoke(\"user_feedback\", {\n",
    "        \"query\": query,\n",
    "        \"response\": response,\n",
    "        \"rating\": rating,\n",
    "        \"comment\": comment\n",
    "    })\n",
    "\n",
    "# Append feedback to JSON log\n",
    "    log_feedback(query, response, rating, comment)\n",
    "    print(\"Thank you for your feedback!\")\n",
    "\n",
    "# Test the agent with feedback\n",
    "#user_query = \"Why does my cat scratch furniture?\"\n",
    "#response = ask_agent(user_query)\n",
    "#print(\"Agent Response:\", response)\n",
    "\n",
    "# Collect feedback from user\n",
    "#collect_feedback(user_query, response)\n",
    "\n"
   ]
  },
  {
   "cell_type": "markdown",
   "metadata": {},
   "source": [
    "# Implement Personalization"
   ]
  },
  {
   "cell_type": "code",
   "execution_count": null,
   "metadata": {},
   "outputs": [],
   "source": [
    "# Dictionary to store user profiles\n",
    "user_profiles = {}\n",
    "\n",
    "# Function to initialize or update a user profile\n",
    "def get_user_profile(user_id):\n",
    "    if user_id not in user_profiles:\n",
    "        user_profiles[user_id] = {\n",
    "            \"name\": \"User\",\n",
    "            \"preferred_response_length\": \"detailed\",  # or 'concise'\n",
    "            \"interest_areas\": [\"behavior\", \"environment\"]\n",
    "        }\n",
    "    return user_profiles[user_id]\n",
    "\n",
    "# Function to update profile details\n",
    "def update_user_profile(user_id, name=None, response_length=None, interests=None):\n",
    "    profile = get_user_profile(user_id)\n",
    "    if name:\n",
    "        profile[\"name\"] = name\n",
    "    if response_length:\n",
    "        profile[\"preferred_response_length\"] = response_length\n",
    "    if interests:\n",
    "        profile[\"interest_areas\"] = interests\n"
   ]
  },
  {
   "cell_type": "markdown",
   "metadata": {},
   "source": [
    "# Optimize Memory Management"
   ]
  },
  {
   "cell_type": "code",
   "execution_count": null,
   "metadata": {},
   "outputs": [],
   "source": [
    "# Limit memory length to relevant recent exchanges\n",
    "def manage_memory(query, user_id, max_exchanges=3):\n",
    "    profile = get_user_profile(user_id)\n",
    "    relevant_context = \"\\n\".join([context for context in context_history[-max_exchanges:] \n",
    "                                  if any(area in context for area in profile[\"interest_areas\"])])\n",
    "    return relevant_context\n"
   ]
  },
  {
   "cell_type": "markdown",
   "metadata": {},
   "source": [
    "# Intent Handling Detection"
   ]
  },
  {
   "cell_type": "markdown",
   "metadata": {},
   "source": [
    "We’ll add a simple intent classification to help the chatbot recognize and respond to different types of user intents. Basic intents might include requests for:\n",
    "\n",
    "Advice: General guidance or recommendations.\n",
    "Visual Examples: Requests for images or visual aids.\n",
    "Detailed Explanations: In-depth responses for complex questions.\n",
    "Define Intent Detection\n",
    "For simplicity, we’ll use keywords to detect intents. For more robust intent classification, you could use a trained NLP model."
   ]
  },
  {
   "cell_type": "code",
   "execution_count": null,
   "metadata": {},
   "outputs": [],
   "source": [
    "def detect_intent(query):\n",
    "    intent = \"advice\"  # Default intent\n",
    "    if any(word in query for word in [\"how\", \"why\"]):\n",
    "        intent = \"advice\"\n",
    "    elif any(word in query for word in [\"show\", \"picture\", \"visual\", \"image\"]):\n",
    "        intent = \"visual_example\"\n",
    "    elif any(word in query for word in [\"explain\", \"detailed\", \"in-depth\"]):\n",
    "        intent = \"detailed_explanation\"\n",
    "    \n",
    "    # LangSmith invoke to log intent detection\n",
    "    langsmith.invoke(\"intent_detection\", {\"query\": query, \"detected_intent\": intent})\n",
    "    \n",
    "    return intent\n"
   ]
  },
  {
   "cell_type": "markdown",
   "metadata": {},
   "source": [
    "# Modify ask_agent to Use Personalization, Memory Management, and Intent Handling\n",
    "Update the main function to:\n",
    "\n",
    "Retrieve the user’s profile.\n",
    "Use the detected intent to adjust the response.\n",
    "Apply memory management to provide relevant context.\n"
   ]
  },
  {
   "cell_type": "code",
   "execution_count": null,
   "metadata": {},
   "outputs": [],
   "source": [
    "from sklearn.metrics.pairwise import cosine_similarity\n",
    "\n",
    "# Mock storage for embeddings (use actual embeddings in a real setup)\n",
    "text_store = {}\n",
    "image_store = {}\n",
    "\n",
    "# Define `retrieve_documents` function\n",
    "def retrieve_documents(query, top_k=2):\n",
    "    query_embedding = clip_embd.embed_documents([query])\n",
    "    text_results, image_results = [], []\n",
    "    \n",
    "    # Retrieve text and image embeddings\n",
    "    for item in text_store.values():\n",
    "        score = cosine_similarity(query_embedding, item[\"embedding\"]).flatten()[0]\n",
    "        text_results.append((score, item))\n",
    "    text_results = sorted(text_results, key=lambda x: x[0], reverse=True)[:top_k]\n",
    "    \n",
    "   \n",
    "    relevant_texts = [item[1] for item in text_results]\n",
    "    \n",
    "    # LangSmith invoke to log retrieval details\n",
    "    langsmith.invoke(\"retrieval\", {\n",
    "        \"query\": query,\n",
    "        \"text_results\": [t[1][\"text\"] for t in text_results],\n",
    "    })\n",
    "    \n",
    "    return relevant_texts, relevant_images\n"
   ]
  },
  {
   "cell_type": "code",
   "execution_count": null,
   "metadata": {},
   "outputs": [],
   "source": [
    "%pip install --upgrade gradio\n",
    "%pip install SpeechRecognition\n",
    "%pip install gTTS\n",
    "\n",
    "\n"
   ]
  },
  {
   "cell_type": "markdown",
   "metadata": {},
   "source": [
    "# Gradio deployment"
   ]
  },
  {
   "cell_type": "code",
   "execution_count": null,
   "metadata": {},
   "outputs": [
    {
     "ename": "ModuleNotFoundError",
     "evalue": "No module named 'main'",
     "output_type": "error",
     "traceback": [
      "\u001b[0;31m---------------------------------------------------------------------------\u001b[0m",
      "\u001b[0;31mModuleNotFoundError\u001b[0m                       Traceback (most recent call last)",
      "Cell \u001b[0;32mIn[49], line 5\u001b[0m\n\u001b[1;32m      3\u001b[0m \u001b[38;5;28;01mfrom\u001b[39;00m \u001b[38;5;21;01mgtts\u001b[39;00m \u001b[38;5;28;01mimport\u001b[39;00m gTTS\n\u001b[1;32m      4\u001b[0m \u001b[38;5;28;01mimport\u001b[39;00m \u001b[38;5;21;01mtempfile\u001b[39;00m\n\u001b[0;32m----> 5\u001b[0m \u001b[38;5;28;01mfrom\u001b[39;00m \u001b[38;5;21;01mmain\u001b[39;00m \u001b[38;5;28;01mimport\u001b[39;00m ask_agent  \u001b[38;5;66;03m# Import the ask_agent function\u001b[39;00m\n\u001b[1;32m      7\u001b[0m \u001b[38;5;66;03m# Convert audio to text using Google Speech Recognition\u001b[39;00m\n\u001b[1;32m      8\u001b[0m \u001b[38;5;28;01mdef\u001b[39;00m \u001b[38;5;21maudio_to_text\u001b[39m(audio_file):\n",
      "\u001b[0;31mModuleNotFoundError\u001b[0m: No module named 'main'"
     ]
    }
   ],
   "source": [
    "import gradio as gr\n",
    "import speech_recognition as sr\n",
    "from gtts import gTTS\n",
    "import tempfile\n",
    "from main import ask_agent  # Import the ask_agent function\n",
    "\n",
    "# Convert audio to text using Google Speech Recognition\n",
    "def audio_to_text(audio_file):\n",
    "    recognizer = sr.Recognizer()\n",
    "    with sr.AudioFile(audio_file) as source:\n",
    "        audio_data = recognizer.record(source)\n",
    "        try:\n",
    "            text = recognizer.recognize_google(audio_data)\n",
    "            return text\n",
    "        except sr.UnknownValueError:\n",
    "            return \"Sorry, I could not understand the audio.\"\n",
    "        except sr.RequestError:\n",
    "            return \"Could not request results; check your internet connection.\"\n",
    "\n",
    "# Convert text to speech using gTTS\n",
    "def handle_input(input_text=None, audio_file=None):\n",
    "    transcribed_text = input_text\n",
    "    if audio_file is not None:\n",
    "        transcribed_text = audio_to_text(audio_file)\n",
    "        if transcribed_text.startswith(\"Sorry\"):\n",
    "            # Log failed transcription\n",
    "            langsmith.invoke(\"transcription_error\", {\n",
    "                \"input_type\": \"audio\",\n",
    "                \"transcribed_text\": transcribed_text\n",
    "            })\n",
    "            return transcribed_text, None\n",
    "\n",
    "    # Log user's text input\n",
    "    langsmith.invoke(\"user_input\", {\n",
    "        \"input_type\": \"text\" if audio_file is None else \"audio\",\n",
    "        \"text\": transcribed_text\n",
    "    })\n",
    "\n",
    "    # Call ask_agent and log the response\n",
    "    response_text = ask_agent(transcribed_text)\n",
    "    langsmith.invoke(\"final_response\", {\n",
    "        \"user_query\": transcribed_text,\n",
    "        \"response\": response_text\n",
    "    })\n",
    "\n",
    "    audio_response = text_to_speech_gtts(response_text)\n",
    "    return response_text, audio_response\n",
    "\n",
    "\n",
    "\n",
    "\n",
    "# Create Gradio interface\n",
    "iface = gr.Interface(\n",
    "    fn=handle_input,\n",
    "    inputs=[\n",
    "        gr.Textbox(placeholder=\"Type your question here...\", label=\"Text Input\"),\n",
    "        gr.Audio(type=\"filepath\", label=\"Or speak your question\")\n",
    "    ],\n",
    "    outputs=[\n",
    "        gr.Textbox(label=\"Cat Expert's Response\"),\n",
    "        gr.Audio(label=\"Spoken Response\")\n",
    "    ],\n",
    "    title=\"Cat Behavior Expert Chatbot\",\n",
    "    description=\"Ask questions about cat behavior, either by typing or speaking.\",\n",
    ")\n",
    "\n",
    "# Launch the interface\n",
    "iface.launch(share=True)\n"
   ]
  }
 ],
 "metadata": {
  "kernelspec": {
   "display_name": "Python 3 (ipykernel)",
   "language": "python",
   "name": "python3"
  },
  "language_info": {
   "codemirror_mode": {
    "name": "ipython",
    "version": 3
   },
   "file_extension": ".py",
   "mimetype": "text/x-python",
   "name": "python",
   "nbconvert_exporter": "python",
   "pygments_lexer": "ipython3",
   "version": "3.11.7"
  }
 },
 "nbformat": 4,
 "nbformat_minor": 2
}
