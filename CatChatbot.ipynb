{
 "cells": [
  {
   "cell_type": "markdown",
   "metadata": {},
   "source": [
    "# The Cat Expert Bot"
   ]
  },
  {
   "cell_type": "markdown",
   "metadata": {},
   "source": [
    "Install the nesesary stuff"
   ]
  },
  {
   "cell_type": "code",
   "execution_count": null,
   "metadata": {},
   "outputs": [],
   "source": [
    "%pip install pytube\n",
    "%pip install --upgrade pytube\n",
    "%pip install yt-dlp\n",
    "%pip install moviepy\n",
    "%pip install whisper\n",
    "%pip install chromadb sentence-transformers\n",
    "%pip install git+https://github.com/openai/whisper.git\n",
    "%pip install pytubefix\n",
    "%pip install chromadb\n",
    "%pip install langchain\n",
    "%pip install openai\n",
    "%pip install opencv-python\n",
    "%pip install git+https://github.com/openai/whisper.git\n"
   ]
  },
  {
   "cell_type": "markdown",
   "metadata": {},
   "source": [
    "# LangSmith - LangChain evaluation"
   ]
  },
  {
   "cell_type": "code",
   "execution_count": 1,
   "metadata": {},
   "outputs": [],
   "source": [
    "\n",
    "from dotenv import load_dotenv, find_dotenv\n",
    "import os\n",
    "_ = load_dotenv(\"./notebooks/apikey.env\")\n",
    "# Enable LangSmith tracing with environment variables\n",
    "os.environ[\"LANGCHAIN_TRACING_V2\"] = \"true\"\n",
    "os.environ[\"LANGCHAIN_ENDPOINT\"] = \"https://api.smith.langchain.com\"\n",
    "os.environ[\"LANGCHAIN_PROJECT\"] = \"cat_expert_knowledge\"\n",
    "\n",
    "\n",
    "OPENAI_API_KEY  = os.getenv('OPENAI_API_KEY')\n",
    "LANGCHAIN_API_KEY = os.getenv(\"LANGCHAIN_API_KEY\")\n",
    "HUGGINGFACEHUB_API_TOKEN = os.getenv(\"HUGGINGFACEHUB_API_TOKEN\")\n",
    "\n",
    "#Importing Client from Langsmith\n",
    "from langsmith import Client\n",
    "client = Client(api_key=LANGCHAIN_API_KEY)"
   ]
  },
  {
   "cell_type": "code",
   "execution_count": 6,
   "metadata": {},
   "outputs": [
    {
     "name": "stdout",
     "output_type": "stream",
     "text": [
      "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\n"
     ]
    },
    {
     "data": {
      "text/plain": [
       "'/notebooks'"
      ]
     },
     "execution_count": 6,
     "metadata": {},
     "output_type": "execute_result"
    }
   ],
   "source": [
    "print (LANGCHAIN_API_KEY)\n",
    "import os\n",
    "os.path.abspath(os.getcwd())"
   ]
  },
  {
   "cell_type": "code",
   "execution_count": 2,
   "metadata": {},
   "outputs": [
    {
     "data": {
      "text/plain": [
       "AIMessage(content='Hello! How can I assist you today?', additional_kwargs={'refusal': None}, response_metadata={'token_usage': {'completion_tokens': 9, 'prompt_tokens': 11, 'total_tokens': 20, 'completion_tokens_details': {'accepted_prediction_tokens': 0, 'audio_tokens': None, 'reasoning_tokens': 0, 'rejected_prediction_tokens': 0}, 'prompt_tokens_details': {'audio_tokens': None, 'cached_tokens': 0}}, 'model_name': 'gpt-3.5-turbo-0125', 'system_fingerprint': None, 'finish_reason': 'stop', 'logprobs': None}, id='run-47ca43a5-a936-4df8-9d38-3b28b5753076-0', usage_metadata={'input_tokens': 11, 'output_tokens': 9, 'total_tokens': 20, 'input_token_details': {'cache_read': 0}, 'output_token_details': {'reasoning': 0}})"
      ]
     },
     "execution_count": 2,
     "metadata": {},
     "output_type": "execute_result"
    }
   ],
   "source": [
    "from langchain_openai import ChatOpenAI\n",
    "\n",
    "llm = ChatOpenAI()\n",
    "llm.invoke(\"Hello, world!\")"
   ]
  },
  {
   "cell_type": "markdown",
   "metadata": {},
   "source": [
    "Load the videos to learn.\n",
    "Video to Audio"
   ]
  },
  {
   "cell_type": "code",
   "execution_count": 11,
   "metadata": {},
   "outputs": [],
   "source": [
    "from pytubefix import YouTube\n",
    "\n",
    "# Replace with your list of YouTube URLs\n",
    "video_urls = [\"https://youtu.be/ZUcVUFvmDFE?si=z9GfOAWF1qothiKs\", \n",
    "            \"https://youtu.be/4DlJYcfiRu4?si=cUVT9L5dEEdkcSt_\", \n",
    "            \"https://youtu.be/rxInrRQLEmM?si=Ai7wHN0dI--cns0x\", \n",
    "            \"https://youtu.be/gxlNfh5ukMw?si=naO3n4VZeXx3PlOs\", \n",
    "            \"https://youtu.be/ojS7XwtoXtw?si=NpNSef7dCm_LnFPv\", \n",
    "            \"https://youtu.be/tsYT7yIOdqQ?si=hdGEpxlmFNMf7NNQ\", \n",
    "            \"https://youtu.be/tsYT7yIOdqQ?si=e_Zdh2dGpqempHR8\", \n",
    "            \"https://youtu.be/UWohxDOXsl4?si=y1nXlUZYw6uzkc8n\", \n",
    "            \"https://youtu.be/gZrwcoiy_gY?si=ksfYE03t6xtuxUL0\", \n",
    "            \"https://youtu.be/lSDI5diNu4Y?si=Q-In6zMD4ZpuaPIz\", \n",
    "            \"https://youtu.be/8aCGL9GpVUg?si=_0yF1U1thjwJqyPY\", \n",
    "            \"https://youtu.be/VjOXvD7OvrE?si=t6xugNxLeMjpsi7E\", \n",
    "            \"https://youtu.be/FzifwTnCV5s?si=sR_u4kG-4NoQx5Ux\", \n",
    "            \"https://youtu.be/XreeFU7RYeI?si=hsc9WO24dJP6AfV2\", \n",
    "            \"https://youtu.be/-4O97jw_8Bc?si=pC14dgZ_f4mXdYPv\" ]\n",
    "\n",
    "for url in video_urls:\n",
    "    yt = YouTube(url)\n",
    "    video = yt.streams.filter(only_audio=True).first()\n",
    "    video.download(output_path=\"path/to/m4a\")\n"
   ]
  },
  {
   "cell_type": "markdown",
   "metadata": {},
   "source": [
    "# Transcriptions done by Whisper"
   ]
  },
  {
   "cell_type": "code",
   "execution_count": 13,
   "metadata": {},
   "outputs": [
    {
     "name": "stderr",
     "output_type": "stream",
     "text": [
      "100%|████████████████████████████████████████| 139M/139M [00:00<00:00, 173MiB/s]\n"
     ]
    },
    {
     "name": "stdout",
     "output_type": "stream",
     "text": [
      "Transcribed and saved: /notebooks/path/to/transcriptions/When Cat Introductions Get UGLY.txt\n",
      "Transcribed and saved: /notebooks/path/to/transcriptions/Can my Cats Get Along? Cat-to-Cat Body Language basics & Introduction Tips.txt\n",
      "Transcribed and saved: /notebooks/path/to/transcriptions/How To Introduce Your Cat to a New KITTEN!.txt\n",
      "Transcribed and saved: /notebooks/path/to/transcriptions/How to Introduce Cats.txt\n",
      "Transcribed and saved: /notebooks/path/to/transcriptions/Are My Cats Playing or Fighting? | Cat Playing vs Cat Aggression.txt\n",
      "Transcribed and saved: /notebooks/path/to/transcriptions/Cat Introductions Gone Wrong: They Will NOT Work it Out Without You.txt\n",
      "Transcribed and saved: /notebooks/path/to/transcriptions/This was BAD!! 🙀🤯🫣 #shorts.txt\n",
      "Transcribed and saved: /notebooks/path/to/transcriptions/The Do's & Don'ts of Introducing Cats.txt\n",
      "Transcribed and saved: /notebooks/path/to/transcriptions/Cat Introductions: Good First Impressions are a must!.txt\n",
      "Transcribed and saved: /notebooks/path/to/transcriptions/The Best Way To Introduce Your Two Cats.txt\n",
      "Transcribed and saved: /notebooks/path/to/transcriptions/Cat Introductions: Does your Senior Need A Friend?.txt\n",
      "Transcribed and saved: /notebooks/path/to/transcriptions/Why You Should Get Another Cat.txt\n",
      "Transcribed and saved: /notebooks/path/to/transcriptions/Can Cats & Dogs Be Friends? | Jackson Galaxy.txt\n",
      "Transcribed and saved: /notebooks/path/to/transcriptions/Brady Bunching: Introducing Two Groups of Cats.txt\n"
     ]
    }
   ],
   "source": [
    "import whisper\n",
    "import os\n",
    "\n",
    "# Load Whisper model\n",
    "model = whisper.load_model(\"base\")\n",
    "\n",
    "# Directory containing your .m4a files\n",
    "audio_dir = \"/notebooks/path/to/m4a/\"\n",
    "transcription_dir = \"/notebooks/path/to/transcriptions/\"\n",
    "\n",
    "# Ensure the transcription directory exists\n",
    "os.makedirs(transcription_dir, exist_ok=True)\n",
    "\n",
    "# List all .m4a files in the audio directory\n",
    "audio_files = [f for f in os.listdir(audio_dir) if f.endswith(\".m4a\")]\n",
    "\n",
    "# Transcribe each audio file and save it as a .txt file\n",
    "for audio_file in audio_files:\n",
    "    audio_path = os.path.join(audio_dir, audio_file)\n",
    "    try:\n",
    "        transcription = model.transcribe(audio_path)\n",
    "\n",
    "        # Save transcription to a .txt file\n",
    "        \n",
    "        transcription_file = os.path.join(transcription_dir, audio_file.replace(\".m4a\", \".txt\"))\n",
    "        with open(transcription_file, \"w\") as f:\n",
    "            f.write(transcription['text'])\n",
    "        print(f\"Transcribed and saved: {transcription_file}\")\n",
    "    except Exception as e:\n",
    "        print(f\"Failed to transcribe {audio_file}: {e}\")\n",
    "\n"
   ]
  },
  {
   "cell_type": "markdown",
   "metadata": {},
   "source": [
    "# Chromadb as Client and creation of Collection"
   ]
  },
  {
   "cell_type": "code",
   "execution_count": null,
   "metadata": {},
   "outputs": [],
   "source": [
    "%pip install --upgrade huggingface_hub\n",
    "%pip install --upgrade sentence-transformers\n",
    "\n"
   ]
  },
  {
   "cell_type": "code",
   "execution_count": 3,
   "metadata": {},
   "outputs": [
    {
     "name": "stderr",
     "output_type": "stream",
     "text": [
      "/usr/local/lib/python3.11/dist-packages/sentence_transformers/cross_encoder/CrossEncoder.py:13: TqdmExperimentalWarning: Using `tqdm.autonotebook.tqdm` in notebook mode. Use `tqdm.tqdm` instead to force console mode (e.g. in jupyter console)\n",
      "  from tqdm.autonotebook import tqdm, trange\n",
      "2024-11-05 10:30:28.085581: E external/local_xla/xla/stream_executor/cuda/cuda_dnn.cc:9261] Unable to register cuDNN factory: Attempting to register factory for plugin cuDNN when one has already been registered\n",
      "2024-11-05 10:30:28.085652: E external/local_xla/xla/stream_executor/cuda/cuda_fft.cc:607] Unable to register cuFFT factory: Attempting to register factory for plugin cuFFT when one has already been registered\n",
      "2024-11-05 10:30:28.086798: E external/local_xla/xla/stream_executor/cuda/cuda_blas.cc:1515] Unable to register cuBLAS factory: Attempting to register factory for plugin cuBLAS when one has already been registered\n",
      "2024-11-05 10:30:28.093503: I tensorflow/core/platform/cpu_feature_guard.cc:182] This TensorFlow binary is optimized to use available CPU instructions in performance-critical operations.\n",
      "To enable the following instructions: AVX2 FMA, in other operations, rebuild TensorFlow with the appropriate compiler flags.\n",
      "2024-11-05 10:30:28.889669: W tensorflow/compiler/tf2tensorrt/utils/py_utils.cc:38] TF-TRT Warning: Could not find TensorRT\n"
     ]
    },
    {
     "name": "stdout",
     "output_type": "stream",
     "text": [
      "Transcriptions successfully stored in ChromaDB!\n"
     ]
    }
   ],
   "source": [
    "import chromadb\n",
    "from sentence_transformers import SentenceTransformer\n",
    "import glob\n",
    "\n",
    "# Initialize ChromaDB client and create a collection\n",
    "client = chromadb.Client()\n",
    "\n",
    "# Check if the collection exists; create if not\n",
    "if \"cat_expert_knowledge\" not in [col.name for col in client.list_collections()]:\n",
    "    collection = client.create_collection(\"cat_expert_knowledge\")\n",
    "else:\n",
    "    collection = client.get_collection(\"cat_expert_knowledge\")\n",
    "\n",
    "\n",
    "# Load the embedding model\n",
    "model = SentenceTransformer('all-MiniLM-L6-v2')\n",
    "\n",
    "# Load and process each transcription file\n",
    "for idx, transcription_file in enumerate(glob.glob(\"/notebooks/path/to/transcriptions/*.txt\")):\n",
    "    with open(transcription_file, \"r\") as f:\n",
    "        text = f.read()\n",
    "\n",
    "    # Create an embedding for the transcription\n",
    "    embedding = model.encode(text).tolist()\n",
    "    topic = os.path.basename(transcription_file).replace(\".txt\", \"\")  # Use file name as topic\n",
    "\n",
    "    # Add to ChromaDB collection with a unique ID\n",
    "    collection.add(\n",
    "        ids=[f\"doc_{idx}\"],  # Unique ID for each document\n",
    "        documents=[text],\n",
    "        metadatas=[{\"topic\": topic, \"source\": transcription_file}],\n",
    "        embeddings=[embedding]\n",
    "    )\n",
    "\n",
    "print(\"Transcriptions successfully stored in ChromaDB!\")"
   ]
  },
  {
   "cell_type": "markdown",
   "metadata": {},
   "source": [
    "# Querying Chromadb"
   ]
  },
  {
   "cell_type": "code",
   "execution_count": 4,
   "metadata": {},
   "outputs": [
    {
     "name": "stdout",
     "output_type": "stream",
     "text": [
      "Retrieved Text: [\" What's up gang is I Jackson Galaxy your cat daddy and today your cat question answerer that is what I'm here for today hopefully we get questions all the time from folks just like you who sent it into this address right there which you of course can do as well and today we're gonna talk to Kinesha Kinesha what's it all about hi Jackson I'm Kinesha from the Cayman Islands my husband and I have a cat sunshine she's 11 years old and we've always wanted to get another cat to you know keep her company and also rescue from the human society but you know we're a bit worried because she has been the only cat in the home for so long in 11 years and we just wonder whether or not she'll be very receptive to the addition of another cat in the home we'd love your feedback on the best approach to do so you know what can we do to make this a seamless process because we'd really love for it to be a success and to avoid any elimination or scratching or you know any of the behaviors that are likely to be exhibited if she is unhappy with the addition of the new cat which she has done in the past in some instances when you know we have gone out and left her for too long so I'd really love to hear your thoughts on that thank you all right well first of all Kinesha right on I'm so glad that you're all about rescuing the cats in your area who need homes I mean that goes without saying and of course I want you to do that at the same time we do have to take care of what sunshine's needs are at this point and at 11 years old and from what I understand from what you said she's never been around another cat before you know that's that's something you really just need to consider a couple of things that I noticed in what you sent me was first of all this so clearly sunshine is still playful she likes to be a little mischievous and chase things under the sheets and whatnot and that tells us okay so she still has that get up and go at 11 years old is still let's just be very clear about this where she's technically a senior some cats are just more senior than others and some just retain that playfulness that inquisitiveness and it's important to know who sunshine is before we compliment her with someone that sunshine would like now there are a couple of different ways you can go you can adopt another senior and that believe me not just you Kinesha but everyone you guys seniors need homes so much quicker than other cats because the stress that they go through in rescue environments is multiplied because we know that as cats get older they manifest stress physically a lot quicker than younger cats so yeah man getting seniors out of out of rescue situations is paramount so I would definitely encourage that what I would encourage is a cat that maybe has been around other cats before so the adjustment for the newcomer isn't as bad as it could be and by that cat being somewhat relaxed perhaps sunshine will be as well the second way you can go now folks do this all the time they have older cats they are missing the concept of youthful energy and they go out and they adopt a kitten and they always say the same thing it's for the cat my cat needs a friend and let me tell you something your senior cat does not need a kitten no they do not need a kitten in their life they've got this they're settled they have their territory sort of buttoned down they know what every day is going to bring and all of a sudden Dennis the men is shows up with a slingshot and everything is just shot if you are thinking about bringing a kitten into a home with a cat like sunshine first of all remember something whether it's you Kanisha or anybody else it's for you it's not for sunshine sunshine could get used to it but it's because you want another cat in the house and Kanisha made that clear that this is more about what you guys would like so I like the fact that you're starting from there but I'm telling you this you guys if you're going to adopt a younger cat whether it's a kitten or a teenager anywhere in the first year of life adopt to just bring home to to is always better than one especially when it comes to kittens those guys will entertain each other they will learn the ropes they will play at their speed and sunshine then has that ability to watch them from a distance and figure out what this thing is all about and be able to join when she wants to and walk away when she wants to as well yeah every now and again the kittens will decide that sunshine's tail is the best toy in the whole wide world but you guys can deal with that as long as you let sunshine know that this is her place so she doesn't feel like she needs to claim it away from someone else then that's a great place to start so whether it's two kittens or one senior or anywhere in between I guess it's more about when you meet that cat how do you think they'll match up are you getting a cat who is just really really hyper and sunshine doesn't seem to be or are you getting someone who matches her energy level I think that that's really one of the the best things that you can do now whether again it's a kitten or a teenager or a senior or anywhere in between any cat that you go I think sunshine will be able to cope with this cat then it all comes down to the introduction process and and that to me is the most key element of making a resident cat happy who's not been around other cats her whole life just safe introductions if you check out my book Total Cat Mojo you'll see the entire introduction process laid out in exhaustive detail we've got videos about introducing cats so take a look at my videos there's a few I'll leave them in the description one you want to make sure that you establish a really good base camp for your newcomer so that's one video the second one would be about introducing cats don't skip the steps even if you go quickly through them because sunshine is like yeah none of this matters to me great but you might see that it does matter to her that she smells cats under the door and goes what's going on here and as long as you do it slowly and you don't threaten her well-being you know what you can bring cats into the house it's my belief that cats should be with other cats so whether you bring in a senior kinesha whether you bring in a couple of kittens not one but a couple of kittens there's a really good chance that you can make it work to your satisfaction and to sunshine satisfaction right sunshine right all right you guys keep those questions coming all you got to do is go to this link right down here and it will prompt you to basically do exactly what kinesha did so brilliantly which is to say your name your cat's name what your question is and then some footage of your cat doing anything in this case with sunshine just you know enjoying the Cayman Islands which I think any of us would do and this week's team cat Mojo Rockstar is Batman and now obviously the name Batman got me in the first place but Batman is just an expert fetcher let's take a look his person Lisa knows exactly how to toss it Batman knows exactly how to bring it back and everyone's happy except for this innocent bystander right here there's always the cat in the room was like you guys playing fetch again well I don't understand it this is so boring you throw you bring it back you throw you bring it back and I just have to sit here and watch it all day man anyway Batman's Rockstar and your other cat is great just because they provide such brilliant commentary again for your questions you go to Jackson Galaxy dot com forward slash submit for rock stars you do the exact same thing just make sure you're saying hey my cat's a rock star as opposed to hey I've got a question and then everything falls into place from there all right you guys stay safe out there show some love it doesn't take much and and it makes you feel better and it makes the world go around don't it all right light love and Mojo to you guys take care now\", \" Oh my god. I said, why don't we shoot it to the screen right now? Oh my god. Okay, so the first thing is, why did you let it happen? You know, if you see your cat staring down like that, that is a bad thing. That's like two cats holding guns staring at each other and telling the other one to drop a gun. It's 50-50 that they're going to walk away or they're not going to walk away. In those moments of freeze, stop it. Put something in between them. Make sure it doesn't start. And then if you know these two cats are fighting, separate them because there's no good that comes out. That was like six cats in there. So there's a lot of stuff that you can do to prevent fights from happening. And I've got plenty of videos on that. But in the meantime, if these cats keep fighting, keep them separated. Don't let it get to this point. And then we can try to reintroduce them. But boy, that was bad.\", \" What's up, Groovy Cat people, Jackson Galaxy? You're Cat Daddy and I feel like singing about cat introductions. I got a whole iPad full of people asking me questions about cat introductions. So that's what we're going to talk about today. The most asked question that I get is about I'm trying to introduce these cats and something's not going right. Let's meet our unfortunate cat introduction contestants today. First, we have Haley with her cats Ash and Megan. We have got Ivy with her cats May and August. And finally, we have Jay with her cats Feisty and Sparkle. So let's take a look at what these guys have to say. And let's see if you can identify the common problems that keep resurfacing in these households. Let's see how good your cat knowledge is. What kind of a cat Mojo tier are you anyway? Let's find out. Alright, Haley, take it away. I'm currently reaching out because I'm having an issue with my current cat and my new kitten I just adopted. Her name's Megan. My current cat's name is Ash and he's a male. He's about a year old. The issue I'm having is that I followed all the cat introduction videos to a tee. Ash tends to be overly dominant with her. And I don't know how to get it to stop because I've tried distracting him with toys. I've tried distracting both them with toys. I've tried feeding them treats while they're together. But the only thing he's focused on is her. Hopefully you can kind of see what I'm when I'm trying to explain. I tried almost everything I can think of and nothing's working. You've tried everything and it's been a week. Clearly you may have read something but you missed something also. When she turns her head he pounces and he pins her down and sometimes he'll bite her. Like I don't know if it's play biting. I'm pretty sure it's not hard biting because I don't see any scratches. I don't see any blood being drawn. She doesn't get very scared and she'll hiss and grow. But here's your hint. Body language. Okay enough said. Zip it. Megan's like I'm just going to play with my tail. Enough said. Let's move on to Ivy with her cat's May and August. My name is Ivy and I have a question about two cats who's doing introduction for about a month now. May? She's a girl and she's about one year and three month old. And the other cat who's in the another room right now. His name is August and he's a five month old boy. I was doing step by step introduction and it was progressing for like three weeks. And I finally took the fence away and they were doing good for a while. I mean 10-20 minutes. Props Ivy because look we got 10 or 20 minutes and you got there. You can go anywhere. Nice going Ivy. Nice going May and August you know I know it's hard. Yeah it's been a week since that day but it's not progressing at all right now. Sometimes I do put August on the leash and she seems to be doing okay with the leash on. And May seems a little bit more secure. May is clearly quaking in her boots right here. I don't know. I don't know what state they're in right now. I'm not sure if they're going to progress any further. I really need your advice right now. Thank you. Once again not going to give it away. Body language. And that is May playing the part of a squeaky door. And here's that moment. That moment. And finally we have Jay with her cats feisty and sparkle. I have two cats. This one right here is feisty. She is one years old. And this one right here is sparkle. She's the resident cat. She is seven years old. I got feisty the little one. A few months ago in April when my aunt passed away. She was my aunt's cat. And I haven't properly introduced to cats because I have them. I live in a very small apartment. There's only one bedroom. Only one bedroom? With one bedroom you can have 12 cats. Totally kidding people. Totally kidding. Because the younger one feisty, she tends to text sparkle. She will bang on the litter box whenever sparkles and is using it. She will pounce on sparkle like she's a mouse. She will hunt her down. She will chase her around the house. And sparkle would just run under the bed. And feisty will keep doing that multiple times a day. Just keep harassing the older resident cat. And I don't really know what to do. I feel like the place is too small to try to do a proper introduction. Your house is too small to do a proper introduction. I don't think you live in a shipping container day. I think you can capture the great moment here. I mean like a great moment of chaos. But it's great for someone like me who likes to like dissect these things. So take a look at feisty's body language. You know what's going to come next because you guys are not cat rookies. Here we go. Here we go. Ready? Here we go. And boom. Okay. And there goes a sparkle flash. Come on sparkle. All right. Now we've seen our three households, our three contestants. Have you guys figured out what some of the unifying elements are in these three stories? Here's the first commonality out of the three of them. Is that in one way or another, these guys all said, I've done the introduction technique. And I've taken a step by step. But have you really? So let's take a look at Megan and Ash. If you take a look at this and I'm sorry, Hayley. But if you said you did everything according to the book and you went step by step. And this whole thing just took a week. And at a week later, you're like, I don't know what to do. Then maybe reread that section about it because it's supposed to happen slowly. And as we've seen with all three of these, you let them add each other a little bit too fast because in all three of these circumstances, you're just seeing cats wear it. It's like the training wheels got taken off a little fast. When it comes to the step by step introduction technique, you don't move on to the next step until you get like, you know, your little gold star on this step. In all three of these stories, yeah, somehow, like I said, the training wheels came off a little bit too early and then we've got cats going, you know, in the street. It's clear as much as these three humans love their six cats, they're reading them wrong. It's clear that we're using words like here's Hayley saying, Ash tends to be overly dominant with her. Or whether it's Ivy saying this, May actually started hissing to him. We're not figuring out who these cats are. So let's take a look at some good examples of body language that says, I don't consider you to be the enemy. Hey! All right, so here, you've got Megan trying to learn how to speak cat. The thing about Megan, she looks really tiny and that tells me that she probably wasn't around her mom and her siblings long enough. So now she's with a cat and she's trying to figure out what's going on. Now, on the other hand, you've got Ash, who may not have been around other cats before. In fact, my guess is that he wasn't. So now he's trying to do what he did with his brothers and sisters when he was growing up. And that's just way too much for Megan. So that, and how do I know this? Because right here, they're just adjusting their bodies. So you have Ash just laying back. He's kind of like, all right, I really want to play. That's what I'm seeing here. So we see that body language between these two. And we even see at one point right here, you see Megan going and just sort of playing with her own tail at that point. And just trying to figure out if all is good here. So these are the beginnings of dialogue. Now let's go to Ivy and May and August. So we have all kinds of fun little body language ticks here. First, we have the two of them laying there. And don't forget that Ivy said that August is usually the one who's antagonizing. That's, of course, August is wearing his harness. Well, in this shot right here, August has no care about what May is doing. May is sitting right behind him. And August is just like, he's a little bit empty. I mean, he even does a little slow blink at one point at Ivy. His focus is on Ivy, not on May. And that's a really good sign. And so that tells me things aren't that bad right here. All right. So we've got body language. And again, in the case of feisty and sparkle, if we're learning how to talk cat to each other, clearly feisty is not going to listen. And, you know, we have to just remember that. That one we need to do something about. So Jay, we'll get back to you in a second. So the third commonality between all three cases here is now it's where we get down to like, hey, human, you got a job here. The one thing that is the override and commonality between these three is that the humans aren't doing anything. The thing is, if you let these two stranger cats, and they're still pretty much strangers because they are getting to know each other, getting to know their body language, is how they work, how they talk, etc. How they play, how they fight, you know, what are warnings are, what they're not, etc. The human still has to be the source of not just reassurance and not just, hey, cut that out, but also leading around. Don't ever let them get to the point where they're into the stare down. Perfect example here is May and August. Really, both cats, but especially May, is sitting here going, I don't know what to do. I don't know what to do. So if we do things that we both know how to do, i.e. play and eat and cuddle and do whatever, anything that involves the human calling the shots, you have a much greater chance of success than just allowing them to keep going and hoping it turns out well, because I can tell you that once the stare down happens, it's less than 50-50. I think it would be 70-30 that it's going to end up badly, especially when they don't know each other. You have the ability in that moment to bring out a toy and lead them away, or bring out two toys and lead them away. But all three of you guys are pretty close, but you got to pay attention to the fact that you have a role here. It's not just setting up the space in between the doors. It's not just when do I open the doors, but you got to have a game plan when the doors open. Once they are able to execute common actions together, near one another, that's the best icebreaker in the world, man. It really is. It's like, you know, two people sitting next to each other on a first date. You're on a blind date, and you're sitting there, and you're starting to, like your palms are starting to sweat because you're running out of things to talk about. And then you both realize, wait a minute, you've been to Iceland before, don't you love Iceland? Oh my god, it's the best place in the whole world. Did you go to blah, blah, blah, blah? Did you sit in the hot springs? Yes, wasn't it amazing? You see, and all of a sudden, there we are. I can sort of trust you because you have the same experience that I have. Another not commonality, but individual thing. Let's go to Jay and Feisty and Sparkle. So Jay, you know, one of the things we got to deal with here is, yes, Feisty has a pretty strong prey drive, but he's also a teenager. But one thing is, let's go back to the litter box right here. It's get that litter box out of that corner. Seems like it's got a really high area, like a high lip. Go for a litter box that is just low-sided, no lid. This is why I hate lids on litter boxes, you guys, especially, in multi-cat households, because ambush means that after a while, Sparkle will stop using the litter box. She will stop using it because it's not a safe place. So that's one big thing I would give to you, Jay. We got a work on Feisty, and that leads me to my final thing with all three of you. This is the big one with all three of you guys. Whether we're talking about Ash, August, Feisty, all three of these guys, you really need to play with your cats. Like, you really need to. You got to wear those guys out. We got to bring them down so they're not just full of that cat's static, and they're like, I just got to get this energy out of my system. We just got to get that out of them. So we're talking about separate play times. Don't play with your cats together in these circumstances. Separate them out and exhaust these cats. Take a look at this video over my head right here about the concept I call boil and simmer. Boil and simmer is what you got to do with your high energy, more whatever words you want to use. Dominant, aggressor, bully, fun-loving, teenager, knucklehead, whatever you want to call them. You got to take those that energy down. Now, I could go all day, and I feel like to a certain degree I have, but let's just rewind the commonalities here that we're introducing too fast. We're not hitting that gold star before we go on to the next place. Not really understanding cat body language, and how these guys learn how to relationship. The next thing is that you as the human need to be leading the parade. Don't let the cats call the shots when they're just meeting one another. And then, of course, we have the fact that these aggressor cats or the higher energy cats need to be brought down. So that energy wise, both cats can meet. Oh, and by the way, Jay, you've got a lovely house. It's not too small. As long as you've got a wall, and as long as you've got a door, you can make this happen just fine. Go back and read Total Cat Mojo that chapter about introductions. Read it again and know that you can do this. All for you guys, you can do this. You got a door. You got two different rooms. You've got food. Yay! We can make this work. That's it, you guys. And even if it is about your cats having introduction problems, I don't want you to stop sending in your videos. Just send it right here. Do exactly what these guys did. Even if you're shy like Ivy, and you don't want to show your face. As long as you show your cats plenty, there's a good chance of getting them. And don't forget to subscribe to the channel. That's how we know that we're doing right by you guys. Don't let any of this deter you from not getting another cat in your house. It is a fallacy. It is a stereotype. Cats don't need to be solitary creatures whatsoever. You've just got to do it right. Two is better than one. Three is better than two. In my book, I just, to the bottom of my heart, believe me. So go off and do it. Don't let this video deter you. Okay? Okay. Until next time, you guys all lighten all love and all mojo to your life. Now.\"]\n",
      "Metadata: [{'source': '/notebooks/path/to/transcriptions/Cat Introductions: Does your Senior Need A Friend?.txt', 'topic': 'Cat Introductions: Does your Senior Need A Friend?'}, {'source': '/notebooks/path/to/transcriptions/This was BAD!! 🙀🤯🫣 #shorts.txt', 'topic': 'This was BAD!! 🙀🤯🫣 #shorts'}, {'source': '/notebooks/path/to/transcriptions/When Cat Introductions Get UGLY.txt', 'topic': 'When Cat Introductions Get UGLY'}]\n"
     ]
    }
   ],
   "source": [
    "# Sample query to retrieve relevant information\n",
    "query_text = \"How do I stop my cat from scratching furniture?\"\n",
    "query_embedding = model.encode(query_text).tolist()\n",
    "\n",
    "# Perform the search\n",
    "results = collection.query(\n",
    "    query_embeddings=[query_embedding],\n",
    "    n_results=3\n",
    ")\n",
    "\n",
    "# Check if results are found\n",
    "if results['documents']:\n",
    "    for result in results['documents']:\n",
    "        print(\"Retrieved Text:\", result)\n",
    "    for metadata in results['metadatas']:\n",
    "        print(\"Metadata:\", metadata)\n",
    "else:\n",
    "    print(\"No relevant results found.\")\n",
    "\n"
   ]
  },
  {
   "cell_type": "code",
   "execution_count": null,
   "metadata": {},
   "outputs": [],
   "source": [
    "%pip install langchain\n",
    "%pip install openai\n",
    "%pip install langchain_community langchain_openai"
   ]
  },
  {
   "cell_type": "code",
   "execution_count": 20,
   "metadata": {},
   "outputs": [
    {
     "data": {
      "text/plain": [
       "'0.3.7'"
      ]
     },
     "execution_count": 20,
     "metadata": {},
     "output_type": "execute_result"
    }
   ],
   "source": [
    "import langchain\n",
    "langchain.__version__"
   ]
  },
  {
   "cell_type": "markdown",
   "metadata": {},
   "source": [
    "# LangSmith Check Point.\n",
    "\n",
    "This is only for review of how its working"
   ]
  },
  {
   "cell_type": "code",
   "execution_count": 5,
   "metadata": {},
   "outputs": [],
   "source": [
    "from langchain_core.callbacks.manager import CallbackManager\n",
    "from langchain_core.callbacks.stdout import StdOutCallbackHandler\n",
    "\n",
    "\n",
    "# Initialize Tracer callback handler for LangChain's built-in tracing\n",
    "tracer_handler = StdOutCallbackHandler()\n",
    "\n",
    "# Attach the callback handler to a CallbackManager\n",
    "callback_manager = CallbackManager([tracer_handler])\n",
    "\n",
    "# Main agent function with LangChain tracing\n",
    "def ask_agent(query):\n",
    "    # Append the new question to context history\n",
    "    context_history.append(f\"Question: {query}\")\n",
    "\n",
    "    # Retrieve relevant context from ChromaDB based on query variations\n",
    "    conversation_context = retrieve_documents(query)\n",
    "    \n",
    "    # Combine recent exchanges for conversational memory\n",
    "    recent_history = \"\\n\".join(context_history[-3:])  # Keep last 3 exchanges for continuity\n",
    "    combined_context = recent_history + \"\\n\\n\" + conversation_context\n",
    "    \n",
    "    # Create QA chain with the combined context\n",
    "    qa_chain = create_qa_chain()\n",
    "\n",
    "    # Use callback_manager to log the QA chain run\n",
    "    answer = qa_chain.run(\n",
    "        {\"context\": combined_context, \"question\": query},\n",
    "        callbacks=callback_manager\n",
    "    )\n",
    "\n",
    "    # Append the answer to the context history for continuity\n",
    "    context_history.append(f\"Answer: {answer}\")\n",
    "    return answer\n"
   ]
  },
  {
   "cell_type": "markdown",
   "metadata": {},
   "source": [
    "# Model\n"
   ]
  },
  {
   "cell_type": "code",
   "execution_count": 7,
   "metadata": {},
   "outputs": [
    {
     "data": {
      "application/vnd.jupyter.widget-view+json": {
       "model_id": "1b1a3822091e4626af63f7badb712502",
       "version_major": 2,
       "version_minor": 0
      },
      "text/plain": [
       "Batches:   0%|          | 0/1 [00:00<?, ?it/s]"
      ]
     },
     "metadata": {},
     "output_type": "display_data"
    },
    {
     "name": "stdout",
     "output_type": "stream",
     "text": [
      "Agent Response: content='Hey there, Kinesha from the Cayman Islands! I see you\\'re considering adding another feline friend to your family, and that\\'s awesome. Sunshine, your 11-year-old cat, sounds like a playful and mischievous companion. Bringing a new cat into the mix can be a wonderful way to enrich her life and provide her with company.\\n\\nNow, I totally understand your concerns about how Sunshine might react to a new cat, especially since she\\'s been the only cat in your home for so long. It\\'s essential to approach this transition thoughtfully to ensure a smooth and successful integration.\\n\\nFirst off, consider the personality and energy level of the new cat you\\'re thinking of bringing in. It\\'s crucial to find a cat that matches Sunshine\\'s temperament to increase the chances of a positive relationship. If Sunshine is still active and playful, a cat with a similar energy level might be a good fit.\\n\\nYou mentioned considering adopting a senior cat who has experience living with other cats. This can be a great option as seniors often appreciate companionship and can provide a calming presence for Sunshine. Plus, adopting a senior cat is a wonderful way to give them a loving home in their golden years.\\n\\nOn the other hand, if you\\'re thinking about bringing in a younger cat, like a kitten, keep in mind that kittens can be very energetic and might overwhelm an older cat like Sunshine. In such cases, it\\'s essential to introduce them slowly and carefully to ensure a positive interaction.\\n\\nNow, when it comes to introducing the new cat to Sunshine, gradual introductions are key. Setting up a safe space, like a separate room for the new cat, allows them to get acquainted with each other\\'s scents without direct contact. This helps reduce potential stress and territorial issues.\\n\\nOver time, you can start swapping scents between the cats by using blankets or toys to familiarize them with each other\\'s smells. This gradual approach can help them feel more comfortable when they finally meet face to face.\\n\\nRemember, patience is key during this process. Cats are creatures of habit and can be sensitive to changes in their environment. By taking it slow and allowing them to adjust at their own pace, you increase the likelihood of a harmonious relationship between Sunshine and her new feline friend.\\n\\nIf you want more detailed guidance on introducing a new cat to your household, I recommend checking out resources like Jackson Galaxy\\'s book \"Total Cat Mojo\" or his videos on cat introductions. They provide valuable insights and tips for making the transition as smooth as possible.\\n\\nOverall, with careful planning and a gentle approach, you can create a welcoming environment for the new cat and ensure that Sunshine feels comfortable and secure during this exciting time of change. Best of luck with your new furry addition, and may your family continue to thrive and grow with purrs and playfulness.' additional_kwargs={'refusal': None} response_metadata={'token_usage': {'completion_tokens': 568, 'prompt_tokens': 4965, 'total_tokens': 5533, 'completion_tokens_details': {'accepted_prediction_tokens': 0, 'audio_tokens': None, 'reasoning_tokens': 0, 'rejected_prediction_tokens': 0}, 'prompt_tokens_details': {'audio_tokens': None, 'cached_tokens': 0}}, 'model_name': 'gpt-3.5-turbo-0125', 'system_fingerprint': None, 'finish_reason': 'stop', 'logprobs': None} id='run-c3b53068-3402-47e5-8569-f8afc9d3ec38-0' usage_metadata={'input_tokens': 4965, 'output_tokens': 568, 'total_tokens': 5533, 'input_token_details': {'cache_read': 0}, 'output_token_details': {'reasoning': 0}}\n"
     ]
    }
   ],
   "source": [
    "import logging\n",
    "from langchain.prompts import ChatPromptTemplate\n",
    "from sentence_transformers import SentenceTransformer\n",
    "import chromadb\n",
    "import os\n",
    "from dotenv import load_dotenv\n",
    "from langchain_core.runnables import RunnableSequence\n",
    "\n",
    "# Initialize model and embeddings\n",
    "llm = ChatOpenAI(model=\"gpt-3.5-turbo\")\n",
    "embedding_model = SentenceTransformer('all-MiniLM-L6-v2')\n",
    "client = chromadb.Client()\n",
    "collection = client.get_collection(\"cat_expert_knowledge\")\n",
    "\n",
    "# Setup logging\n",
    "logging.basicConfig(level=logging.INFO, filename=\"agent_logs.log\", filemode=\"a\",\n",
    "                    format=\"%(asctime)s - %(levelname)s - %(message)s\")\n",
    "\n",
    "# Helper function for document retrieval\n",
    "def retrieve_documents(query):\n",
    "    query_embedding = embedding_model.encode(query).tolist()\n",
    "    result = collection.query(query_embeddings=[query_embedding], n_results=2)\n",
    "    documents = \" \".join(doc if isinstance(doc, str) else \" \".join(doc) for doc in result['documents'])\n",
    "    return documents\n",
    "\n",
    "# QA Chain Creation\n",
    "def create_qa_chain():\n",
    "    template = \"\"\"You are a friendly, expert cat behaviorist inspired by Jackson Galaxy.\n",
    "                  Use the information below to provide advice in a helpful and engaging way.\"\"\"\n",
    "    prompt = ChatPromptTemplate.from_messages([(\"system\", template), (\"user\", \"{context}\\n\\nQuestion: {question}\\nAnswer:\")])\n",
    "    return RunnableSequence(prompt | llm)\n",
    "\n",
    "# Agent function with manual logging\n",
    "def ask_agent(query):\n",
    "    # Log the incoming query\n",
    "    logging.info(f\"User Query: {query}\")\n",
    "\n",
    "    # Retrieve context and answer\n",
    "    conversation_context = retrieve_documents(query)\n",
    "    qa_chain = create_qa_chain()\n",
    "    answer = qa_chain.invoke({\"context\": conversation_context, \"question\": query})\n",
    "\n",
    "    # Log the generated answer\n",
    "    logging.info(f\"Agent Response: {answer}\")\n",
    "    return answer\n",
    "\n",
    "# Test with a sample query\n",
    "user_query = \"Why does my cat scratch furniture?\"\n",
    "response = ask_agent(user_query)\n",
    "print(\"Agent Response:\", response)"
   ]
  },
  {
   "cell_type": "code",
   "execution_count": 8,
   "metadata": {},
   "outputs": [],
   "source": [
    "# Main agent to respond to user queries with conversational memory\n",
    "def ask_agent(query):\n",
    "    # Append the new question to context history\n",
    "    context_history.append(f\"Question: {query}\")\n",
    "\n",
    "    # Retrieve relevant context from ChromaDB based on query variations\n",
    "    conversation_context = retrieve_documents(query)\n",
    "    \n",
    "    # Combine recent exchanges for conversational memory\n",
    "    recent_history = \"\\n\".join(context_history[-3:])  # Keep last 3 exchanges for continuity\n",
    "    combined_context = recent_history + \"\\n\\n\" + conversation_context\n",
    "    \n",
    "    # Create QA chain with the combined context\n",
    "    qa_chain = create_qa_chain()\n",
    "    answer = qa_chain.run({\"context\": combined_context, \"question\": query})\n",
    "\n",
    "    # Append the answer to the context history for continuity\n",
    "    context_history.append(f\"Answer: {answer}\")\n",
    "    return answer\n"
   ]
  },
  {
   "cell_type": "markdown",
   "metadata": {},
   "source": [
    "# Download Videos"
   ]
  },
  {
   "cell_type": "code",
   "execution_count": 50,
   "metadata": {},
   "outputs": [
    {
     "name": "stdout",
     "output_type": "stream",
     "text": [
      "Requirement already satisfied: yt-dlp in /usr/local/lib/python3.11/dist-packages (2024.11.4)\n",
      "\u001b[33mWARNING: Running pip as the 'root' user can result in broken permissions and conflicting behaviour with the system package manager. It is recommended to use a virtual environment instead: https://pip.pypa.io/warnings/venv\u001b[0m\u001b[33m\n",
      "\u001b[0mNote: you may need to restart the kernel to use updated packages.\n"
     ]
    }
   ],
   "source": [
    "%pip install yt-dlp"
   ]
  },
  {
   "cell_type": "code",
   "execution_count": 9,
   "metadata": {},
   "outputs": [
    {
     "name": "stdout",
     "output_type": "stream",
     "text": [
      "[youtube:tab] Extracting URL: https://www.youtube.com/playlist?list=PLAJvHNBwbBNvSQFSeeHswdgIk2m4fljOc\n",
      "[youtube:tab] PLAJvHNBwbBNvSQFSeeHswdgIk2m4fljOc: Downloading webpage\n",
      "[youtube:tab] PLAJvHNBwbBNvSQFSeeHswdgIk2m4fljOc: Redownloading playlist API JSON with unavailable videos\n",
      "[download] Downloading playlist: INTRODUCTIONS\n",
      "[youtube:tab] PLAJvHNBwbBNvSQFSeeHswdgIk2m4fljOc page 1: Downloading API JSON\n"
     ]
    },
    {
     "name": "stderr",
     "output_type": "stream",
     "text": [
      "WARNING: [youtube:tab] Incomplete data received. Retrying (1/3)...\n"
     ]
    },
    {
     "name": "stdout",
     "output_type": "stream",
     "text": [
      "[youtube:tab] PLAJvHNBwbBNvSQFSeeHswdgIk2m4fljOc page 1: Downloading API JSON\n"
     ]
    },
    {
     "name": "stderr",
     "output_type": "stream",
     "text": [
      "WARNING: [youtube:tab] Incomplete data received. Retrying (2/3)...\n"
     ]
    },
    {
     "name": "stdout",
     "output_type": "stream",
     "text": [
      "[youtube:tab] PLAJvHNBwbBNvSQFSeeHswdgIk2m4fljOc page 1: Downloading API JSON\n"
     ]
    },
    {
     "name": "stderr",
     "output_type": "stream",
     "text": [
      "WARNING: [youtube:tab] Incomplete data received. Retrying (3/3)...\n"
     ]
    },
    {
     "name": "stdout",
     "output_type": "stream",
     "text": [
      "[youtube:tab] PLAJvHNBwbBNvSQFSeeHswdgIk2m4fljOc page 1: Downloading API JSON\n"
     ]
    },
    {
     "name": "stderr",
     "output_type": "stream",
     "text": [
      "WARNING: [youtube:tab] Incomplete data received. Giving up after 3 retries\n"
     ]
    },
    {
     "name": "stdout",
     "output_type": "stream",
     "text": [
      "[youtube:tab] Playlist INTRODUCTIONS: Downloading 15 items of 15\n",
      "[download] Downloading item 1 of 15\n",
      "[youtube] Extracting URL: https://www.youtube.com/watch?v=ZUcVUFvmDFE\n",
      "[youtube] ZUcVUFvmDFE: Downloading webpage\n",
      "[youtube] ZUcVUFvmDFE: Downloading ios player API JSON\n",
      "[youtube] ZUcVUFvmDFE: Downloading mweb player API JSON\n",
      "[youtube] ZUcVUFvmDFE: Downloading m3u8 information\n",
      "[info] ZUcVUFvmDFE: Downloading 1 format(s): 616+251\n",
      "[download] path/to/save/videos/When Cat Introductions Get UGLY.webm has already been downloaded\n",
      "[download] Downloading item 2 of 15\n",
      "[youtube] Extracting URL: https://www.youtube.com/watch?v=4DlJYcfiRu4\n",
      "[youtube] 4DlJYcfiRu4: Downloading webpage\n",
      "[youtube] 4DlJYcfiRu4: Downloading ios player API JSON\n",
      "[youtube] 4DlJYcfiRu4: Downloading mweb player API JSON\n",
      "[youtube] 4DlJYcfiRu4: Downloading m3u8 information\n",
      "[info] 4DlJYcfiRu4: Downloading 1 format(s): 616+251\n",
      "[download] path/to/save/videos/How To Introduce Your Cat to a New KITTEN!.webm has already been downloaded\n",
      "[download] Downloading item 3 of 15\n",
      "[youtube] Extracting URL: https://www.youtube.com/watch?v=rxInrRQLEmM\n",
      "[youtube] rxInrRQLEmM: Downloading webpage\n",
      "[youtube] rxInrRQLEmM: Downloading ios player API JSON\n",
      "[youtube] rxInrRQLEmM: Downloading mweb player API JSON\n",
      "[youtube] rxInrRQLEmM: Downloading m3u8 information\n",
      "[info] rxInrRQLEmM: Downloading 1 format(s): 616+251\n",
      "[download] path/to/save/videos/Can Cats & Dogs Be Friends？ ｜ Jackson Galaxy.webm has already been downloaded\n",
      "[download] Downloading item 4 of 15\n",
      "[youtube] Extracting URL: https://www.youtube.com/watch?v=-OmMDhK2FxQ\n",
      "[youtube] -OmMDhK2FxQ: Downloading webpage\n",
      "[youtube] -OmMDhK2FxQ: Downloading ios player API JSON\n",
      "[youtube] -OmMDhK2FxQ: Downloading mweb player API JSON\n",
      "[youtube] -OmMDhK2FxQ: Downloading m3u8 information\n",
      "[info] -OmMDhK2FxQ: Downloading 1 format(s): 137+251\n",
      "[download] path/to/save/videos/Non-Recognition Aggression in Cats Explained.mkv has already been downloaded\n",
      "[download] Downloading item 5 of 15\n",
      "[youtube] Extracting URL: https://www.youtube.com/watch?v=gxlNfh5ukMw\n",
      "[youtube] gxlNfh5ukMw: Downloading webpage\n",
      "[youtube] gxlNfh5ukMw: Downloading ios player API JSON\n",
      "[youtube] gxlNfh5ukMw: Downloading mweb player API JSON\n",
      "[youtube] gxlNfh5ukMw: Downloading m3u8 information\n",
      "[info] gxlNfh5ukMw: Downloading 1 format(s): 616+251\n",
      "[download] path/to/save/videos/Cat Introductions Gone Wrong： They Will NOT Work it Out Without You.webm has already been downloaded\n",
      "[download] Downloading item 6 of 15\n",
      "[youtube] Extracting URL: https://www.youtube.com/watch?v=ojS7XwtoXtw\n",
      "[youtube] ojS7XwtoXtw: Downloading webpage\n",
      "[youtube] ojS7XwtoXtw: Downloading ios player API JSON\n",
      "[youtube] ojS7XwtoXtw: Downloading mweb player API JSON\n",
      "[youtube] ojS7XwtoXtw: Downloading m3u8 information\n",
      "[info] ojS7XwtoXtw: Downloading 1 format(s): 616+251\n",
      "[download] path/to/save/videos/Cat Introductions： Good First Impressions are a must!.webm has already been downloaded\n",
      "[download] Downloading item 7 of 15\n",
      "[youtube] Extracting URL: https://www.youtube.com/watch?v=tsYT7yIOdqQ\n",
      "[youtube] tsYT7yIOdqQ: Downloading webpage\n",
      "[youtube] tsYT7yIOdqQ: Downloading ios player API JSON\n",
      "[youtube] tsYT7yIOdqQ: Downloading mweb player API JSON\n",
      "[youtube] tsYT7yIOdqQ: Downloading m3u8 information\n",
      "[info] tsYT7yIOdqQ: Downloading 1 format(s): 616+251\n",
      "[download] path/to/save/videos/How to Introduce Cats.webm has already been downloaded\n",
      "[download] Downloading item 8 of 15\n",
      "[youtube] Extracting URL: https://www.youtube.com/watch?v=UWohxDOXsl4\n",
      "[youtube] UWohxDOXsl4: Downloading webpage\n",
      "[youtube] UWohxDOXsl4: Downloading ios player API JSON\n",
      "[youtube] UWohxDOXsl4: Downloading mweb player API JSON\n",
      "[youtube] UWohxDOXsl4: Downloading m3u8 information\n",
      "[info] UWohxDOXsl4: Downloading 1 format(s): 616+251\n",
      "[download] path/to/save/videos/Can my Cats Get Along？ Cat-to-Cat Body Language basics & Introduction Tips.webm has already been downloaded\n",
      "[download] Downloading item 9 of 15\n",
      "[youtube] Extracting URL: https://www.youtube.com/watch?v=gZrwcoiy_gY\n",
      "[youtube] gZrwcoiy_gY: Downloading webpage\n",
      "[youtube] gZrwcoiy_gY: Downloading ios player API JSON\n",
      "[youtube] gZrwcoiy_gY: Downloading mweb player API JSON\n",
      "[youtube] gZrwcoiy_gY: Downloading m3u8 information\n",
      "[info] gZrwcoiy_gY: Downloading 1 format(s): 398+140\n",
      "[download] path/to/save/videos/The Best Way To Introduce Your Two Cats.mp4 has already been downloaded\n",
      "[download] Downloading item 10 of 15\n",
      "[youtube] Extracting URL: https://www.youtube.com/watch?v=lSDI5diNu4Y\n",
      "[youtube] lSDI5diNu4Y: Downloading webpage\n",
      "[youtube] lSDI5diNu4Y: Downloading ios player API JSON\n",
      "[youtube] lSDI5diNu4Y: Downloading mweb player API JSON\n",
      "[youtube] lSDI5diNu4Y: Downloading m3u8 information\n",
      "[info] lSDI5diNu4Y: Downloading 1 format(s): 137+251\n",
      "[download] path/to/save/videos/The Do's & Don'ts of Introducing Cats.mkv has already been downloaded\n",
      "[download] Downloading item 11 of 15\n",
      "[youtube] Extracting URL: https://www.youtube.com/watch?v=8aCGL9GpVUg\n",
      "[youtube] 8aCGL9GpVUg: Downloading webpage\n",
      "[youtube] 8aCGL9GpVUg: Downloading ios player API JSON\n",
      "[youtube] 8aCGL9GpVUg: Downloading mweb player API JSON\n",
      "[youtube] 8aCGL9GpVUg: Downloading m3u8 information\n",
      "[info] 8aCGL9GpVUg: Downloading 1 format(s): 137+251\n",
      "[download] path/to/save/videos/Cat Introductions： Does your Senior Need A Friend？.mkv has already been downloaded\n",
      "[download] Downloading item 12 of 15\n",
      "[youtube] Extracting URL: https://www.youtube.com/watch?v=VjOXvD7OvrE\n",
      "[youtube] VjOXvD7OvrE: Downloading webpage\n",
      "[youtube] VjOXvD7OvrE: Downloading ios player API JSON\n",
      "[youtube] VjOXvD7OvrE: Downloading mweb player API JSON\n",
      "[youtube] VjOXvD7OvrE: Downloading m3u8 information\n",
      "[info] VjOXvD7OvrE: Downloading 1 format(s): 616+251\n",
      "[download] path/to/save/videos/This was BAD!! 🙀🤯🫣 #shorts.webm has already been downloaded\n",
      "[download] Downloading item 13 of 15\n",
      "[youtube] Extracting URL: https://www.youtube.com/watch?v=FzifwTnCV5s\n",
      "[youtube] FzifwTnCV5s: Downloading webpage\n",
      "[youtube] FzifwTnCV5s: Downloading ios player API JSON\n",
      "[youtube] FzifwTnCV5s: Downloading mweb player API JSON\n",
      "[youtube] FzifwTnCV5s: Downloading m3u8 information\n",
      "[info] FzifwTnCV5s: Downloading 1 format(s): 616+251\n",
      "[download] path/to/save/videos/Why You Should Get Another Cat.webm has already been downloaded\n",
      "[download] Downloading item 14 of 15\n",
      "[youtube] Extracting URL: https://www.youtube.com/watch?v=XreeFU7RYeI\n",
      "[youtube] XreeFU7RYeI: Downloading webpage\n",
      "[youtube] XreeFU7RYeI: Downloading ios player API JSON\n",
      "[youtube] XreeFU7RYeI: Downloading mweb player API JSON\n",
      "[youtube] XreeFU7RYeI: Downloading m3u8 information\n",
      "[info] XreeFU7RYeI: Downloading 1 format(s): 616+251\n",
      "[download] path/to/save/videos/Are My Cats Playing or Fighting？ ｜ Cat Playing vs Cat Aggression.webm has already been downloaded\n",
      "[download] Downloading item 15 of 15\n",
      "[youtube] Extracting URL: https://www.youtube.com/watch?v=-4O97jw_8Bc\n",
      "[youtube] -4O97jw_8Bc: Downloading webpage\n",
      "[youtube] -4O97jw_8Bc: Downloading ios player API JSON\n",
      "[youtube] -4O97jw_8Bc: Downloading mweb player API JSON\n",
      "[youtube] -4O97jw_8Bc: Downloading m3u8 information\n",
      "[info] -4O97jw_8Bc: Downloading 1 format(s): 616+251\n",
      "[download] path/to/save/videos/Brady Bunching： Introducing Two Groups of Cats.webm has already been downloaded\n",
      "[download] Finished downloading playlist: INTRODUCTIONS\n",
      "Videos have been successfully downloaded.\n"
     ]
    }
   ],
   "source": [
    "import yt_dlp\n",
    "import os\n",
    "\n",
    "# Define the playlist URL and output path for saving video files\n",
    "playlist_url = \"https://www.youtube.com/playlist?list=PLAJvHNBwbBNvSQFSeeHswdgIk2m4fljOc\"  # Replace with actual playlist URL\n",
    "output_path = \"path/to/save/videos/%(title)s.%(ext)s\"  # Directory to save videos\n",
    "\n",
    "# Set yt-dlp options for downloading video\n",
    "ydl_opts = {\n",
    "    'format': 'bestvideo+bestaudio',  # Downloads the best quality video and audio\n",
    "    'outtmpl': output_path,           # Sets the output path and filename format\n",
    "    'ignoreerrors': True,             # Skip any videos that cause errors\n",
    "}\n",
    "\n",
    "# Download videos from the specified playlist\n",
    "with yt_dlp.YoutubeDL(ydl_opts) as ydl:\n",
    "    ydl.download([playlist_url])\n",
    "\n",
    "print(\"Videos have been successfully downloaded.\")\n"
   ]
  },
  {
   "cell_type": "code",
   "execution_count": null,
   "metadata": {},
   "outputs": [],
   "source": [
    "%pip install --upgrade langsmith\n"
   ]
  },
  {
   "cell_type": "markdown",
   "metadata": {},
   "source": [
    "# Download and Extract Key Frames from Videos"
   ]
  },
  {
   "cell_type": "code",
   "execution_count": null,
   "metadata": {},
   "outputs": [],
   "source": [
    "%pip install opencv-python"
   ]
  },
  {
   "cell_type": "code",
   "execution_count": 55,
   "metadata": {},
   "outputs": [
    {
     "name": "stdout",
     "output_type": "stream",
     "text": [
      "Frames for Non-Recognition Aggression in Cats Explained already exist, skipping extraction.\n",
      "Frames for Cat Introductions Gone Wrong： They Will NOT Work it Out Without You already exist, skipping extraction.\n",
      "Frames for Can Cats & Dogs Be Friends？ ｜ Jackson Galaxy already exist, skipping extraction.\n",
      "Frames for How To Introduce Your Cat to a New KITTEN! already exist, skipping extraction.\n",
      "Frames for How to Introduce Cats already exist, skipping extraction.\n",
      "Frames for Why You Should Get Another Cat already exist, skipping extraction.\n",
      "Frames for Can my Cats Get Along？ Cat-to-Cat Body Language basics & Introduction Tips already exist, skipping extraction.\n",
      "Frames for Cat Introductions： Good First Impressions are a must! already exist, skipping extraction.\n",
      "Frames for Brady Bunching： Introducing Two Groups of Cats already exist, skipping extraction.\n",
      "Frames for The Best Way To Introduce Your Two Cats already exist, skipping extraction.\n",
      "Frames for Are My Cats Playing or Fighting？ ｜ Cat Playing vs Cat Aggression already exist, skipping extraction.\n",
      "Frames for When Cat Introductions Get UGLY already exist, skipping extraction.\n",
      "Frames for The Do's & Don'ts of Introducing Cats already exist, skipping extraction.\n",
      "Frames for Cat Introductions： Does your Senior Need A Friend？ already exist, skipping extraction.\n",
      "Frames for This was BAD!! 🙀🤯🫣 #shorts already exist, skipping extraction.\n"
     ]
    },
    {
     "name": "stderr",
     "output_type": "stream",
     "text": [
      "/usr/local/lib/python3.11/dist-packages/IPython/core/interactiveshell.py:3493: UserWarning: WARNING! project_name is not default parameter.\n",
      "                project_name was transferred to model_kwargs.\n",
      "                Please confirm that project_name is what you intended.\n",
      "  if await self.run_code(code, result, async_=asy):\n"
     ]
    }
   ],
   "source": [
    "import os\n",
    "import cv2\n",
    "\n",
    "from langchain_openai import ChatOpenAI\n",
    "\n",
    "llm = ChatOpenAI(\n",
    "    project_name=\"cat_expert_knowledge\",\n",
    "    tags=[\"file-check\", \"frame-extraction\"]\n",
    ")\n",
    "# Directory to store frames\n",
    "frame_dir = \"/notebooks/path/to/frames\"\n",
    "video_dir = \"/notebooks/path/to/save/videos\"  # Update to your actual video directory\n",
    "\n",
    "# Function to check if frames already exist\n",
    "def frames_exist(video_name):\n",
    "    # Check for at least one frame with the video name prefix in frame_dir\n",
    "    return any(f.startswith(video_name) for f in os.listdir(frame_dir))\n",
    "\n",
    "# Function to extract frames at intervals if not already extracted\n",
    "def extract_frames(video_path, intervals=60):\n",
    "    video_name = os.path.basename(video_path).split('.')[0]\n",
    "    \n",
    "    # Skip extraction if frames already exist\n",
    "    if frames_exist(video_name):\n",
    "        print(f\"Frames for {video_name} already exist, skipping extraction.\")\n",
    "        return\n",
    "    \n",
    "    # Extract frames at given intervals\n",
    "    capture = cv2.VideoCapture(video_path)\n",
    "    fps = capture.get(cv2.CAP_PROP_FPS)\n",
    "    interval_frames = int(fps * intervals)\n",
    "    success, frame = capture.read()\n",
    "    count = 0\n",
    "\n",
    "    while success:\n",
    "        if count % interval_frames == 0:\n",
    "            frame_name = f\"{video_name}_frame_{count}.jpg\"\n",
    "            frame_path = os.path.join(frame_dir, frame_name)\n",
    "            cv2.imwrite(frame_path, frame)\n",
    "            print(f\"Saved frame: {frame_name}\")\n",
    "        success, frame = capture.read()\n",
    "        count += 1\n",
    "    capture.release()\n",
    "\n",
    "# Loop through videos and extract frames only if needed\n",
    "for video_file in os.listdir(video_dir):\n",
    "    video_path = os.path.join(video_dir, video_file)\n",
    "    extract_frames(video_path)\n"
   ]
  },
  {
   "cell_type": "markdown",
   "metadata": {},
   "source": [
    "# Embed and Store Visualy with Clip"
   ]
  },
  {
   "cell_type": "code",
   "execution_count": 57,
   "metadata": {},
   "outputs": [
    {
     "name": "stdout",
     "output_type": "stream",
     "text": [
      "Requirement already satisfied: transformers in /usr/local/lib/python3.11/dist-packages (4.46.1)\n",
      "Requirement already satisfied: filelock in /usr/local/lib/python3.11/dist-packages (from transformers) (3.13.1)\n",
      "Requirement already satisfied: huggingface-hub<1.0,>=0.23.2 in /usr/local/lib/python3.11/dist-packages (from transformers) (0.26.2)\n",
      "Requirement already satisfied: numpy>=1.17 in /usr/local/lib/python3.11/dist-packages (from transformers) (1.26.3)\n",
      "Requirement already satisfied: packaging>=20.0 in /usr/local/lib/python3.11/dist-packages (from transformers) (23.2)\n",
      "Requirement already satisfied: pyyaml>=5.1 in /usr/local/lib/python3.11/dist-packages (from transformers) (6.0.2)\n",
      "Requirement already satisfied: regex!=2019.12.17 in /usr/local/lib/python3.11/dist-packages (from transformers) (2023.12.25)\n",
      "Requirement already satisfied: requests in /usr/local/lib/python3.11/dist-packages (from transformers) (2.31.0)\n",
      "Requirement already satisfied: safetensors>=0.4.1 in /usr/local/lib/python3.11/dist-packages (from transformers) (0.4.5)\n",
      "Requirement already satisfied: tokenizers<0.21,>=0.20 in /usr/local/lib/python3.11/dist-packages (from transformers) (0.20.2)\n",
      "Requirement already satisfied: tqdm>=4.27 in /usr/local/lib/python3.11/dist-packages (from transformers) (4.66.1)\n",
      "Requirement already satisfied: fsspec>=2023.5.0 in /usr/local/lib/python3.11/dist-packages (from huggingface-hub<1.0,>=0.23.2->transformers) (2023.6.0)\n",
      "Requirement already satisfied: typing-extensions>=3.7.4.3 in /usr/local/lib/python3.11/dist-packages (from huggingface-hub<1.0,>=0.23.2->transformers) (4.12.2)\n",
      "Requirement already satisfied: charset-normalizer<4,>=2 in /usr/local/lib/python3.11/dist-packages (from requests->transformers) (3.3.2)\n",
      "Requirement already satisfied: idna<4,>=2.5 in /usr/lib/python3/dist-packages (from requests->transformers) (3.3)\n",
      "Requirement already satisfied: urllib3<3,>=1.21.1 in /usr/local/lib/python3.11/dist-packages (from requests->transformers) (2.0.7)\n",
      "Requirement already satisfied: certifi>=2017.4.17 in /usr/lib/python3/dist-packages (from requests->transformers) (2020.6.20)\n",
      "\u001b[33mWARNING: Running pip as the 'root' user can result in broken permissions and conflicting behaviour with the system package manager. It is recommended to use a virtual environment instead: https://pip.pypa.io/warnings/venv\u001b[0m\u001b[33m\n",
      "\u001b[0mNote: you may need to restart the kernel to use updated packages.\n",
      "Requirement already satisfied: langsmith in /usr/local/lib/python3.11/dist-packages (0.1.139)\n",
      "Requirement already satisfied: httpx<1,>=0.23.0 in /usr/local/lib/python3.11/dist-packages (from langsmith) (0.27.2)\n",
      "Requirement already satisfied: orjson<4.0.0,>=3.9.14 in /usr/local/lib/python3.11/dist-packages (from langsmith) (3.10.11)\n",
      "Requirement already satisfied: pydantic<3,>=1 in /usr/local/lib/python3.11/dist-packages (from langsmith) (2.9.2)\n",
      "Requirement already satisfied: requests<3,>=2 in /usr/local/lib/python3.11/dist-packages (from langsmith) (2.31.0)\n",
      "Requirement already satisfied: requests-toolbelt<2.0.0,>=1.0.0 in /usr/local/lib/python3.11/dist-packages (from langsmith) (1.0.0)\n",
      "Requirement already satisfied: anyio in /usr/local/lib/python3.11/dist-packages (from httpx<1,>=0.23.0->langsmith) (4.2.0)\n",
      "Requirement already satisfied: certifi in /usr/lib/python3/dist-packages (from httpx<1,>=0.23.0->langsmith) (2020.6.20)\n",
      "Requirement already satisfied: httpcore==1.* in /usr/local/lib/python3.11/dist-packages (from httpx<1,>=0.23.0->langsmith) (1.0.6)\n",
      "Requirement already satisfied: idna in /usr/lib/python3/dist-packages (from httpx<1,>=0.23.0->langsmith) (3.3)\n",
      "Requirement already satisfied: sniffio in /usr/local/lib/python3.11/dist-packages (from httpx<1,>=0.23.0->langsmith) (1.3.0)\n",
      "Requirement already satisfied: h11<0.15,>=0.13 in /usr/local/lib/python3.11/dist-packages (from httpcore==1.*->httpx<1,>=0.23.0->langsmith) (0.14.0)\n",
      "Requirement already satisfied: annotated-types>=0.6.0 in /usr/local/lib/python3.11/dist-packages (from pydantic<3,>=1->langsmith) (0.7.0)\n",
      "Requirement already satisfied: pydantic-core==2.23.4 in /usr/local/lib/python3.11/dist-packages (from pydantic<3,>=1->langsmith) (2.23.4)\n",
      "Requirement already satisfied: typing-extensions>=4.6.1 in /usr/local/lib/python3.11/dist-packages (from pydantic<3,>=1->langsmith) (4.12.2)\n",
      "Requirement already satisfied: charset-normalizer<4,>=2 in /usr/local/lib/python3.11/dist-packages (from requests<3,>=2->langsmith) (3.3.2)\n",
      "Requirement already satisfied: urllib3<3,>=1.21.1 in /usr/local/lib/python3.11/dist-packages (from requests<3,>=2->langsmith) (2.0.7)\n",
      "\u001b[33mWARNING: Running pip as the 'root' user can result in broken permissions and conflicting behaviour with the system package manager. It is recommended to use a virtual environment instead: https://pip.pypa.io/warnings/venv\u001b[0m\u001b[33m\n",
      "\u001b[0mNote: you may need to restart the kernel to use updated packages.\n",
      "\u001b[33mWARNING: Running pip as the 'root' user can result in broken permissions and conflicting behaviour with the system package manager. It is recommended to use a virtual environment instead: https://pip.pypa.io/warnings/venv\u001b[0m\u001b[33m\n",
      "\u001b[0mNote: you may need to restart the kernel to use updated packages.\n",
      "\u001b[33mWARNING: Running pip as the 'root' user can result in broken permissions and conflicting behaviour with the system package manager. It is recommended to use a virtual environment instead: https://pip.pypa.io/warnings/venv\u001b[0m\u001b[33m\n",
      "\u001b[0mNote: you may need to restart the kernel to use updated packages.\n"
     ]
    }
   ],
   "source": [
    "%pip install transformers\n",
    "%pip install langsmith\n",
    "%pip install --upgrade --quiet  langchain-experimental\n",
    "%pip install --upgrade --quiet  pillow open_clip_torch torch matplotlib"
   ]
  },
  {
   "cell_type": "code",
   "execution_count": 60,
   "metadata": {},
   "outputs": [
    {
     "ename": "TypeError",
     "evalue": "can only concatenate list (not \"int\") to list",
     "output_type": "error",
     "traceback": [
      "\u001b[0;31m---------------------------------------------------------------------------\u001b[0m",
      "\u001b[0;31mTypeError\u001b[0m                                 Traceback (most recent call last)",
      "Cell \u001b[0;32mIn[60], line 3\u001b[0m\n\u001b[1;32m      1\u001b[0m \u001b[38;5;28;01mimport\u001b[39;00m \u001b[38;5;21;01mopen_clip\u001b[39;00m\n\u001b[0;32m----> 3\u001b[0m \u001b[43mopen_clip\u001b[49m\u001b[38;5;241;43m.\u001b[39;49m\u001b[43mlist_pretrained\u001b[49m\u001b[43m(\u001b[49m\u001b[43m)\u001b[49m\u001b[38;5;241;43m+\u001b[39;49m\u001b[38;5;241;43m36\u001b[39;49m\u001b[38;5;241m+\u001b[39m\u001b[38;5;241m366666666666\u001b[39m\n",
      "\u001b[0;31mTypeError\u001b[0m: can only concatenate list (not \"int\") to list"
     ]
    }
   ],
   "source": [
    "import open_clip\n",
    "\n",
    "open_clip.list_pretrained()+36+366666666666"
   ]
  },
  {
   "cell_type": "code",
   "execution_count": 61,
   "metadata": {},
   "outputs": [],
   "source": [
    "model_name = \"ViT-g-14\"\n",
    "checkpoint = \"laion2b_s34b_b88k\""
   ]
  },
  {
   "cell_type": "code",
   "execution_count": 24,
   "metadata": {},
   "outputs": [
    {
     "data": {
      "application/vnd.jupyter.widget-view+json": {
       "model_id": "1de3a7267bc4462a83bd51027cff0598",
       "version_major": 2,
       "version_minor": 0
      },
      "text/plain": [
       "open_clip_pytorch_model.bin:   0%|          | 0.00/5.47G [00:00<?, ?B/s]"
      ]
     },
     "metadata": {},
     "output_type": "display_data"
    },
    {
     "name": "stderr",
     "output_type": "stream",
     "text": [
      "/usr/local/lib/python3.11/dist-packages/torch/_utils.py:831: UserWarning: TypedStorage is deprecated. It will be removed in the future and UntypedStorage will be the only storage class. This should only matter to you if you are using storages directly.  To access UntypedStorage directly, use tensor.untyped_storage() instead of tensor.storage()\n",
      "  return self.fget.__get__(instance, owner)()\n"
     ]
    }
   ],
   "source": [
    "import numpy as np\n",
    "from langchain_experimental.open_clip import OpenCLIPEmbeddings\n",
    "from PIL import Image\n",
    "\n",
    "# Initialize the OpenCLIP embedding model\n",
    "clip_embd = OpenCLIPEmbeddings(model_name=\"ViT-g-14\", checkpoint=\"laion2b_s34b_b88k\")\n"
   ]
  },
  {
   "cell_type": "markdown",
   "metadata": {},
   "source": [
    "Generate Embeddings for Text and Images"
   ]
  },
  {
   "cell_type": "code",
   "execution_count": null,
   "metadata": {},
   "outputs": [],
   "source": [
    "# Sample text documents\n",
    "text_documents = [\n",
    "    {\"id\": \"1\", \"text\": \"How to reduce cat scratching behavior\", \"topic\": \"behavior\"},\n",
    "    {\"id\": \"2\", \"text\": \"Creating a cat-friendly environment\", \"topic\": \"environment\"}\n",
    "]\n",
    "\n",
    "# Embed and store text embeddings\n",
    "text_embeddings = []\n",
    "for doc in text_documents:\n",
    "    embedding = clip_embd.embed_documents([doc['text']])\n",
    "    text_embeddings.append({\n",
    "        \"id\": doc[\"id\"],\n",
    "        \"embedding\": embedding,\n",
    "        \"metadata\": {\"topic\": doc[\"topic\"], \"text\": doc[\"text\"]}\n",
    "    })\n"
   ]
  },
  {
   "cell_type": "markdown",
   "metadata": {},
   "source": [
    "# Store Embeddings and Perform Retrieval:\n",
    "Since LangSmith doesn’t yet support a full embedding storage and retrieval service like ChromaDB, we’ll use numpy to store and retrieve embeddings locally. This will simulate a vector search."
   ]
  },
  {
   "cell_type": "code",
   "execution_count": 33,
   "metadata": {},
   "outputs": [],
   "source": [
    "# Store embeddings in separate lists for text and images\n",
    "text_store = {entry[\"id\"]: entry for entry in text_embeddings}\n",
    "image_store = {entry[\"id\"]: entry for entry in image_embeddings}\n"
   ]
  },
  {
   "cell_type": "code",
   "execution_count": 34,
   "metadata": {},
   "outputs": [],
   "source": [
    "from sklearn.metrics.pairwise import cosine_similarity\n",
    "\n",
    "def retrieve_similar_embeddings(query, store, top_k=2):\n",
    "    \"\"\"Retrieve top K similar embeddings from the store.\"\"\"\n",
    "    query_embedding = clip_embd.embed_documents([query])\n",
    "    similarities = []\n",
    "\n",
    "    for item in store.values():\n",
    "        score = cosine_similarity(query_embedding, item[\"embedding\"]).flatten()[0]\n",
    "        similarities.append((score, item))\n",
    "\n",
    "    # Sort by similarity and select top K results\n",
    "    similarities = sorted(similarities, key=lambda x: x[0], reverse=True)\n",
    "    return [item for _, item in similarities[:top_k]]\n"
   ]
  },
  {
   "cell_type": "markdown",
   "metadata": {},
   "source": [
    "# Update LangChain Agent for Multimodal Retrieval"
   ]
  },
  {
   "cell_type": "code",
   "execution_count": 35,
   "metadata": {},
   "outputs": [
    {
     "name": "stdout",
     "output_type": "stream",
     "text": [
      "Agent Response: Creating a cat-friendly environment How to reduce cat scratching behavior\n",
      "\n",
      "Visual references available:\n",
      "\n"
     ]
    }
   ],
   "source": [
    "def ask_agent(query):\n",
    "    # Retrieve similar text and image embeddings\n",
    "    relevant_texts = retrieve_similar_embeddings(query, text_store)\n",
    "    relevant_images = retrieve_similar_embeddings(query, image_store)\n",
    "    \n",
    "    # Combine text responses\n",
    "    text_response = \" \".join([text[\"metadata\"][\"text\"] for text in relevant_texts])\n",
    "    \n",
    "    # Prepare image references for output\n",
    "    image_references = \"\\n\".join([image[\"metadata\"][\"source\"] for image in relevant_images])\n",
    "\n",
    "    # Final response with text and image references\n",
    "    response = f\"{text_response}\\n\\nVisual references available:\\n{image_references}\"\n",
    "    return response\n",
    "\n",
    "# Test the agent with a sample query\n",
    "user_query = \"How can I create a cat-friendly environment?\"\n",
    "response = ask_agent(user_query)\n",
    "print(\"Agent Response:\", response)\n"
   ]
  },
  {
   "cell_type": "code",
   "execution_count": 36,
   "metadata": {},
   "outputs": [],
   "source": [
    "def ask_agent(query):\n",
    "    # Append the new question to context history\n",
    "    context_history.append(f\"Question: {query}\")\n",
    "\n",
    "    # Retrieve relevant context and images from ChromaDB based on query variations\n",
    "    conversation_context, images = retrieve_documents(query)\n",
    "    \n",
    "    # Combine recent exchanges for conversational memory\n",
    "    recent_history = \"\\n\".join(context_history[-3:])\n",
    "    combined_context = recent_history + \"\\n\\n\" + conversation_context\n",
    "    \n",
    "    # Create QA chain with the combined context\n",
    "    qa_chain = create_qa_chain()\n",
    "    answer = qa_chain.run({\"context\": combined_context, \"question\": query})\n",
    "\n",
    "    # Append the answer to the context history for continuity\n",
    "    context_history.append(f\"Answer: {answer}\")\n",
    "    \n",
    "    # Present images in the response if available\n",
    "    if images:\n",
    "        answer += \"\\nVisual references available:\\n\" + \"\\n\".join(images)\n",
    "\n",
    "    return answer\n"
   ]
  },
  {
   "cell_type": "markdown",
   "metadata": {},
   "source": [
    "# Optimize Multimodal Retrieval and Response Formatting"
   ]
  },
  {
   "cell_type": "code",
   "execution_count": 37,
   "metadata": {},
   "outputs": [
    {
     "name": "stdout",
     "output_type": "stream",
     "text": [
      "Agent Response: **Expert Advice:**\n",
      "Creating a cat-friendly environment How to reduce cat scratching behavior\n",
      "\n",
      "**Visual References:**\n",
      "No visual references available.\n"
     ]
    }
   ],
   "source": [
    "def ask_agent(query):\n",
    "    # Retrieve similar text and image embeddings\n",
    "    relevant_texts = retrieve_similar_embeddings(query, text_store)\n",
    "    relevant_images = retrieve_similar_embeddings(query, image_store)\n",
    "    \n",
    "    # Combine text responses\n",
    "    text_response = \" \".join([text[\"metadata\"][\"text\"] for text in relevant_texts])\n",
    "    \n",
    "    # Prepare image references for output\n",
    "    image_references = \"\\n\".join([image[\"metadata\"][\"source\"] for image in relevant_images])\n",
    "\n",
    "    # Final response with formatted sections\n",
    "    response = (\n",
    "        f\"**Expert Advice:**\\n{text_response}\\n\\n\"\n",
    "        f\"**Visual References:**\\n{image_references if image_references else 'No visual references available.'}\"\n",
    "    )\n",
    "    return response\n",
    "\n",
    "# Test the agent with a sample query\n",
    "user_query = \"How can I create a cat-friendly environment?\"\n",
    "response = ask_agent(user_query)\n",
    "print(\"Agent Response:\", response)\n"
   ]
  },
  {
   "cell_type": "markdown",
   "metadata": {},
   "source": [
    "# Implement a Feedback Loop"
   ]
  },
  {
   "cell_type": "code",
   "execution_count": 38,
   "metadata": {},
   "outputs": [
    {
     "name": "stdout",
     "output_type": "stream",
     "text": [
      "Agent Response: **Expert Advice:**\n",
      "How to reduce cat scratching behavior Creating a cat-friendly environment\n",
      "\n",
      "**Visual References:**\n",
      "No visual references available.\n",
      "Rate the helpfulness of the response (1-5):\n",
      "Thank you for your feedback!\n"
     ]
    }
   ],
   "source": [
    "import json\n",
    "\n",
    "# Define a function to log feedback\n",
    "feedback_log = \"feedback_log.json\"  # Path to store feedback\n",
    "\n",
    "def log_feedback(query, response, rating, comment=None):\n",
    "    feedback_entry = {\n",
    "        \"query\": query,\n",
    "        \"response\": response,\n",
    "        \"rating\": rating,\n",
    "        \"comment\": comment\n",
    "    }\n",
    "    \n",
    "    # Append feedback to a JSON file\n",
    "    try:\n",
    "        with open(feedback_log, \"a\") as f:\n",
    "            f.write(json.dumps(feedback_entry) + \"\\n\")\n",
    "    except IOError:\n",
    "        print(\"Error logging feedback.\")\n",
    "\n",
    "# Collect feedback from the user\n",
    "def collect_feedback(query, response):\n",
    "    print(\"Rate the helpfulness of the response (1-5):\")\n",
    "    rating = int(input(\"Rating: \"))\n",
    "    comment = input(\"Any comments? \")\n",
    "    \n",
    "    # Log the feedback\n",
    "    log_feedback(query, response, rating, comment)\n",
    "    print(\"Thank you for your feedback!\")\n",
    "\n",
    "# Test the agent with feedback\n",
    "user_query = \"Why does my cat scratch furniture?\"\n",
    "response = ask_agent(user_query)\n",
    "print(\"Agent Response:\", response)\n",
    "\n",
    "# Collect feedback from user\n",
    "collect_feedback(user_query, response)\n"
   ]
  },
  {
   "cell_type": "markdown",
   "metadata": {},
   "source": [
    "# Implement Personalization"
   ]
  },
  {
   "cell_type": "code",
   "execution_count": 39,
   "metadata": {},
   "outputs": [],
   "source": [
    "# Dictionary to store user profiles\n",
    "user_profiles = {}\n",
    "\n",
    "# Function to initialize or update a user profile\n",
    "def get_user_profile(user_id):\n",
    "    if user_id not in user_profiles:\n",
    "        user_profiles[user_id] = {\n",
    "            \"name\": \"User\",\n",
    "            \"preferred_response_length\": \"detailed\",  # or 'concise'\n",
    "            \"interest_areas\": [\"behavior\", \"environment\"]\n",
    "        }\n",
    "    return user_profiles[user_id]\n",
    "\n",
    "# Function to update profile details\n",
    "def update_user_profile(user_id, name=None, response_length=None, interests=None):\n",
    "    profile = get_user_profile(user_id)\n",
    "    if name:\n",
    "        profile[\"name\"] = name\n",
    "    if response_length:\n",
    "        profile[\"preferred_response_length\"] = response_length\n",
    "    if interests:\n",
    "        profile[\"interest_areas\"] = interests\n"
   ]
  },
  {
   "cell_type": "markdown",
   "metadata": {},
   "source": [
    "# Optimize Memory Management"
   ]
  },
  {
   "cell_type": "code",
   "execution_count": 40,
   "metadata": {},
   "outputs": [],
   "source": [
    "# Limit memory length to relevant recent exchanges\n",
    "def manage_memory(query, user_id, max_exchanges=3):\n",
    "    profile = get_user_profile(user_id)\n",
    "    relevant_context = \"\\n\".join([context for context in context_history[-max_exchanges:] \n",
    "                                  if any(area in context for area in profile[\"interest_areas\"])])\n",
    "    return relevant_context\n"
   ]
  },
  {
   "cell_type": "markdown",
   "metadata": {},
   "source": [
    "# Intent Handling"
   ]
  },
  {
   "cell_type": "markdown",
   "metadata": {},
   "source": [
    "We’ll add a simple intent classification to help the chatbot recognize and respond to different types of user intents. Basic intents might include requests for:\n",
    "\n",
    "Advice: General guidance or recommendations.\n",
    "Visual Examples: Requests for images or visual aids.\n",
    "Detailed Explanations: In-depth responses for complex questions.\n",
    "Define Intent Detection\n",
    "For simplicity, we’ll use keywords to detect intents. For more robust intent classification, you could use a trained NLP model."
   ]
  },
  {
   "cell_type": "code",
   "execution_count": 41,
   "metadata": {},
   "outputs": [],
   "source": [
    "# Detect user intent based on keywords\n",
    "def detect_intent(query):\n",
    "    query = query.lower()\n",
    "    if any(word in query for word in [\"how\", \"what\", \"why\"]):\n",
    "        return \"advice\"\n",
    "    elif any(word in query for word in [\"show\", \"picture\", \"visual\", \"image\"]):\n",
    "        return \"visual_example\"\n",
    "    elif any(word in query for word in [\"explain\", \"detailed\", \"in-depth\"]):\n",
    "        return \"detailed_explanation\"\n",
    "    else:\n",
    "        return \"advice\"  # Default intent\n"
   ]
  },
  {
   "cell_type": "markdown",
   "metadata": {},
   "source": [
    "# Modify ask_agent to Use Personalization, Memory Management, and Intent Handling\n",
    "Update the main function to:\n",
    "\n",
    "Retrieve the user’s profile.\n",
    "Use the detected intent to adjust the response.\n",
    "Apply memory management to provide relevant context.\n"
   ]
  },
  {
   "cell_type": "code",
   "execution_count": 42,
   "metadata": {},
   "outputs": [],
   "source": [
    "from sklearn.metrics.pairwise import cosine_similarity\n",
    "\n",
    "# Mock storage for embeddings (use actual embeddings in a real setup)\n",
    "text_store = {}\n",
    "image_store = {}\n",
    "\n",
    "# Define `retrieve_documents` function\n",
    "def retrieve_documents(query, top_k=2):\n",
    "    # Embed the query using the same embedding function used for storing text and images\n",
    "    query_embedding = clip_embd.embed_documents([query])\n",
    "    \n",
    "    # Retrieve text embeddings\n",
    "    text_results = []\n",
    "    for item in text_store.values():\n",
    "        score = cosine_similarity(query_embedding, item[\"embedding\"]).flatten()[0]\n",
    "        text_results.append((score, item))\n",
    "    text_results = sorted(text_results, key=lambda x: x[0], reverse=True)[:top_k]\n",
    "    \n",
    "    # Retrieve image embeddings\n",
    "    image_results = []\n",
    "    for item in image_store.values():\n",
    "        score = cosine_similarity(query_embedding, item[\"embedding\"]).flatten()[0]\n",
    "        image_results.append((score, item))\n",
    "    image_results = sorted(image_results, key=lambda x: x[0], reverse=True)[:top_k]\n",
    "    \n",
    "    # Format the results\n",
    "    relevant_texts = [item[1] for item in text_results]\n",
    "    relevant_images = [item[1][\"metadata\"][\"source\"] for item in image_results]\n",
    "    \n",
    "    return relevant_texts, relevant_images\n"
   ]
  },
  {
   "cell_type": "code",
   "execution_count": 43,
   "metadata": {},
   "outputs": [
    {
     "name": "stdout",
     "output_type": "stream",
     "text": [
      "Collecting gradio\n",
      "  Downloading gradio-5.5.0-py3-none-any.whl.metadata (16 kB)\n",
      "Requirement already satisfied: aiofiles<24.0,>=22.0 in /usr/local/lib/python3.11/dist-packages (from gradio) (22.1.0)\n",
      "Requirement already satisfied: anyio<5.0,>=3.0 in /usr/local/lib/python3.11/dist-packages (from gradio) (4.2.0)\n",
      "Requirement already satisfied: fastapi<1.0,>=0.115.2 in /usr/local/lib/python3.11/dist-packages (from gradio) (0.115.4)\n",
      "Collecting ffmpy (from gradio)\n",
      "  Downloading ffmpy-0.4.0-py3-none-any.whl.metadata (2.9 kB)\n",
      "Collecting gradio-client==1.4.2 (from gradio)\n",
      "  Downloading gradio_client-1.4.2-py3-none-any.whl.metadata (7.1 kB)\n",
      "Requirement already satisfied: httpx>=0.24.1 in /usr/local/lib/python3.11/dist-packages (from gradio) (0.27.2)\n",
      "Requirement already satisfied: huggingface-hub>=0.25.1 in /usr/local/lib/python3.11/dist-packages (from gradio) (0.26.2)\n",
      "Requirement already satisfied: jinja2<4.0 in /usr/local/lib/python3.11/dist-packages (from gradio) (3.1.3)\n",
      "Requirement already satisfied: markupsafe~=2.0 in /usr/local/lib/python3.11/dist-packages (from gradio) (2.1.4)\n",
      "Requirement already satisfied: numpy<3.0,>=1.0 in /usr/local/lib/python3.11/dist-packages (from gradio) (1.26.3)\n",
      "Requirement already satisfied: orjson~=3.0 in /usr/local/lib/python3.11/dist-packages (from gradio) (3.10.11)\n",
      "Requirement already satisfied: packaging in /usr/local/lib/python3.11/dist-packages (from gradio) (23.2)\n",
      "Requirement already satisfied: pandas<3.0,>=1.0 in /usr/local/lib/python3.11/dist-packages (from gradio) (2.2.0)\n",
      "Requirement already satisfied: pillow<12.0,>=8.0 in /usr/local/lib/python3.11/dist-packages (from gradio) (11.0.0)\n",
      "Requirement already satisfied: pydantic>=2.0 in /usr/local/lib/python3.11/dist-packages (from gradio) (2.9.2)\n",
      "Collecting pydub (from gradio)\n",
      "  Downloading pydub-0.25.1-py2.py3-none-any.whl.metadata (1.4 kB)\n",
      "Collecting python-multipart==0.0.12 (from gradio)\n",
      "  Downloading python_multipart-0.0.12-py3-none-any.whl.metadata (1.9 kB)\n",
      "Requirement already satisfied: pyyaml<7.0,>=5.0 in /usr/local/lib/python3.11/dist-packages (from gradio) (6.0.2)\n",
      "Collecting ruff>=0.2.2 (from gradio)\n",
      "  Downloading ruff-0.7.2-py3-none-manylinux_2_17_x86_64.manylinux2014_x86_64.whl.metadata (25 kB)\n",
      "Collecting safehttpx<1.0,>=0.1.1 (from gradio)\n",
      "  Downloading safehttpx-0.1.1-py3-none-any.whl.metadata (4.1 kB)\n",
      "Collecting semantic-version~=2.0 (from gradio)\n",
      "  Downloading semantic_version-2.10.0-py2.py3-none-any.whl.metadata (9.7 kB)\n",
      "Requirement already satisfied: starlette<1.0,>=0.40.0 in /usr/local/lib/python3.11/dist-packages (from gradio) (0.41.2)\n",
      "Collecting tomlkit==0.12.0 (from gradio)\n",
      "  Downloading tomlkit-0.12.0-py3-none-any.whl.metadata (2.7 kB)\n",
      "Collecting typer<1.0,>=0.12 (from gradio)\n",
      "  Downloading typer-0.12.5-py3-none-any.whl.metadata (15 kB)\n",
      "Requirement already satisfied: typing-extensions~=4.0 in /usr/local/lib/python3.11/dist-packages (from gradio) (4.12.2)\n",
      "Requirement already satisfied: uvicorn>=0.14.0 in /usr/local/lib/python3.11/dist-packages (from gradio) (0.32.0)\n",
      "Requirement already satisfied: fsspec in /usr/local/lib/python3.11/dist-packages (from gradio-client==1.4.2->gradio) (2023.6.0)\n",
      "Collecting websockets<13.0,>=10.0 (from gradio-client==1.4.2->gradio)\n",
      "  Downloading websockets-12.0-cp311-cp311-manylinux_2_5_x86_64.manylinux1_x86_64.manylinux_2_17_x86_64.manylinux2014_x86_64.whl.metadata (6.6 kB)\n",
      "Requirement already satisfied: idna>=2.8 in /usr/lib/python3/dist-packages (from anyio<5.0,>=3.0->gradio) (3.3)\n",
      "Requirement already satisfied: sniffio>=1.1 in /usr/local/lib/python3.11/dist-packages (from anyio<5.0,>=3.0->gradio) (1.3.0)\n",
      "Requirement already satisfied: certifi in /usr/lib/python3/dist-packages (from httpx>=0.24.1->gradio) (2020.6.20)\n",
      "Requirement already satisfied: httpcore==1.* in /usr/local/lib/python3.11/dist-packages (from httpx>=0.24.1->gradio) (1.0.6)\n",
      "Requirement already satisfied: h11<0.15,>=0.13 in /usr/local/lib/python3.11/dist-packages (from httpcore==1.*->httpx>=0.24.1->gradio) (0.14.0)\n",
      "Requirement already satisfied: filelock in /usr/local/lib/python3.11/dist-packages (from huggingface-hub>=0.25.1->gradio) (3.13.1)\n",
      "Requirement already satisfied: requests in /usr/local/lib/python3.11/dist-packages (from huggingface-hub>=0.25.1->gradio) (2.31.0)\n",
      "Requirement already satisfied: tqdm>=4.42.1 in /usr/local/lib/python3.11/dist-packages (from huggingface-hub>=0.25.1->gradio) (4.66.1)\n",
      "Requirement already satisfied: python-dateutil>=2.8.2 in /usr/local/lib/python3.11/dist-packages (from pandas<3.0,>=1.0->gradio) (2.8.2)\n",
      "Requirement already satisfied: pytz>=2020.1 in /usr/lib/python3/dist-packages (from pandas<3.0,>=1.0->gradio) (2022.1)\n",
      "Requirement already satisfied: tzdata>=2022.7 in /usr/local/lib/python3.11/dist-packages (from pandas<3.0,>=1.0->gradio) (2023.4)\n",
      "Requirement already satisfied: annotated-types>=0.6.0 in /usr/local/lib/python3.11/dist-packages (from pydantic>=2.0->gradio) (0.7.0)\n",
      "Requirement already satisfied: pydantic-core==2.23.4 in /usr/local/lib/python3.11/dist-packages (from pydantic>=2.0->gradio) (2.23.4)\n",
      "Requirement already satisfied: click>=8.0.0 in /usr/local/lib/python3.11/dist-packages (from typer<1.0,>=0.12->gradio) (8.1.7)\n",
      "Requirement already satisfied: shellingham>=1.3.0 in /usr/local/lib/python3.11/dist-packages (from typer<1.0,>=0.12->gradio) (1.5.4)\n",
      "Requirement already satisfied: rich>=10.11.0 in /usr/local/lib/python3.11/dist-packages (from typer<1.0,>=0.12->gradio) (13.9.4)\n",
      "Requirement already satisfied: six>=1.5 in /usr/lib/python3/dist-packages (from python-dateutil>=2.8.2->pandas<3.0,>=1.0->gradio) (1.16.0)\n",
      "Requirement already satisfied: markdown-it-py>=2.2.0 in /usr/local/lib/python3.11/dist-packages (from rich>=10.11.0->typer<1.0,>=0.12->gradio) (3.0.0)\n",
      "Requirement already satisfied: pygments<3.0.0,>=2.13.0 in /usr/local/lib/python3.11/dist-packages (from rich>=10.11.0->typer<1.0,>=0.12->gradio) (2.17.2)\n",
      "Requirement already satisfied: charset-normalizer<4,>=2 in /usr/local/lib/python3.11/dist-packages (from requests->huggingface-hub>=0.25.1->gradio) (3.3.2)\n",
      "Requirement already satisfied: urllib3<3,>=1.21.1 in /usr/local/lib/python3.11/dist-packages (from requests->huggingface-hub>=0.25.1->gradio) (2.0.7)\n",
      "Requirement already satisfied: mdurl~=0.1 in /usr/local/lib/python3.11/dist-packages (from markdown-it-py>=2.2.0->rich>=10.11.0->typer<1.0,>=0.12->gradio) (0.1.2)\n",
      "Downloading gradio-5.5.0-py3-none-any.whl (56.7 MB)\n",
      "\u001b[2K   \u001b[90m━━━━━━━━━━━━━━━━━━━━━━━━━━━━━━━━━━━━━━━━\u001b[0m \u001b[32m56.7/56.7 MB\u001b[0m \u001b[31m58.2 MB/s\u001b[0m eta \u001b[36m0:00:00\u001b[0m:00:01\u001b[0m00:01\u001b[0m\n",
      "\u001b[?25hDownloading gradio_client-1.4.2-py3-none-any.whl (319 kB)\n",
      "\u001b[2K   \u001b[90m━━━━━━━━━━━━━━━━━━━━━━━━━━━━━━━━━━━━━━━━\u001b[0m \u001b[32m319.8/319.8 kB\u001b[0m \u001b[31m59.0 MB/s\u001b[0m eta \u001b[36m0:00:00\u001b[0m\n",
      "\u001b[?25hDownloading python_multipart-0.0.12-py3-none-any.whl (23 kB)\n",
      "Downloading tomlkit-0.12.0-py3-none-any.whl (37 kB)\n",
      "Downloading ruff-0.7.2-py3-none-manylinux_2_17_x86_64.manylinux2014_x86_64.whl (11.0 MB)\n",
      "\u001b[2K   \u001b[90m━━━━━━━━━━━━━━━━━━━━━━━━━━━━━━━━━━━━━━━━\u001b[0m \u001b[32m11.0/11.0 MB\u001b[0m \u001b[31m153.5 MB/s\u001b[0m eta \u001b[36m0:00:00\u001b[0m00:01\u001b[0m0:01\u001b[0m\n",
      "\u001b[?25hDownloading safehttpx-0.1.1-py3-none-any.whl (8.4 kB)\n",
      "Downloading semantic_version-2.10.0-py2.py3-none-any.whl (15 kB)\n",
      "Downloading typer-0.12.5-py3-none-any.whl (47 kB)\n",
      "\u001b[2K   \u001b[90m━━━━━━━━━━━━━━━━━━━━━━━━━━━━━━━━━━━━━━━━\u001b[0m \u001b[32m47.3/47.3 kB\u001b[0m \u001b[31m12.0 MB/s\u001b[0m eta \u001b[36m0:00:00\u001b[0m\n",
      "\u001b[?25hDownloading ffmpy-0.4.0-py3-none-any.whl (5.8 kB)\n",
      "Downloading pydub-0.25.1-py2.py3-none-any.whl (32 kB)\n",
      "Downloading websockets-12.0-cp311-cp311-manylinux_2_5_x86_64.manylinux1_x86_64.manylinux_2_17_x86_64.manylinux2014_x86_64.whl (130 kB)\n",
      "\u001b[2K   \u001b[90m━━━━━━━━━━━━━━━━━━━━━━━━━━━━━━━━━━━━━━━━\u001b[0m \u001b[32m130.9/130.9 kB\u001b[0m \u001b[31m36.4 MB/s\u001b[0m eta \u001b[36m0:00:00\u001b[0m\n",
      "\u001b[?25hInstalling collected packages: pydub, websockets, tomlkit, semantic-version, ruff, python-multipart, ffmpy, typer, safehttpx, gradio-client, gradio\n",
      "  Attempting uninstall: websockets\n",
      "    Found existing installation: websockets 13.1\n",
      "    Uninstalling websockets-13.1:\n",
      "      Successfully uninstalled websockets-13.1\n",
      "  Attempting uninstall: typer\n",
      "    Found existing installation: typer 0.9.0\n",
      "    Uninstalling typer-0.9.0:\n",
      "      Successfully uninstalled typer-0.9.0\n",
      "\u001b[31mERROR: pip's dependency resolver does not currently take into account all the packages that are installed. This behaviour is the source of the following dependency conflicts.\n",
      "spacy 3.6.1 requires typer<0.10.0,>=0.3.0, but you have typer 0.12.5 which is incompatible.\u001b[0m\u001b[31m\n",
      "\u001b[0mSuccessfully installed ffmpy-0.4.0 gradio-5.5.0 gradio-client-1.4.2 pydub-0.25.1 python-multipart-0.0.12 ruff-0.7.2 safehttpx-0.1.1 semantic-version-2.10.0 tomlkit-0.12.0 typer-0.12.5 websockets-12.0\n",
      "\u001b[33mWARNING: Running pip as the 'root' user can result in broken permissions and conflicting behaviour with the system package manager. It is recommended to use a virtual environment instead: https://pip.pypa.io/warnings/venv\u001b[0m\u001b[33m\n",
      "\u001b[0mNote: you may need to restart the kernel to use updated packages.\n",
      "Collecting SpeechRecognition\n",
      "  Downloading SpeechRecognition-3.11.0-py2.py3-none-any.whl.metadata (28 kB)\n",
      "Requirement already satisfied: requests>=2.26.0 in /usr/local/lib/python3.11/dist-packages (from SpeechRecognition) (2.31.0)\n",
      "Requirement already satisfied: typing-extensions in /usr/local/lib/python3.11/dist-packages (from SpeechRecognition) (4.12.2)\n",
      "Requirement already satisfied: charset-normalizer<4,>=2 in /usr/local/lib/python3.11/dist-packages (from requests>=2.26.0->SpeechRecognition) (3.3.2)\n",
      "Requirement already satisfied: idna<4,>=2.5 in /usr/lib/python3/dist-packages (from requests>=2.26.0->SpeechRecognition) (3.3)\n",
      "Requirement already satisfied: urllib3<3,>=1.21.1 in /usr/local/lib/python3.11/dist-packages (from requests>=2.26.0->SpeechRecognition) (2.0.7)\n",
      "Requirement already satisfied: certifi>=2017.4.17 in /usr/lib/python3/dist-packages (from requests>=2.26.0->SpeechRecognition) (2020.6.20)\n",
      "Downloading SpeechRecognition-3.11.0-py2.py3-none-any.whl (32.8 MB)\n",
      "\u001b[2K   \u001b[90m━━━━━━━━━━━━━━━━━━━━━━━━━━━━━━━━━━━━━━━━\u001b[0m \u001b[32m32.8/32.8 MB\u001b[0m \u001b[31m69.1 MB/s\u001b[0m eta \u001b[36m0:00:00\u001b[0m:00:01\u001b[0m00:01\u001b[0m\n",
      "\u001b[?25hInstalling collected packages: SpeechRecognition\n",
      "Successfully installed SpeechRecognition-3.11.0\n",
      "\u001b[33mWARNING: Running pip as the 'root' user can result in broken permissions and conflicting behaviour with the system package manager. It is recommended to use a virtual environment instead: https://pip.pypa.io/warnings/venv\u001b[0m\u001b[33m\n",
      "\u001b[0mNote: you may need to restart the kernel to use updated packages.\n",
      "Collecting gTTS\n",
      "  Downloading gTTS-2.5.3-py3-none-any.whl.metadata (4.1 kB)\n",
      "Requirement already satisfied: requests<3,>=2.27 in /usr/local/lib/python3.11/dist-packages (from gTTS) (2.31.0)\n",
      "Requirement already satisfied: click<8.2,>=7.1 in /usr/local/lib/python3.11/dist-packages (from gTTS) (8.1.7)\n",
      "Requirement already satisfied: charset-normalizer<4,>=2 in /usr/local/lib/python3.11/dist-packages (from requests<3,>=2.27->gTTS) (3.3.2)\n",
      "Requirement already satisfied: idna<4,>=2.5 in /usr/lib/python3/dist-packages (from requests<3,>=2.27->gTTS) (3.3)\n",
      "Requirement already satisfied: urllib3<3,>=1.21.1 in /usr/local/lib/python3.11/dist-packages (from requests<3,>=2.27->gTTS) (2.0.7)\n",
      "Requirement already satisfied: certifi>=2017.4.17 in /usr/lib/python3/dist-packages (from requests<3,>=2.27->gTTS) (2020.6.20)\n",
      "Downloading gTTS-2.5.3-py3-none-any.whl (29 kB)\n",
      "Installing collected packages: gTTS\n",
      "Successfully installed gTTS-2.5.3\n",
      "\u001b[33mWARNING: Running pip as the 'root' user can result in broken permissions and conflicting behaviour with the system package manager. It is recommended to use a virtual environment instead: https://pip.pypa.io/warnings/venv\u001b[0m\u001b[33m\n",
      "\u001b[0mNote: you may need to restart the kernel to use updated packages.\n"
     ]
    }
   ],
   "source": [
    "%pip install --upgrade gradio\n",
    "%pip install SpeechRecognition\n",
    "%pip install gTTS\n",
    "\n",
    "\n"
   ]
  },
  {
   "cell_type": "markdown",
   "metadata": {},
   "source": [
    "# Gradio deployment"
   ]
  },
  {
   "cell_type": "code",
   "execution_count": 47,
   "metadata": {},
   "outputs": [
    {
     "ename": "ModuleNotFoundError",
     "evalue": "No module named 'main'",
     "output_type": "error",
     "traceback": [
      "\u001b[0;31m---------------------------------------------------------------------------\u001b[0m",
      "\u001b[0;31mModuleNotFoundError\u001b[0m                       Traceback (most recent call last)",
      "Cell \u001b[0;32mIn[47], line 5\u001b[0m\n\u001b[1;32m      3\u001b[0m \u001b[38;5;28;01mfrom\u001b[39;00m \u001b[38;5;21;01mgtts\u001b[39;00m \u001b[38;5;28;01mimport\u001b[39;00m gTTS\n\u001b[1;32m      4\u001b[0m \u001b[38;5;28;01mimport\u001b[39;00m \u001b[38;5;21;01mtempfile\u001b[39;00m\n\u001b[0;32m----> 5\u001b[0m \u001b[38;5;28;01mfrom\u001b[39;00m \u001b[38;5;21;01mmain\u001b[39;00m \u001b[38;5;28;01mimport\u001b[39;00m ask_agent  \u001b[38;5;66;03m# Import the ask_agent function\u001b[39;00m\n\u001b[1;32m      7\u001b[0m \u001b[38;5;66;03m# Convert audio to text using Google Speech Recognition\u001b[39;00m\n\u001b[1;32m      8\u001b[0m \u001b[38;5;28;01mdef\u001b[39;00m \u001b[38;5;21maudio_to_text\u001b[39m(audio_file):\n",
      "\u001b[0;31mModuleNotFoundError\u001b[0m: No module named 'main'"
     ]
    }
   ],
   "source": [
    "import gradio as gr\n",
    "import speech_recognition as sr\n",
    "from gtts import gTTS\n",
    "import tempfile\n",
    "from main import ask_agent  # Import the ask_agent function\n",
    "\n",
    "# Convert audio to text using Google Speech Recognition\n",
    "def audio_to_text(audio_file):\n",
    "    recognizer = sr.Recognizer()\n",
    "    with sr.AudioFile(audio_file) as source:\n",
    "        audio_data = recognizer.record(source)\n",
    "        try:\n",
    "            text = recognizer.recognize_google(audio_data)\n",
    "            return text\n",
    "        except sr.UnknownValueError:\n",
    "            return \"Sorry, I could not understand the audio.\"\n",
    "        except sr.RequestError:\n",
    "            return \"Could not request results; check your internet connection.\"\n",
    "\n",
    "# Convert text to speech using gTTS\n",
    "def text_to_speech_gtts(text):\n",
    "    tts = gTTS(text=text, lang='en')\n",
    "    with tempfile.NamedTemporaryFile(delete=False, suffix=\".mp3\") as fp:\n",
    "        tts.save(fp.name)\n",
    "        return fp.name\n",
    "\n",
    "# Handle user input for Gradio interface\n",
    "def handle_input(input_text=None, audio_file=None):\n",
    "    # Transcribe audio if provided, otherwise use text input\n",
    "    if audio_file is not None:\n",
    "        transcribed_text = audio_to_text(audio_file)\n",
    "        if transcribed_text.startswith(\"Sorry\"):\n",
    "            return transcribed_text, None  # Handle failed transcription\n",
    "    else:\n",
    "        transcribed_text = input_text  # Use provided text input if no audio\n",
    "\n",
    "    # Process the input using ask_agent\n",
    "    response_text = ask_agent(transcribed_text, user_id=\"default_user\")\n",
    "    \n",
    "    # Convert response to audio\n",
    "    audio_response = text_to_speech_gtts(response_text)\n",
    "    return response_text, audio_response\n",
    "\n",
    "# Create Gradio interface\n",
    "iface = gr.Interface(\n",
    "    fn=handle_input,\n",
    "    inputs=[\n",
    "        gr.Textbox(placeholder=\"Type your question here...\", label=\"Text Input\"),\n",
    "        gr.Audio(type=\"filepath\", label=\"Or speak your question\")\n",
    "    ],\n",
    "    outputs=[\n",
    "        gr.Textbox(label=\"Cat Expert's Response\"),\n",
    "        gr.Audio(label=\"Spoken Response\")\n",
    "    ],\n",
    "    title=\"Cat Behavior Expert Chatbot\",\n",
    "    description=\"Ask questions about cat behavior, either by typing or speaking.\",\n",
    ")\n",
    "\n",
    "# Launch the interface\n",
    "iface.launch(share=True)\n"
   ]
  },
  {
   "cell_type": "markdown",
   "metadata": {},
   "source": [
    "import gradio as gr\n",
    "import speech_recognition as sr\n",
    "from gtts import gTTS\n",
    "import tempfile\n",
    "from main import ask_agent  # Import the ask_agent function\n",
    "\n",
    "# Convert audio to text using Google Speech Recognition\n",
    "def audio_to_text(audio_file):\n",
    "    recognizer = sr.Recognizer()\n",
    "    with sr.AudioFile(audio_file) as source:\n",
    "        audio_data = recognizer.record(source)\n",
    "        try:\n",
    "            text = recognizer.recognize_google(audio_data)\n",
    "            return text\n",
    "        except sr.UnknownValueError:\n",
    "            return \"Sorry, I could not understand the audio.\"\n",
    "        except sr.RequestError:\n",
    "            return \"Could not request results; check your internet connection.\"\n",
    "\n",
    "# Convert text to speech using gTTS\n",
    "def text_to_speech_gtts(text):\n",
    "    tts = gTTS(text=text, lang='en')\n",
    "    with tempfile.NamedTemporaryFile(delete=False, suffix=\".mp3\") as fp:\n",
    "        tts.save(fp.name)\n",
    "        return fp.name\n",
    "\n",
    "# Handle user input for Gradio interface\n",
    "def handle_input(input_text=None, audio_file=None):\n",
    "    # Transcribe audio if provided, otherwise use text input\n",
    "    if audio_file is not None:\n",
    "        transcribed_text = audio_to_text(audio_file)\n",
    "        if transcribed_text.startswith(\"Sorry\"):\n",
    "            return transcribed_text, None  # Handle failed transcription\n",
    "    else:\n",
    "        transcribed_text = input_text  # Use provided text input if no audio\n",
    "\n",
    "    # Process the input using ask_agent\n",
    "    response_text = ask_agent(transcribed_text, user_id=\"default_user\")\n",
    "    \n",
    "    # Convert response to audio\n",
    "    audio_response = text_to_speech_gtts(response_text)\n",
    "    return response_text, audio_response\n",
    "\n",
    "# Create Gradio interface\n",
    "iface = gr.Interface(\n",
    "    fn=handle_input,\n",
    "    inputs=[\n",
    "        gr.Textbox(placeholder=\"Type your question here...\", label=\"Text Input\"),\n",
    "        gr.Audio(type=\"filepath\", label=\"Or speak your question\")\n",
    "    ],\n",
    "    outputs=[\n",
    "        gr.Textbox(label=\"Cat Expert's Response\"),\n",
    "        gr.Audio(label=\"Spoken Response\")\n",
    "    ],\n",
    "    title=\"Cat Behavior Expert Chatbot\",\n",
    "    description=\"Ask questions about cat behavior, either by typing or speaking.\",\n",
    ")\n",
    "\n",
    "# Launch the interface\n",
    "iface.launch(share=True)\n"
   ]
  }
 ],
 "metadata": {
  "kernelspec": {
   "display_name": "Python 3 (ipykernel)",
   "language": "python",
   "name": "python3"
  },
  "language_info": {
   "codemirror_mode": {
    "name": "ipython",
    "version": 3
   },
   "file_extension": ".py",
   "mimetype": "text/x-python",
   "name": "python",
   "nbconvert_exporter": "python",
   "pygments_lexer": "ipython3",
   "version": "3.11.7"
  }
 },
 "nbformat": 4,
 "nbformat_minor": 2
}
